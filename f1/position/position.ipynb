{
 "cells": [
  {
   "cell_type": "code",
   "execution_count": 5,
   "metadata": {},
   "outputs": [
    {
     "name": "stdout",
     "output_type": "stream",
     "text": [
      "/Users/adobles/projects/snap/relbench-user-study\n"
     ]
    }
   ],
   "source": [
    "cd ../.."
   ]
  },
  {
   "cell_type": "markdown",
   "metadata": {},
   "source": [
    "## Feature Ideas\n",
    "\n",
    "### Basic Features\n",
    "- Driver features:\n",
    "    - `driver_ref`: Categorical identifier for driver\n",
    "    - `driver_age`\n",
    "    - `driver_nationality`\n",
    "- Driver (current) standings:\n",
    "    - `driver_position`\n",
    "    - `driver_points`\n",
    "    - `driver_wins`\n",
    "    - `driver_points_lag`: Point difference with driver ahead\n",
    "    - `driver_points_lead`: Point difference with driver behind\n",
    "    - `days_since_last_race`\n",
    "- Constructor features:\n",
    "    - `constructor_ref`: Categorical identifier for constructor\n",
    "    - `constructor_nationality`\n",
    "- Constructor (current) standings:\n",
    "    - `constructor_position`\n",
    "    - `constructor_points`\n",
    "    - `constructor_wins`\n",
    "    - `constructor_points_lag`: Point difference with constructor ahead\n",
    "    - `constructor_points_lead`: Point difference with constructor behind\n",
    "- Driver contribution:\n",
    "    - `position_diff`: Difference in position of driver and constructor\n",
    "    - `points_ratio`: How many of the constructor's points come from this driver\n",
    "    - `wins_ratio`: How many of constructor's wins come from this driver\n",
    "\n",
    "\n",
    "### Past Race Features\n",
    "- For each of the past 3 races:\n",
    "    - `driver_position`\n",
    "    - `driver_points`\n",
    "    - `driver_grid`\n",
    "    - `position_gain`\n",
    "    - `driver_rank`\n",
    "    - `pct_laps_completed`\n",
    "    - `dnf`\n",
    "    - `constructor_points`\n",
    "\n",
    "### Upcoming Race Features\n",
    "- For the upcoming 3 races:\n",
    "    - `round`\n",
    "    - `circuitId`: Categorical identifier for the circuit"
   ]
  },
  {
   "cell_type": "code",
   "execution_count": 6,
   "metadata": {},
   "outputs": [],
   "source": [
    "import duckdb\n",
    "from torch_frame.utils import infer_df_stype\n",
    "\n",
    "import utils\n",
    "\n",
    "conn = duckdb.connect('f1/f1.db')\n",
    "%load_ext sql\n",
    "%sql conn --alias duckdb\n",
    "%config SqlMagic.displaycon=False\n",
    "%config SqlMagic.autopandas=True"
   ]
  },
  {
   "cell_type": "code",
   "execution_count": 53,
   "metadata": {},
   "outputs": [
    {
     "name": "stdout",
     "output_type": "stream",
     "text": [
      "Creating train table\n",
      "train table created\n",
      "Creating val table\n",
      "val table created\n",
      "Creating test table\n",
      "test table created\n"
     ]
    }
   ],
   "source": [
    "with open('f1/position/feats.sql', 'r') as f:\n",
    "    # run once with train_labels and once with val_labels\n",
    "    template = f.read()\n",
    "\n",
    "# create train, val and test features\n",
    "# takes 1 - 5 mins\n",
    "for s in ['train', 'val', 'test']:\n",
    "    print(f'Creating {s} table')\n",
    "    query = utils.render_jinja_sql(template, dict(set=s, subsample=0))\n",
    "    conn.sql(query)\n",
    "    print(f'{s} table created')"
   ]
  },
  {
   "cell_type": "code",
   "execution_count": 54,
   "metadata": {},
   "outputs": [
    {
     "name": "stdout",
     "output_type": "stream",
     "text": [
      "Validating train\n",
      "train labels size: 7,453 x 3\n",
      "train feats size: 7,453 x 53\n",
      "\n",
      "Validating val\n",
      "val labels size: 499 x 3\n",
      "val feats size: 499 x 53\n",
      "\n",
      "Validating test\n",
      "test labels size: 760 x 2\n",
      "test feats size: 760 x 52\n",
      "\n",
      "✅ All tables are valid!\n"
     ]
    }
   ],
   "source": [
    "utils.validate_feature_tables('position', conn)"
   ]
  },
  {
   "cell_type": "code",
   "execution_count": 6,
   "metadata": {},
   "outputs": [],
   "source": [
    "%%sql train_df <<\n",
    "from position_train_feats"
   ]
  },
  {
   "cell_type": "code",
   "execution_count": 7,
   "metadata": {},
   "outputs": [
    {
     "data": {
      "text/plain": [
       "{'driverId': <stype.numerical: 'numerical'>,\n",
       " 'date': <stype.timestamp: 'timestamp'>,\n",
       " 'position': <stype.numerical: 'numerical'>,\n",
       " 'week_of_year': <stype.categorical: 'categorical'>,\n",
       " 'driver_ref': <stype.text_embedded: 'text_embedded'>,\n",
       " 'driver_age': <stype.numerical: 'numerical'>,\n",
       " 'driver_nationality': <stype.text_embedded: 'text_embedded'>,\n",
       " 'driver_position': <stype.numerical: 'numerical'>,\n",
       " 'driver_points': <stype.numerical: 'numerical'>,\n",
       " 'driver_wins': <stype.numerical: 'numerical'>,\n",
       " 'driver_points_lag': <stype.numerical: 'numerical'>,\n",
       " 'driver_points_lead': <stype.numerical: 'numerical'>,\n",
       " 'days_since_last_race': <stype.numerical: 'numerical'>,\n",
       " 'constructor_ref': <stype.text_embedded: 'text_embedded'>,\n",
       " 'constructor_nationality': <stype.text_embedded: 'text_embedded'>,\n",
       " 'constructor_position': <stype.numerical: 'numerical'>,\n",
       " 'constructor_points': <stype.numerical: 'numerical'>,\n",
       " 'constructor_wins': <stype.numerical: 'numerical'>,\n",
       " 'constructor_points_lag': <stype.numerical: 'numerical'>,\n",
       " 'constructor_points_lead': <stype.numerical: 'numerical'>,\n",
       " 'position_diff': <stype.numerical: 'numerical'>,\n",
       " 'points_ratio': <stype.numerical: 'numerical'>,\n",
       " 'wins_ratio': <stype.numerical: 'numerical'>,\n",
       " 'past_1_driver_position': <stype.numerical: 'numerical'>,\n",
       " 'past_1_driver_points': <stype.numerical: 'numerical'>,\n",
       " 'past_1_driver_grid': <stype.numerical: 'numerical'>,\n",
       " 'past_1_position_gain': <stype.numerical: 'numerical'>,\n",
       " 'past_1_driver_rank': <stype.numerical: 'numerical'>,\n",
       " 'past_1_pct_laps_completed': <stype.numerical: 'numerical'>,\n",
       " 'past_1_dnf': <stype.categorical: 'categorical'>,\n",
       " 'past_1_constructor_points': <stype.numerical: 'numerical'>,\n",
       " 'upcoming_1_round': <stype.categorical: 'categorical'>,\n",
       " 'upcoming_1_circuit_id': <stype.categorical: 'categorical'>,\n",
       " 'past_2_driver_position': <stype.numerical: 'numerical'>,\n",
       " 'past_2_driver_points': <stype.numerical: 'numerical'>,\n",
       " 'past_2_driver_grid': <stype.numerical: 'numerical'>,\n",
       " 'past_2_position_gain': <stype.numerical: 'numerical'>,\n",
       " 'past_2_driver_rank': <stype.numerical: 'numerical'>,\n",
       " 'past_2_pct_laps_completed': <stype.numerical: 'numerical'>,\n",
       " 'past_2_dnf': <stype.categorical: 'categorical'>,\n",
       " 'past_2_constructor_points': <stype.numerical: 'numerical'>,\n",
       " 'upcoming_2_round': <stype.categorical: 'categorical'>,\n",
       " 'upcoming_2_circuit_id': <stype.categorical: 'categorical'>,\n",
       " 'past_3_driver_position': <stype.numerical: 'numerical'>,\n",
       " 'past_3_driver_points': <stype.numerical: 'numerical'>,\n",
       " 'past_3_driver_grid': <stype.numerical: 'numerical'>,\n",
       " 'past_3_position_gain': <stype.numerical: 'numerical'>,\n",
       " 'past_3_driver_rank': <stype.numerical: 'numerical'>,\n",
       " 'past_3_pct_laps_completed': <stype.numerical: 'numerical'>,\n",
       " 'past_3_dnf': <stype.categorical: 'categorical'>,\n",
       " 'past_3_constructor_points': <stype.numerical: 'numerical'>,\n",
       " 'upcoming_3_round': <stype.categorical: 'categorical'>,\n",
       " 'upcoming_3_circuit_id': <stype.categorical: 'categorical'>}"
      ]
     },
     "execution_count": 7,
     "metadata": {},
     "output_type": "execute_result"
    }
   ],
   "source": [
    "infer_df_stype(train_df)"
   ]
  },
  {
   "cell_type": "markdown",
   "metadata": {},
   "source": [
    "## Feature Importances"
   ]
  },
  {
   "cell_type": "code",
   "execution_count": 1,
   "metadata": {},
   "outputs": [
    {
     "name": "stderr",
     "output_type": "stream",
     "text": [
      "/Users/adobles/opt/anaconda3/envs/relbench/lib/python3.11/site-packages/tqdm/auto.py:21: TqdmWarning: IProgress not found. Please update jupyter and ipywidgets. See https://ipywidgets.readthedocs.io/en/stable/user_install.html\n",
      "  from .autonotebook import tqdm as notebook_tqdm\n"
     ]
    }
   ],
   "source": [
    "import shap\n",
    "from torch_frame.gbdt import LightGBM\n",
    "from torch_frame import TaskType, stype\n",
    "\n",
    "from inferred_stypes import task_to_stypes\n",
    "from train_gbdt import TASK_PARAMS\n",
    "\n",
    "TASK = 'rel-f1-position'\n",
    "\n",
    "task_params = TASK_PARAMS[TASK]"
   ]
  },
  {
   "cell_type": "code",
   "execution_count": null,
   "metadata": {},
   "outputs": [],
   "source": [
    "%%train_df <<\n",
    "select * from position_train_feats;"
   ]
  },
  {
   "cell_type": "code",
   "execution_count": 1,
   "metadata": {},
   "outputs": [
    {
     "name": "stderr",
     "output_type": "stream",
     "text": [
      "UsageError: Cell magic `%%sql` not found.\n"
     ]
    }
   ],
   "source": [
    "%%sql val_df <<\n",
    "select * from position_val_feats;"
   ]
  },
  {
   "cell_type": "code",
   "execution_count": null,
   "metadata": {},
   "outputs": [],
   "source": [
    "train_dset = Dataset(\n",
    "    train_df,\n",
    "    col_to_stype=task_to_stypes[TASK],\n",
    "    target_col=task_params['target_col'],\n",
    ").materialize()\n",
    "val_tf = train_dset.convert_to_tensor_frame(val_df)"
   ]
  },
  {
   "cell_type": "code",
   "execution_count": 8,
   "metadata": {},
   "outputs": [],
   "source": [
    "gbdt = LightGBM(task_type=task_params['task_type']).load(f'models/{TASK}_lgbm.json')\n",
    "pred = gbdt.predict(tf_test=val_tf).numpy()"
   ]
  },
  {
   "cell_type": "code",
   "execution_count": null,
   "metadata": {},
   "outputs": [],
   "source": [
    "shap.initjs()\n",
    "explainer = shap.TreeExplainer(gbdt.model)\n",
    "\n",
    "val_arr, _, _ = gbdt._to_lightgbm_input(val_tf[:10_000])\n",
    "shap_values = explainer.shap_values(val_arr, pred[:10_000])\n",
    "\n",
    "# TODO verify\n",
    "feat_names = val_tf.col_names_dict.get(stype.categorical, []) + val_tf.col_names_dict[stype.numerical]\n",
    "\n",
    "shap.summary_plot(shap_values, val_arr, plot_type='violin', max_display=30, feature_names=feat_names)"
   ]
  }
 ],
 "metadata": {
  "kernelspec": {
   "display_name": "relbench",
   "language": "python",
   "name": "python3"
  },
  "language_info": {
   "codemirror_mode": {
    "name": "ipython",
    "version": 3
   },
   "file_extension": ".py",
   "mimetype": "text/x-python",
   "name": "python",
   "nbconvert_exporter": "python",
   "pygments_lexer": "ipython3",
   "version": "3.11.8"
  }
 },
 "nbformat": 4,
 "nbformat_minor": 2
}
