{
 "cells": [
  {
   "cell_type": "code",
   "execution_count": 1,
   "metadata": {},
   "outputs": [
    {
     "name": "stdout",
     "output_type": "stream",
     "text": [
      "/Users/adobles/projects/snap/relbench-user-study/amazon\n"
     ]
    }
   ],
   "source": [
    "cd .."
   ]
  },
  {
   "cell_type": "markdown",
   "metadata": {},
   "source": [
    "## Feature Set\n",
    "\n",
    "- `weeks_since_first_review`\n",
    "- `num_reviews`\n",
    "- `sum_review_ratings`\n",
    "- `avg_review_length`\n",
    "- `last_review_weeks_ago`\n",
    "- `last_review_summary_text`: Embedding\n",
    "- `last_reviewed_product_title`: Embedding\n",
    "- `last_reviewed_product_category`\n",
    "- `last_review_is_verified`\n",
    "- `avg_review_rating`\n",
    "- `pct_verified_reviews`\n",
    "- `std_review_rating`\n",
    "- `min_review_rating`\n",
    "- `max_review_rating`\n",
    "- `avg_reviewed_product_rating`\n",
    "- `sum_reviewed_product_rating`\n",
    "- `std_reviewed_product_rating`\n",
    "- `min_reviewed_product_rating`\n",
    "- `max_reviewed_product_rating`\n",
    "- `avg_reviewed_product_price`\n",
    "- `sum_reviewed_product_price`\n",
    "- `std_reviewed_product_price`\n",
    "- `min_reviewed_product_price`\n",
    "- `max_reviewed_product_price`\n",
    "- `reviewed_product_modal_category`\n",
    "- `user_bias`: average over products the user reviewed of user's_review - avg_product_review / std_product review\n",
    "- trend stuff: avg value in last 6 months - avg value in previous 6 month window\n",
    "    - `num_reviews_trend`\n",
    "    - `avg_rating_trend`\n",
    "    - `avg_price_trend`\n",
    "    - `avg_user_bias_trend`\n",
    "\n",
    "\n",
    "*Took 1 hr*\n"
   ]
  },
  {
   "cell_type": "code",
   "execution_count": 2,
   "metadata": {},
   "outputs": [],
   "source": [
    "import duckdb\n",
    "import numpy as np\n",
    "from relbench.datasets import get_dataset\n",
    "from torch_frame import TaskType, stype\n",
    "from torch_frame.gbdt import LightGBM, XGBoost\n",
    "from torch_frame.data import Dataset\n",
    "from torch_frame.typing import Metric\n",
    "from torch_frame.utils import infer_df_stype\n",
    "\n",
    "import utils\n",
    "\n",
    "conn = duckdb.connect('amazon.db')\n",
    "%load_ext sql\n",
    "%sql conn --alias duckdb\n",
    "%config SqlMagic.displaycon=False"
   ]
  },
  {
   "cell_type": "markdown",
   "metadata": {},
   "source": [
    "### Scrapwork"
   ]
  },
  {
   "cell_type": "code",
   "execution_count": 8,
   "metadata": {
    "vscode": {
     "languageId": "sql"
    }
   },
   "outputs": [
    {
     "data": {
      "text/html": [
       "<table>\n",
       "    <thead>\n",
       "        <tr>\n",
       "            <th>churn</th>\n",
       "            <th>avg_age_at_eval</th>\n",
       "            <th>std_age_at_eval</th>\n",
       "            <th>min_age_at_eval</th>\n",
       "            <th>median_age_at_eval</th>\n",
       "            <th>max_age_at_eval</th>\n",
       "        </tr>\n",
       "    </thead>\n",
       "    <tbody>\n",
       "        <tr>\n",
       "            <td>0</td>\n",
       "            <td>31.017596107409734</td>\n",
       "            <td>31.92294067018162</td>\n",
       "            <td>0</td>\n",
       "            <td>19.0</td>\n",
       "            <td>187</td>\n",
       "        </tr>\n",
       "        <tr>\n",
       "            <td>1</td>\n",
       "            <td>28.006093508626318</td>\n",
       "            <td>28.51492883061461</td>\n",
       "            <td>0</td>\n",
       "            <td>19.0</td>\n",
       "            <td>180</td>\n",
       "        </tr>\n",
       "    </tbody>\n",
       "</table>"
      ],
      "text/plain": [
       "+-------+--------------------+-------------------+-----------------+--------------------+-----------------+\n",
       "| churn |  avg_age_at_eval   |  std_age_at_eval  | min_age_at_eval | median_age_at_eval | max_age_at_eval |\n",
       "+-------+--------------------+-------------------+-----------------+--------------------+-----------------+\n",
       "|   0   | 31.017596107409734 | 31.92294067018162 |        0        |        19.0        |       187       |\n",
       "|   1   | 28.006093508626318 | 28.51492883061461 |        0        |        19.0        |       180       |\n",
       "+-------+--------------------+-------------------+-----------------+--------------------+-----------------+"
      ]
     },
     "execution_count": 8,
     "metadata": {},
     "output_type": "execute_result"
    }
   ],
   "source": [
    "%%sql\n",
    "with age_proxy as (\n",
    "    select\n",
    "        churn_train.customer_id,\n",
    "        churn_train.timestamp,\n",
    "        churn_train.churn,\n",
    "        max(date_diff('month', review.review_time, churn_train.timestamp)) as age_months\n",
    "    from churn_train\n",
    "    left join review\n",
    "        on churn_train.customer_id = review.customer_id\n",
    "        and review.review_time < churn_train.timestamp\n",
    "    group by all\n",
    ")\n",
    "select\n",
    "    churn,\n",
    "    avg(age_months) as avg_age_at_eval,\n",
    "    stddev(age_months) as std_age_at_eval,\n",
    "    min(age_months) as min_age_at_eval,\n",
    "    median(age_months) as median_age_at_eval,\n",
    "    max(age_months) as max_age_at_eval\n",
    "from age_proxy\n",
    "group by churn"
   ]
  },
  {
   "cell_type": "code",
   "execution_count": 10,
   "metadata": {
    "vscode": {
     "languageId": "sql"
    }
   },
   "outputs": [
    {
     "data": {
      "text/html": [
       "<table>\n",
       "    <thead>\n",
       "        <tr>\n",
       "            <th>churn</th>\n",
       "            <th>avg_last_review_weeks_ago</th>\n",
       "            <th>median_last_review_weeks_ago</th>\n",
       "            <th>avg_num_reviews_at_eval</th>\n",
       "            <th>avg_avg_review_age_at_eval</th>\n",
       "        </tr>\n",
       "    </thead>\n",
       "    <tbody>\n",
       "        <tr>\n",
       "            <td>0</td>\n",
       "            <td>33.74813964719506</td>\n",
       "            <td>25.0</td>\n",
       "            <td>8.672029157572206</td>\n",
       "            <td>80.89926389942515</td>\n",
       "        </tr>\n",
       "        <tr>\n",
       "            <td>1</td>\n",
       "            <td>45.43446155300289</td>\n",
       "            <td>42.0</td>\n",
       "            <td>4.1545420746065185</td>\n",
       "            <td>83.89071972965345</td>\n",
       "        </tr>\n",
       "    </tbody>\n",
       "</table>"
      ],
      "text/plain": [
       "+-------+---------------------------+------------------------------+-------------------------+----------------------------+\n",
       "| churn | avg_last_review_weeks_ago | median_last_review_weeks_ago | avg_num_reviews_at_eval | avg_avg_review_age_at_eval |\n",
       "+-------+---------------------------+------------------------------+-------------------------+----------------------------+\n",
       "|   0   |     33.74813964719506     |             25.0             |    8.672029157572206    |     80.89926389942515      |\n",
       "|   1   |     45.43446155300289     |             42.0             |    4.1545420746065185   |     83.89071972965345      |\n",
       "+-------+---------------------------+------------------------------+-------------------------+----------------------------+"
      ]
     },
     "execution_count": 10,
     "metadata": {},
     "output_type": "execute_result"
    }
   ],
   "source": [
    "%%sql\n",
    "with reviews_at_eval as (\n",
    "    select\n",
    "        churn_train.customer_id,\n",
    "        churn_train.timestamp,\n",
    "        churn_train.churn,\n",
    "        min(date_diff('weeks', review.review_time, churn_train.timestamp)) as last_review_weeks_ago,\n",
    "        count(*) as num_reviews_at_eval,\n",
    "        avg(date_diff('weeks', review.review_time, churn_train.timestamp)) as avg_review_age_at_eval\n",
    "    from churn_train\n",
    "    left join review\n",
    "        on churn_train.customer_id = review.customer_id\n",
    "        and review.review_time < churn_train.timestamp\n",
    "    group by all\n",
    ")\n",
    "\n",
    "select\n",
    "    churn,\n",
    "    avg(last_review_weeks_ago) as avg_last_review_weeks_ago,\n",
    "    median(last_review_weeks_ago) as median_last_review_weeks_ago,\n",
    "    avg(num_reviews_at_eval) as avg_num_reviews_at_eval,\n",
    "    avg(avg_review_age_at_eval) as avg_avg_review_age_at_eval\n",
    "from reviews_at_eval\n",
    "group by churn"
   ]
  },
  {
   "cell_type": "code",
   "execution_count": 12,
   "metadata": {
    "vscode": {
     "languageId": "sql"
    }
   },
   "outputs": [
    {
     "data": {
      "text/html": [
       "<table>\n",
       "    <thead>\n",
       "        <tr>\n",
       "            <th>verified</th>\n",
       "            <th>count_star()</th>\n",
       "            <th>pct</th>\n",
       "        </tr>\n",
       "    </thead>\n",
       "    <tbody>\n",
       "        <tr>\n",
       "            <td>False</td>\n",
       "            <td>4611426</td>\n",
       "            <td>0.33616484683496245</td>\n",
       "        </tr>\n",
       "        <tr>\n",
       "            <td>True</td>\n",
       "            <td>9106326</td>\n",
       "            <td>0.6638351531650375</td>\n",
       "        </tr>\n",
       "    </tbody>\n",
       "</table>"
      ],
      "text/plain": [
       "+----------+--------------+---------------------+\n",
       "| verified | count_star() |         pct         |\n",
       "+----------+--------------+---------------------+\n",
       "|  False   |   4611426    | 0.33616484683496245 |\n",
       "|   True   |   9106326    |  0.6638351531650375 |\n",
       "+----------+--------------+---------------------+"
      ]
     },
     "execution_count": 12,
     "metadata": {},
     "output_type": "execute_result"
    }
   ],
   "source": [
    "%%sql\n",
    "select\n",
    "    verified,\n",
    "    count(*),\n",
    "    count(*) / sum(count(*)) over () as pct\n",
    "from review\n",
    "group by verified"
   ]
  },
  {
   "cell_type": "code",
   "execution_count": 15,
   "metadata": {
    "vscode": {
     "languageId": "sql"
    }
   },
   "outputs": [
    {
     "data": {
      "text/html": [
       "<table>\n",
       "    <thead>\n",
       "        <tr>\n",
       "            <th>category[-1]</th>\n",
       "        </tr>\n",
       "    </thead>\n",
       "    <tbody>\n",
       "        <tr>\n",
       "            <td>Dramas & Plays</td>\n",
       "        </tr>\n",
       "        <tr>\n",
       "            <td>Literature & Fiction</td>\n",
       "        </tr>\n",
       "        <tr>\n",
       "            <td>Mystery, Thriller & Suspense</td>\n",
       "        </tr>\n",
       "        <tr>\n",
       "            <td>Humor & Entertainment</td>\n",
       "        </tr>\n",
       "        <tr>\n",
       "            <td>Bible Study & Reference</td>\n",
       "        </tr>\n",
       "        <tr>\n",
       "            <td>Literature & Fiction</td>\n",
       "        </tr>\n",
       "        <tr>\n",
       "            <td>Bible Study & Reference</td>\n",
       "        </tr>\n",
       "        <tr>\n",
       "            <td>Animals</td>\n",
       "        </tr>\n",
       "        <tr>\n",
       "            <td>Literature & Fiction</td>\n",
       "        </tr>\n",
       "        <tr>\n",
       "            <td>Literature & Fiction</td>\n",
       "        </tr>\n",
       "    </tbody>\n",
       "</table>\n",
       "<span style=\"font-style:italic;text-align:center;\">Truncated to <a href=\"https://jupysql.ploomber.io/en/latest/api/configuration.html#displaylimit\">displaylimit</a> of 10.</span>"
      ],
      "text/plain": [
       "+------------------------------+\n",
       "|         category[-1]         |\n",
       "+------------------------------+\n",
       "|        Dramas & Plays        |\n",
       "|     Literature & Fiction     |\n",
       "| Mystery, Thriller & Suspense |\n",
       "|    Humor & Entertainment     |\n",
       "|   Bible Study & Reference    |\n",
       "|     Literature & Fiction     |\n",
       "|   Bible Study & Reference    |\n",
       "|           Animals            |\n",
       "|     Literature & Fiction     |\n",
       "|     Literature & Fiction     |\n",
       "+------------------------------+\n",
       "Truncated to displaylimit of 10."
      ]
     },
     "execution_count": 15,
     "metadata": {},
     "output_type": "execute_result"
    }
   ],
   "source": [
    "%%sql\n",
    "select\n",
    "    category[-1]\n",
    "from product\n",
    "limit 10"
   ]
  },
  {
   "cell_type": "markdown",
   "metadata": {},
   "source": [
    "## Tuning"
   ]
  },
  {
   "cell_type": "code",
   "execution_count": 3,
   "metadata": {},
   "outputs": [
    {
     "name": "stdout",
     "output_type": "stream",
     "text": [
      "Creating train table\n",
      "train table created\n",
      "Creating val table\n",
      "val table created\n",
      "Creating test table\n",
      "test table created\n"
     ]
    }
   ],
   "source": [
    "with open('churn/feats.sql', 'r') as f:\n",
    "    # run once with train_labels and once with val_labels\n",
    "    template = f.read()\n",
    "\n",
    "# create train, val and test features\n",
    "# takes 1 - 5 mins\n",
    "for s in ['train', 'val', 'test']:\n",
    "    print(f'Creating {s} table')\n",
    "    query = utils.render_jinja_sql(template, dict(set=s))\n",
    "    conn.sql(query)\n",
    "    print(f'{s} table created')"
   ]
  },
  {
   "cell_type": "code",
   "execution_count": 4,
   "metadata": {},
   "outputs": [],
   "source": [
    "train_df = conn.sql('select * from churn_train_feats').df()\n",
    "val_df = conn.sql('select * from churn_val_feats').df()"
   ]
  },
  {
   "cell_type": "code",
   "execution_count": 5,
   "metadata": {},
   "outputs": [],
   "source": [
    "col_to_stype = infer_df_stype(train_df)"
   ]
  },
  {
   "cell_type": "code",
   "execution_count": 6,
   "metadata": {},
   "outputs": [
    {
     "data": {
      "text/plain": [
       "{'customer_id': <stype.numerical: 'numerical'>,\n",
       " 'timestamp': <stype.timestamp: 'timestamp'>,\n",
       " 'churn': <stype.categorical: 'categorical'>,\n",
       " 'num_reviews': <stype.numerical: 'numerical'>,\n",
       " 'sum_review_ratings': <stype.numerical: 'numerical'>,\n",
       " 'avg_review_length': <stype.numerical: 'numerical'>,\n",
       " 'last_review_weeks_ago': <stype.numerical: 'numerical'>,\n",
       " 'last_review_summary_text': <stype.text_embedded: 'text_embedded'>,\n",
       " 'last_reviewed_product_title': <stype.text_embedded: 'text_embedded'>,\n",
       " 'last_reviewed_product_category': <stype.text_embedded: 'text_embedded'>,\n",
       " 'last_review_is_verified': <stype.categorical: 'categorical'>,\n",
       " 'avg_review_rating': <stype.numerical: 'numerical'>,\n",
       " 'pct_verified_reviews': <stype.numerical: 'numerical'>,\n",
       " 'std_review_rating': <stype.numerical: 'numerical'>,\n",
       " 'min_review_rating': <stype.categorical: 'categorical'>,\n",
       " 'max_review_rating': <stype.categorical: 'categorical'>,\n",
       " 'avg_reviewed_product_rating': <stype.numerical: 'numerical'>,\n",
       " 'sum_reviewed_product_rating': <stype.numerical: 'numerical'>,\n",
       " 'std_reviewed_product_rating': <stype.numerical: 'numerical'>,\n",
       " 'min_reviewed_product_rating': <stype.numerical: 'numerical'>,\n",
       " 'max_reviewed_product_rating': <stype.numerical: 'numerical'>,\n",
       " 'avg_reviewed_product_price': <stype.numerical: 'numerical'>,\n",
       " 'sum_reviewed_product_price': <stype.numerical: 'numerical'>,\n",
       " 'std_reviewed_product_price': <stype.numerical: 'numerical'>,\n",
       " 'min_reviewed_product_price': <stype.numerical: 'numerical'>,\n",
       " 'max_reviewed_product_price': <stype.numerical: 'numerical'>,\n",
       " 'reviewed_product_modal_category': <stype.text_embedded: 'text_embedded'>,\n",
       " 'user_bias': <stype.numerical: 'numerical'>,\n",
       " 'num_reviews_trend': <stype.numerical: 'numerical'>,\n",
       " 'avg_rating_trend': <stype.numerical: 'numerical'>,\n",
       " 'avg_price_trend': <stype.numerical: 'numerical'>,\n",
       " 'avg_user_bias_trend': <stype.numerical: 'numerical'>}"
      ]
     },
     "execution_count": 6,
     "metadata": {},
     "output_type": "execute_result"
    }
   ],
   "source": [
    "col_to_stype"
   ]
  },
  {
   "cell_type": "code",
   "execution_count": 11,
   "metadata": {},
   "outputs": [],
   "source": [
    "DROP_COLS = [\n",
    "    # drop identifier cols\n",
    "    'customer_id',\n",
    "    'timestamp',\n",
    "    # drop text embeds to save time\n",
    "    'last_review_summary_text',\n",
    "    'last_reviewed_product_title',\n",
    "]\n",
    "for c in DROP_COLS:\n",
    "    del col_to_stype[c]\n",
    "# Correct certain columns\n",
    "col_to_stype['last_reviewed_product_category'] = stype.categorical\n",
    "col_to_stype['min_review_rating'] = stype.numerical\n",
    "col_to_stype['max_review_rating'] = stype.numerical\n",
    "col_to_stype['reviewed_product_modal_category'] = stype.categorical"
   ]
  },
  {
   "cell_type": "code",
   "execution_count": 12,
   "metadata": {},
   "outputs": [
    {
     "name": "stdout",
     "output_type": "stream",
     "text": [
      "26 724664\n"
     ]
    }
   ],
   "source": [
    "train_dset = Dataset(\n",
    "    train_df.drop(DROP_COLS, axis=1),\n",
    "    col_to_stype=col_to_stype,\n",
    "    target_col='churn'\n",
    ").materialize()\n",
    "val_tf = train_dset.convert_to_tensor_frame(val_df.drop(DROP_COLS, axis=1))\n",
    "tune_metric = Metric.ROCAUC\n",
    "print(train_dset.tensor_frame.num_cols, train_dset.tensor_frame.num_rows)"
   ]
  },
  {
   "cell_type": "code",
   "execution_count": 13,
   "metadata": {},
   "outputs": [
    {
     "name": "stderr",
     "output_type": "stream",
     "text": [
      "/Users/adobles/opt/anaconda3/envs/relbench/lib/python3.11/site-packages/tqdm/auto.py:21: TqdmWarning: IProgress not found. Please update jupyter and ipywidgets. See https://ipywidgets.readthedocs.io/en/stable/user_install.html\n",
      "  from .autonotebook import tqdm as notebook_tqdm\n",
      "[I 2024-05-16 22:05:41,208] A new study created in memory with name: no-name-0f392e88-49dd-4887-bb3b-5ade30853bd7\n",
      "[I 2024-05-16 22:06:01,087] Trial 0 finished with value: 0.6082582360049349 and parameters: {'booster': 'gblinear', 'use_lambda': False, 'use_alpha': True, 'alpha': 1.7045902607297673e-07}. Best is trial 0 with value: 0.6082582360049349.\n",
      "[I 2024-05-16 22:06:10,167] Trial 1 finished with value: 0.5505843230327595 and parameters: {'booster': 'gblinear', 'use_lambda': False, 'use_alpha': True, 'alpha': 8.655286144974532}. Best is trial 0 with value: 0.6082582360049349.\n",
      "[I 2024-05-16 22:06:40,678] Trial 2 finished with value: 0.6540593170841662 and parameters: {'booster': 'gbtree', 'use_lambda': True, 'lambda': 0.00027874859909888177, 'use_alpha': True, 'alpha': 6.841192757395866e-08, 'max_depth': 6, 'min_child_weight': 25.11474773428679, 'subsample': 0.7789392405156079, 'colsample_bytree': 0.8811084498791566, 'colsample_bylevel': 0.8946297371015485, 'use_gamma': True, 'gamma': 0.1438249952827339, 'learning_rate': 0.0002784562128205921}. Best is trial 2 with value: 0.6540593170841662.\n",
      "[I 2024-05-16 22:06:49,924] Trial 3 finished with value: 0.6502201980613034 and parameters: {'booster': 'gbtree', 'use_lambda': True, 'lambda': 0.0006845513601432381, 'use_alpha': True, 'alpha': 2.2710831638808004e-07, 'max_depth': 5, 'min_child_weight': 0.004141079145415069, 'subsample': 0.8254676589801486, 'colsample_bytree': 0.9223921924628011, 'colsample_bylevel': 0.577213375891412, 'use_gamma': False, 'learning_rate': 0.000503481920169033}. Best is trial 2 with value: 0.6540593170841662.\n",
      "[I 2024-05-16 22:06:59,864] Trial 4 finished with value: 0.6438266854857969 and parameters: {'booster': 'gbtree', 'use_lambda': True, 'lambda': 0.042065780282638535, 'use_alpha': True, 'alpha': 0.00405528454234283, 'max_depth': 3, 'min_child_weight': 7.970264265533567e-06, 'subsample': 0.505459719525551, 'colsample_bytree': 0.9685048902539113, 'colsample_bylevel': 0.6275778983488235, 'use_gamma': True, 'gamma': 7.838861790081541e-07, 'learning_rate': 7.337272990496113e-06}. Best is trial 2 with value: 0.6540593170841662.\n",
      "[I 2024-05-16 22:07:00,011] Trial 5 pruned. Trial was pruned at iteration 0.\n",
      "[W 2024-05-16 22:15:39,476] Trial 6 failed with parameters: {'booster': 'dart', 'use_lambda': True, 'lambda': 51.33568802938936, 'use_alpha': True, 'alpha': 0.02197096948774302, 'max_depth': 10, 'min_child_weight': 0.05125656747735155, 'subsample': 0.785880273988981, 'colsample_bytree': 0.981093616367392, 'colsample_bylevel': 0.6076486202483343, 'use_gamma': True, 'gamma': 3.583617490859383e-06, 'learning_rate': 0.05857349201706488, 'sample_type': 'uniform', 'normalize_type': 'forest', 'rate_drop': 1.1665012425692185e-07, 'skip_drop': 4.023565090898896e-05} because of the following error: KeyboardInterrupt().\n",
      "Traceback (most recent call last):\n",
      "  File \"/Users/adobles/opt/anaconda3/envs/relbench/lib/python3.11/site-packages/optuna/study/_optimize.py\", line 196, in _run_trial\n",
      "    value_or_values = func(trial)\n",
      "                      ^^^^^^^^^^^\n",
      "  File \"/Users/adobles/opt/anaconda3/envs/relbench/lib/python3.11/site-packages/torch_frame/gbdt/tuned_xgboost.py\", line 210, in <lambda>\n",
      "    lambda trial: self.objective(trial, dtrain, dvalid, num_boost_round\n",
      "                  ^^^^^^^^^^^^^^^^^^^^^^^^^^^^^^^^^^^^^^^^^^^^^^^^^^^^^\n",
      "  File \"/Users/adobles/opt/anaconda3/envs/relbench/lib/python3.11/site-packages/torch_frame/gbdt/tuned_xgboost.py\", line 175, in objective\n",
      "    boost = xgboost.train(self.params, dtrain,\n",
      "            ^^^^^^^^^^^^^^^^^^^^^^^^^^^^^^^^^^\n",
      "  File \"/Users/adobles/opt/anaconda3/envs/relbench/lib/python3.11/site-packages/xgboost/core.py\", line 730, in inner_f\n",
      "    return func(**kwargs)\n",
      "           ^^^^^^^^^^^^^^\n",
      "  File \"/Users/adobles/opt/anaconda3/envs/relbench/lib/python3.11/site-packages/xgboost/training.py\", line 181, in train\n",
      "    bst.update(dtrain, i, obj)\n",
      "  File \"/Users/adobles/opt/anaconda3/envs/relbench/lib/python3.11/site-packages/xgboost/core.py\", line 2051, in update\n",
      "    _LIB.XGBoosterUpdateOneIter(\n",
      "KeyboardInterrupt\n",
      "[W 2024-05-16 22:15:39,479] Trial 6 failed with value None.\n"
     ]
    },
    {
     "ename": "KeyboardInterrupt",
     "evalue": "",
     "output_type": "error",
     "traceback": [
      "\u001b[0;31m---------------------------------------------------------------------------\u001b[0m",
      "\u001b[0;31mKeyboardInterrupt\u001b[0m                         Traceback (most recent call last)",
      "Cell \u001b[0;32mIn[13], line 2\u001b[0m\n\u001b[1;32m      1\u001b[0m gbdt \u001b[38;5;241m=\u001b[39m XGBoost(TaskType\u001b[38;5;241m.\u001b[39mBINARY_CLASSIFICATION, num_classes\u001b[38;5;241m=\u001b[39m\u001b[38;5;241m2\u001b[39m, metric\u001b[38;5;241m=\u001b[39mtune_metric)\n\u001b[0;32m----> 2\u001b[0m \u001b[43mgbdt\u001b[49m\u001b[38;5;241;43m.\u001b[39;49m\u001b[43mtune\u001b[49m\u001b[43m(\u001b[49m\u001b[43mtf_train\u001b[49m\u001b[38;5;241;43m=\u001b[39;49m\u001b[43mtrain_dset\u001b[49m\u001b[38;5;241;43m.\u001b[39;49m\u001b[43mtensor_frame\u001b[49m\u001b[43m,\u001b[49m\u001b[43m \u001b[49m\u001b[43mtf_val\u001b[49m\u001b[38;5;241;43m=\u001b[39;49m\u001b[43mval_tf\u001b[49m\u001b[43m,\u001b[49m\u001b[43m \u001b[49m\u001b[43mnum_trials\u001b[49m\u001b[38;5;241;43m=\u001b[39;49m\u001b[38;5;241;43m10\u001b[39;49m\u001b[43m)\u001b[49m\n",
      "File \u001b[0;32m~/opt/anaconda3/envs/relbench/lib/python3.11/site-packages/torch_frame/gbdt/gbdt.py:88\u001b[0m, in \u001b[0;36mGBDT.tune\u001b[0;34m(self, tf_train, tf_val, num_trials, *args, **kwargs)\u001b[0m\n\u001b[1;32m     86\u001b[0m \u001b[38;5;28;01mif\u001b[39;00m tf_val\u001b[38;5;241m.\u001b[39my \u001b[38;5;129;01mis\u001b[39;00m \u001b[38;5;28;01mNone\u001b[39;00m:\n\u001b[1;32m     87\u001b[0m     \u001b[38;5;28;01mraise\u001b[39;00m \u001b[38;5;167;01mRuntimeError\u001b[39;00m(\u001b[38;5;124m\"\u001b[39m\u001b[38;5;124mtf_val.y must be a Tensor, but None given.\u001b[39m\u001b[38;5;124m\"\u001b[39m)\n\u001b[0;32m---> 88\u001b[0m \u001b[38;5;28;43mself\u001b[39;49m\u001b[38;5;241;43m.\u001b[39;49m\u001b[43m_tune\u001b[49m\u001b[43m(\u001b[49m\u001b[43mtf_train\u001b[49m\u001b[43m,\u001b[49m\u001b[43m \u001b[49m\u001b[43mtf_val\u001b[49m\u001b[43m,\u001b[49m\u001b[43m \u001b[49m\u001b[43mnum_trials\u001b[49m\u001b[38;5;241;43m=\u001b[39;49m\u001b[43mnum_trials\u001b[49m\u001b[43m,\u001b[49m\u001b[43m \u001b[49m\u001b[38;5;241;43m*\u001b[39;49m\u001b[43margs\u001b[49m\u001b[43m,\u001b[49m\u001b[43m \u001b[49m\u001b[38;5;241;43m*\u001b[39;49m\u001b[38;5;241;43m*\u001b[39;49m\u001b[43mkwargs\u001b[49m\u001b[43m)\u001b[49m\n\u001b[1;32m     89\u001b[0m \u001b[38;5;28mself\u001b[39m\u001b[38;5;241m.\u001b[39m_is_fitted \u001b[38;5;241m=\u001b[39m \u001b[38;5;28;01mTrue\u001b[39;00m\n",
      "File \u001b[0;32m~/opt/anaconda3/envs/relbench/lib/python3.11/site-packages/torch_frame/gbdt/tuned_xgboost.py:209\u001b[0m, in \u001b[0;36mXGBoost._tune\u001b[0;34m(self, tf_train, tf_val, num_trials, num_boost_round)\u001b[0m\n\u001b[1;32m    203\u001b[0m dtrain \u001b[38;5;241m=\u001b[39m xgboost\u001b[38;5;241m.\u001b[39mDMatrix(train_feat, label\u001b[38;5;241m=\u001b[39mtrain_y,\n\u001b[1;32m    204\u001b[0m                          feature_types\u001b[38;5;241m=\u001b[39mtrain_feat_type,\n\u001b[1;32m    205\u001b[0m                          enable_categorical\u001b[38;5;241m=\u001b[39m\u001b[38;5;28;01mTrue\u001b[39;00m)\n\u001b[1;32m    206\u001b[0m dvalid \u001b[38;5;241m=\u001b[39m xgboost\u001b[38;5;241m.\u001b[39mDMatrix(val_feat, label\u001b[38;5;241m=\u001b[39mval_y,\n\u001b[1;32m    207\u001b[0m                          feature_types\u001b[38;5;241m=\u001b[39mval_feat_type,\n\u001b[1;32m    208\u001b[0m                          enable_categorical\u001b[38;5;241m=\u001b[39m\u001b[38;5;28;01mTrue\u001b[39;00m)\n\u001b[0;32m--> 209\u001b[0m \u001b[43mstudy\u001b[49m\u001b[38;5;241;43m.\u001b[39;49m\u001b[43moptimize\u001b[49m\u001b[43m(\u001b[49m\n\u001b[1;32m    210\u001b[0m \u001b[43m    \u001b[49m\u001b[38;5;28;43;01mlambda\u001b[39;49;00m\u001b[43m \u001b[49m\u001b[43mtrial\u001b[49m\u001b[43m:\u001b[49m\u001b[43m \u001b[49m\u001b[38;5;28;43mself\u001b[39;49m\u001b[38;5;241;43m.\u001b[39;49m\u001b[43mobjective\u001b[49m\u001b[43m(\u001b[49m\u001b[43mtrial\u001b[49m\u001b[43m,\u001b[49m\u001b[43m \u001b[49m\u001b[43mdtrain\u001b[49m\u001b[43m,\u001b[49m\u001b[43m \u001b[49m\u001b[43mdvalid\u001b[49m\u001b[43m,\u001b[49m\u001b[43m \u001b[49m\u001b[43mnum_boost_round\u001b[49m\n\u001b[1;32m    211\u001b[0m \u001b[43m                                 \u001b[49m\u001b[43m)\u001b[49m\u001b[43m,\u001b[49m\u001b[43m \u001b[49m\u001b[43mnum_trials\u001b[49m\u001b[43m)\u001b[49m\n\u001b[1;32m    212\u001b[0m \u001b[38;5;28mself\u001b[39m\u001b[38;5;241m.\u001b[39mparams\u001b[38;5;241m.\u001b[39mupdate(study\u001b[38;5;241m.\u001b[39mbest_params)\n\u001b[1;32m    214\u001b[0m \u001b[38;5;28mself\u001b[39m\u001b[38;5;241m.\u001b[39mmodel \u001b[38;5;241m=\u001b[39m xgboost\u001b[38;5;241m.\u001b[39mtrain(\u001b[38;5;28mself\u001b[39m\u001b[38;5;241m.\u001b[39mparams, dtrain,\n\u001b[1;32m    215\u001b[0m                            num_boost_round\u001b[38;5;241m=\u001b[39mnum_boost_round,\n\u001b[1;32m    216\u001b[0m                            early_stopping_rounds\u001b[38;5;241m=\u001b[39m\u001b[38;5;241m50\u001b[39m,\n\u001b[1;32m    217\u001b[0m                            verbose_eval\u001b[38;5;241m=\u001b[39m\u001b[38;5;28;01mFalse\u001b[39;00m,\n\u001b[1;32m    218\u001b[0m                            evals\u001b[38;5;241m=\u001b[39m[(dvalid, \u001b[38;5;124m'\u001b[39m\u001b[38;5;124mvalidation\u001b[39m\u001b[38;5;124m'\u001b[39m)])\n",
      "File \u001b[0;32m~/opt/anaconda3/envs/relbench/lib/python3.11/site-packages/optuna/study/study.py:451\u001b[0m, in \u001b[0;36mStudy.optimize\u001b[0;34m(self, func, n_trials, timeout, n_jobs, catch, callbacks, gc_after_trial, show_progress_bar)\u001b[0m\n\u001b[1;32m    348\u001b[0m \u001b[38;5;28;01mdef\u001b[39;00m \u001b[38;5;21moptimize\u001b[39m(\n\u001b[1;32m    349\u001b[0m     \u001b[38;5;28mself\u001b[39m,\n\u001b[1;32m    350\u001b[0m     func: ObjectiveFuncType,\n\u001b[0;32m   (...)\u001b[0m\n\u001b[1;32m    357\u001b[0m     show_progress_bar: \u001b[38;5;28mbool\u001b[39m \u001b[38;5;241m=\u001b[39m \u001b[38;5;28;01mFalse\u001b[39;00m,\n\u001b[1;32m    358\u001b[0m ) \u001b[38;5;241m-\u001b[39m\u001b[38;5;241m>\u001b[39m \u001b[38;5;28;01mNone\u001b[39;00m:\n\u001b[1;32m    359\u001b[0m \u001b[38;5;250m    \u001b[39m\u001b[38;5;124;03m\"\"\"Optimize an objective function.\u001b[39;00m\n\u001b[1;32m    360\u001b[0m \n\u001b[1;32m    361\u001b[0m \u001b[38;5;124;03m    Optimization is done by choosing a suitable set of hyperparameter values from a given\u001b[39;00m\n\u001b[0;32m   (...)\u001b[0m\n\u001b[1;32m    449\u001b[0m \u001b[38;5;124;03m            If nested invocation of this method occurs.\u001b[39;00m\n\u001b[1;32m    450\u001b[0m \u001b[38;5;124;03m    \"\"\"\u001b[39;00m\n\u001b[0;32m--> 451\u001b[0m     \u001b[43m_optimize\u001b[49m\u001b[43m(\u001b[49m\n\u001b[1;32m    452\u001b[0m \u001b[43m        \u001b[49m\u001b[43mstudy\u001b[49m\u001b[38;5;241;43m=\u001b[39;49m\u001b[38;5;28;43mself\u001b[39;49m\u001b[43m,\u001b[49m\n\u001b[1;32m    453\u001b[0m \u001b[43m        \u001b[49m\u001b[43mfunc\u001b[49m\u001b[38;5;241;43m=\u001b[39;49m\u001b[43mfunc\u001b[49m\u001b[43m,\u001b[49m\n\u001b[1;32m    454\u001b[0m \u001b[43m        \u001b[49m\u001b[43mn_trials\u001b[49m\u001b[38;5;241;43m=\u001b[39;49m\u001b[43mn_trials\u001b[49m\u001b[43m,\u001b[49m\n\u001b[1;32m    455\u001b[0m \u001b[43m        \u001b[49m\u001b[43mtimeout\u001b[49m\u001b[38;5;241;43m=\u001b[39;49m\u001b[43mtimeout\u001b[49m\u001b[43m,\u001b[49m\n\u001b[1;32m    456\u001b[0m \u001b[43m        \u001b[49m\u001b[43mn_jobs\u001b[49m\u001b[38;5;241;43m=\u001b[39;49m\u001b[43mn_jobs\u001b[49m\u001b[43m,\u001b[49m\n\u001b[1;32m    457\u001b[0m \u001b[43m        \u001b[49m\u001b[43mcatch\u001b[49m\u001b[38;5;241;43m=\u001b[39;49m\u001b[38;5;28;43mtuple\u001b[39;49m\u001b[43m(\u001b[49m\u001b[43mcatch\u001b[49m\u001b[43m)\u001b[49m\u001b[43m \u001b[49m\u001b[38;5;28;43;01mif\u001b[39;49;00m\u001b[43m \u001b[49m\u001b[38;5;28;43misinstance\u001b[39;49m\u001b[43m(\u001b[49m\u001b[43mcatch\u001b[49m\u001b[43m,\u001b[49m\u001b[43m \u001b[49m\u001b[43mIterable\u001b[49m\u001b[43m)\u001b[49m\u001b[43m \u001b[49m\u001b[38;5;28;43;01melse\u001b[39;49;00m\u001b[43m \u001b[49m\u001b[43m(\u001b[49m\u001b[43mcatch\u001b[49m\u001b[43m,\u001b[49m\u001b[43m)\u001b[49m\u001b[43m,\u001b[49m\n\u001b[1;32m    458\u001b[0m \u001b[43m        \u001b[49m\u001b[43mcallbacks\u001b[49m\u001b[38;5;241;43m=\u001b[39;49m\u001b[43mcallbacks\u001b[49m\u001b[43m,\u001b[49m\n\u001b[1;32m    459\u001b[0m \u001b[43m        \u001b[49m\u001b[43mgc_after_trial\u001b[49m\u001b[38;5;241;43m=\u001b[39;49m\u001b[43mgc_after_trial\u001b[49m\u001b[43m,\u001b[49m\n\u001b[1;32m    460\u001b[0m \u001b[43m        \u001b[49m\u001b[43mshow_progress_bar\u001b[49m\u001b[38;5;241;43m=\u001b[39;49m\u001b[43mshow_progress_bar\u001b[49m\u001b[43m,\u001b[49m\n\u001b[1;32m    461\u001b[0m \u001b[43m    \u001b[49m\u001b[43m)\u001b[49m\n",
      "File \u001b[0;32m~/opt/anaconda3/envs/relbench/lib/python3.11/site-packages/optuna/study/_optimize.py:62\u001b[0m, in \u001b[0;36m_optimize\u001b[0;34m(study, func, n_trials, timeout, n_jobs, catch, callbacks, gc_after_trial, show_progress_bar)\u001b[0m\n\u001b[1;32m     60\u001b[0m \u001b[38;5;28;01mtry\u001b[39;00m:\n\u001b[1;32m     61\u001b[0m     \u001b[38;5;28;01mif\u001b[39;00m n_jobs \u001b[38;5;241m==\u001b[39m \u001b[38;5;241m1\u001b[39m:\n\u001b[0;32m---> 62\u001b[0m         \u001b[43m_optimize_sequential\u001b[49m\u001b[43m(\u001b[49m\n\u001b[1;32m     63\u001b[0m \u001b[43m            \u001b[49m\u001b[43mstudy\u001b[49m\u001b[43m,\u001b[49m\n\u001b[1;32m     64\u001b[0m \u001b[43m            \u001b[49m\u001b[43mfunc\u001b[49m\u001b[43m,\u001b[49m\n\u001b[1;32m     65\u001b[0m \u001b[43m            \u001b[49m\u001b[43mn_trials\u001b[49m\u001b[43m,\u001b[49m\n\u001b[1;32m     66\u001b[0m \u001b[43m            \u001b[49m\u001b[43mtimeout\u001b[49m\u001b[43m,\u001b[49m\n\u001b[1;32m     67\u001b[0m \u001b[43m            \u001b[49m\u001b[43mcatch\u001b[49m\u001b[43m,\u001b[49m\n\u001b[1;32m     68\u001b[0m \u001b[43m            \u001b[49m\u001b[43mcallbacks\u001b[49m\u001b[43m,\u001b[49m\n\u001b[1;32m     69\u001b[0m \u001b[43m            \u001b[49m\u001b[43mgc_after_trial\u001b[49m\u001b[43m,\u001b[49m\n\u001b[1;32m     70\u001b[0m \u001b[43m            \u001b[49m\u001b[43mreseed_sampler_rng\u001b[49m\u001b[38;5;241;43m=\u001b[39;49m\u001b[38;5;28;43;01mFalse\u001b[39;49;00m\u001b[43m,\u001b[49m\n\u001b[1;32m     71\u001b[0m \u001b[43m            \u001b[49m\u001b[43mtime_start\u001b[49m\u001b[38;5;241;43m=\u001b[39;49m\u001b[38;5;28;43;01mNone\u001b[39;49;00m\u001b[43m,\u001b[49m\n\u001b[1;32m     72\u001b[0m \u001b[43m            \u001b[49m\u001b[43mprogress_bar\u001b[49m\u001b[38;5;241;43m=\u001b[39;49m\u001b[43mprogress_bar\u001b[49m\u001b[43m,\u001b[49m\n\u001b[1;32m     73\u001b[0m \u001b[43m        \u001b[49m\u001b[43m)\u001b[49m\n\u001b[1;32m     74\u001b[0m     \u001b[38;5;28;01melse\u001b[39;00m:\n\u001b[1;32m     75\u001b[0m         \u001b[38;5;28;01mif\u001b[39;00m n_jobs \u001b[38;5;241m==\u001b[39m \u001b[38;5;241m-\u001b[39m\u001b[38;5;241m1\u001b[39m:\n",
      "File \u001b[0;32m~/opt/anaconda3/envs/relbench/lib/python3.11/site-packages/optuna/study/_optimize.py:159\u001b[0m, in \u001b[0;36m_optimize_sequential\u001b[0;34m(study, func, n_trials, timeout, catch, callbacks, gc_after_trial, reseed_sampler_rng, time_start, progress_bar)\u001b[0m\n\u001b[1;32m    156\u001b[0m         \u001b[38;5;28;01mbreak\u001b[39;00m\n\u001b[1;32m    158\u001b[0m \u001b[38;5;28;01mtry\u001b[39;00m:\n\u001b[0;32m--> 159\u001b[0m     frozen_trial \u001b[38;5;241m=\u001b[39m \u001b[43m_run_trial\u001b[49m\u001b[43m(\u001b[49m\u001b[43mstudy\u001b[49m\u001b[43m,\u001b[49m\u001b[43m \u001b[49m\u001b[43mfunc\u001b[49m\u001b[43m,\u001b[49m\u001b[43m \u001b[49m\u001b[43mcatch\u001b[49m\u001b[43m)\u001b[49m\n\u001b[1;32m    160\u001b[0m \u001b[38;5;28;01mfinally\u001b[39;00m:\n\u001b[1;32m    161\u001b[0m     \u001b[38;5;66;03m# The following line mitigates memory problems that can be occurred in some\u001b[39;00m\n\u001b[1;32m    162\u001b[0m     \u001b[38;5;66;03m# environments (e.g., services that use computing containers such as GitHub Actions).\u001b[39;00m\n\u001b[1;32m    163\u001b[0m     \u001b[38;5;66;03m# Please refer to the following PR for further details:\u001b[39;00m\n\u001b[1;32m    164\u001b[0m     \u001b[38;5;66;03m# https://github.com/optuna/optuna/pull/325.\u001b[39;00m\n\u001b[1;32m    165\u001b[0m     \u001b[38;5;28;01mif\u001b[39;00m gc_after_trial:\n",
      "File \u001b[0;32m~/opt/anaconda3/envs/relbench/lib/python3.11/site-packages/optuna/study/_optimize.py:247\u001b[0m, in \u001b[0;36m_run_trial\u001b[0;34m(study, func, catch)\u001b[0m\n\u001b[1;32m    240\u001b[0m         \u001b[38;5;28;01massert\u001b[39;00m \u001b[38;5;28;01mFalse\u001b[39;00m, \u001b[38;5;124m\"\u001b[39m\u001b[38;5;124mShould not reach.\u001b[39m\u001b[38;5;124m\"\u001b[39m\n\u001b[1;32m    242\u001b[0m \u001b[38;5;28;01mif\u001b[39;00m (\n\u001b[1;32m    243\u001b[0m     frozen_trial\u001b[38;5;241m.\u001b[39mstate \u001b[38;5;241m==\u001b[39m TrialState\u001b[38;5;241m.\u001b[39mFAIL\n\u001b[1;32m    244\u001b[0m     \u001b[38;5;129;01mand\u001b[39;00m func_err \u001b[38;5;129;01mis\u001b[39;00m \u001b[38;5;129;01mnot\u001b[39;00m \u001b[38;5;28;01mNone\u001b[39;00m\n\u001b[1;32m    245\u001b[0m     \u001b[38;5;129;01mand\u001b[39;00m \u001b[38;5;129;01mnot\u001b[39;00m \u001b[38;5;28misinstance\u001b[39m(func_err, catch)\n\u001b[1;32m    246\u001b[0m ):\n\u001b[0;32m--> 247\u001b[0m     \u001b[38;5;28;01mraise\u001b[39;00m func_err\n\u001b[1;32m    248\u001b[0m \u001b[38;5;28;01mreturn\u001b[39;00m frozen_trial\n",
      "File \u001b[0;32m~/opt/anaconda3/envs/relbench/lib/python3.11/site-packages/optuna/study/_optimize.py:196\u001b[0m, in \u001b[0;36m_run_trial\u001b[0;34m(study, func, catch)\u001b[0m\n\u001b[1;32m    194\u001b[0m \u001b[38;5;28;01mwith\u001b[39;00m get_heartbeat_thread(trial\u001b[38;5;241m.\u001b[39m_trial_id, study\u001b[38;5;241m.\u001b[39m_storage):\n\u001b[1;32m    195\u001b[0m     \u001b[38;5;28;01mtry\u001b[39;00m:\n\u001b[0;32m--> 196\u001b[0m         value_or_values \u001b[38;5;241m=\u001b[39m \u001b[43mfunc\u001b[49m\u001b[43m(\u001b[49m\u001b[43mtrial\u001b[49m\u001b[43m)\u001b[49m\n\u001b[1;32m    197\u001b[0m     \u001b[38;5;28;01mexcept\u001b[39;00m exceptions\u001b[38;5;241m.\u001b[39mTrialPruned \u001b[38;5;28;01mas\u001b[39;00m e:\n\u001b[1;32m    198\u001b[0m         \u001b[38;5;66;03m# TODO(mamu): Handle multi-objective cases.\u001b[39;00m\n\u001b[1;32m    199\u001b[0m         state \u001b[38;5;241m=\u001b[39m TrialState\u001b[38;5;241m.\u001b[39mPRUNED\n",
      "File \u001b[0;32m~/opt/anaconda3/envs/relbench/lib/python3.11/site-packages/torch_frame/gbdt/tuned_xgboost.py:210\u001b[0m, in \u001b[0;36mXGBoost._tune.<locals>.<lambda>\u001b[0;34m(trial)\u001b[0m\n\u001b[1;32m    203\u001b[0m dtrain \u001b[38;5;241m=\u001b[39m xgboost\u001b[38;5;241m.\u001b[39mDMatrix(train_feat, label\u001b[38;5;241m=\u001b[39mtrain_y,\n\u001b[1;32m    204\u001b[0m                          feature_types\u001b[38;5;241m=\u001b[39mtrain_feat_type,\n\u001b[1;32m    205\u001b[0m                          enable_categorical\u001b[38;5;241m=\u001b[39m\u001b[38;5;28;01mTrue\u001b[39;00m)\n\u001b[1;32m    206\u001b[0m dvalid \u001b[38;5;241m=\u001b[39m xgboost\u001b[38;5;241m.\u001b[39mDMatrix(val_feat, label\u001b[38;5;241m=\u001b[39mval_y,\n\u001b[1;32m    207\u001b[0m                          feature_types\u001b[38;5;241m=\u001b[39mval_feat_type,\n\u001b[1;32m    208\u001b[0m                          enable_categorical\u001b[38;5;241m=\u001b[39m\u001b[38;5;28;01mTrue\u001b[39;00m)\n\u001b[1;32m    209\u001b[0m study\u001b[38;5;241m.\u001b[39moptimize(\n\u001b[0;32m--> 210\u001b[0m     \u001b[38;5;28;01mlambda\u001b[39;00m trial: \u001b[38;5;28;43mself\u001b[39;49m\u001b[38;5;241;43m.\u001b[39;49m\u001b[43mobjective\u001b[49m\u001b[43m(\u001b[49m\u001b[43mtrial\u001b[49m\u001b[43m,\u001b[49m\u001b[43m \u001b[49m\u001b[43mdtrain\u001b[49m\u001b[43m,\u001b[49m\u001b[43m \u001b[49m\u001b[43mdvalid\u001b[49m\u001b[43m,\u001b[49m\u001b[43m \u001b[49m\u001b[43mnum_boost_round\u001b[49m\n\u001b[1;32m    211\u001b[0m \u001b[43m                                 \u001b[49m\u001b[43m)\u001b[49m, num_trials)\n\u001b[1;32m    212\u001b[0m \u001b[38;5;28mself\u001b[39m\u001b[38;5;241m.\u001b[39mparams\u001b[38;5;241m.\u001b[39mupdate(study\u001b[38;5;241m.\u001b[39mbest_params)\n\u001b[1;32m    214\u001b[0m \u001b[38;5;28mself\u001b[39m\u001b[38;5;241m.\u001b[39mmodel \u001b[38;5;241m=\u001b[39m xgboost\u001b[38;5;241m.\u001b[39mtrain(\u001b[38;5;28mself\u001b[39m\u001b[38;5;241m.\u001b[39mparams, dtrain,\n\u001b[1;32m    215\u001b[0m                            num_boost_round\u001b[38;5;241m=\u001b[39mnum_boost_round,\n\u001b[1;32m    216\u001b[0m                            early_stopping_rounds\u001b[38;5;241m=\u001b[39m\u001b[38;5;241m50\u001b[39m,\n\u001b[1;32m    217\u001b[0m                            verbose_eval\u001b[38;5;241m=\u001b[39m\u001b[38;5;28;01mFalse\u001b[39;00m,\n\u001b[1;32m    218\u001b[0m                            evals\u001b[38;5;241m=\u001b[39m[(dvalid, \u001b[38;5;124m'\u001b[39m\u001b[38;5;124mvalidation\u001b[39m\u001b[38;5;124m'\u001b[39m)])\n",
      "File \u001b[0;32m~/opt/anaconda3/envs/relbench/lib/python3.11/site-packages/torch_frame/gbdt/tuned_xgboost.py:175\u001b[0m, in \u001b[0;36mXGBoost.objective\u001b[0;34m(self, trial, dtrain, dvalid, num_boost_round)\u001b[0m\n\u001b[1;32m    171\u001b[0m \u001b[38;5;28;01mif\u001b[39;00m \u001b[38;5;28mself\u001b[39m\u001b[38;5;241m.\u001b[39mtask_type \u001b[38;5;241m==\u001b[39m TaskType\u001b[38;5;241m.\u001b[39mMULTICLASS_CLASSIFICATION:\n\u001b[1;32m    172\u001b[0m     \u001b[38;5;28mself\u001b[39m\u001b[38;5;241m.\u001b[39mparams[\u001b[38;5;124m\"\u001b[39m\u001b[38;5;124mnum_class\u001b[39m\u001b[38;5;124m\"\u001b[39m] \u001b[38;5;241m=\u001b[39m \u001b[38;5;28mself\u001b[39m\u001b[38;5;241m.\u001b[39m_num_classes \u001b[38;5;129;01mor\u001b[39;00m \u001b[38;5;28mlen\u001b[39m(\n\u001b[1;32m    173\u001b[0m         np\u001b[38;5;241m.\u001b[39munique(dtrain\u001b[38;5;241m.\u001b[39mget_label()))\n\u001b[0;32m--> 175\u001b[0m boost \u001b[38;5;241m=\u001b[39m \u001b[43mxgboost\u001b[49m\u001b[38;5;241;43m.\u001b[39;49m\u001b[43mtrain\u001b[49m\u001b[43m(\u001b[49m\u001b[38;5;28;43mself\u001b[39;49m\u001b[38;5;241;43m.\u001b[39;49m\u001b[43mparams\u001b[49m\u001b[43m,\u001b[49m\u001b[43m \u001b[49m\u001b[43mdtrain\u001b[49m\u001b[43m,\u001b[49m\n\u001b[1;32m    176\u001b[0m \u001b[43m                      \u001b[49m\u001b[43mnum_boost_round\u001b[49m\u001b[38;5;241;43m=\u001b[39;49m\u001b[43mnum_boost_round\u001b[49m\u001b[43m,\u001b[49m\n\u001b[1;32m    177\u001b[0m \u001b[43m                      \u001b[49m\u001b[43mearly_stopping_rounds\u001b[49m\u001b[38;5;241;43m=\u001b[39;49m\u001b[38;5;241;43m50\u001b[39;49m\u001b[43m,\u001b[49m\u001b[43m \u001b[49m\u001b[43mverbose_eval\u001b[49m\u001b[38;5;241;43m=\u001b[39;49m\u001b[38;5;28;43;01mFalse\u001b[39;49;00m\u001b[43m,\u001b[49m\n\u001b[1;32m    178\u001b[0m \u001b[43m                      \u001b[49m\u001b[43mevals\u001b[49m\u001b[38;5;241;43m=\u001b[39;49m\u001b[43m[\u001b[49m\u001b[43m(\u001b[49m\u001b[43mdvalid\u001b[49m\u001b[43m,\u001b[49m\u001b[43m \u001b[49m\u001b[38;5;124;43m'\u001b[39;49m\u001b[38;5;124;43mvalidation\u001b[39;49m\u001b[38;5;124;43m'\u001b[39;49m\u001b[43m)\u001b[49m\u001b[43m]\u001b[49m\u001b[43m,\u001b[49m\n\u001b[1;32m    179\u001b[0m \u001b[43m                      \u001b[49m\u001b[43mcallbacks\u001b[49m\u001b[38;5;241;43m=\u001b[39;49m\u001b[43m[\u001b[49m\u001b[43mpruning_callback\u001b[49m\u001b[43m]\u001b[49m\u001b[43m)\u001b[49m\n\u001b[1;32m    180\u001b[0m pred \u001b[38;5;241m=\u001b[39m boost\u001b[38;5;241m.\u001b[39mpredict(dvalid)\n\u001b[1;32m    181\u001b[0m score \u001b[38;5;241m=\u001b[39m \u001b[38;5;28mself\u001b[39m\u001b[38;5;241m.\u001b[39mcompute_metric(torch\u001b[38;5;241m.\u001b[39mfrom_numpy(dvalid\u001b[38;5;241m.\u001b[39mget_label()),\n\u001b[1;32m    182\u001b[0m                             torch\u001b[38;5;241m.\u001b[39mfrom_numpy(pred))\n",
      "File \u001b[0;32m~/opt/anaconda3/envs/relbench/lib/python3.11/site-packages/xgboost/core.py:730\u001b[0m, in \u001b[0;36mrequire_keyword_args.<locals>.throw_if.<locals>.inner_f\u001b[0;34m(*args, **kwargs)\u001b[0m\n\u001b[1;32m    728\u001b[0m \u001b[38;5;28;01mfor\u001b[39;00m k, arg \u001b[38;5;129;01min\u001b[39;00m \u001b[38;5;28mzip\u001b[39m(sig\u001b[38;5;241m.\u001b[39mparameters, args):\n\u001b[1;32m    729\u001b[0m     kwargs[k] \u001b[38;5;241m=\u001b[39m arg\n\u001b[0;32m--> 730\u001b[0m \u001b[38;5;28;01mreturn\u001b[39;00m \u001b[43mfunc\u001b[49m\u001b[43m(\u001b[49m\u001b[38;5;241;43m*\u001b[39;49m\u001b[38;5;241;43m*\u001b[39;49m\u001b[43mkwargs\u001b[49m\u001b[43m)\u001b[49m\n",
      "File \u001b[0;32m~/opt/anaconda3/envs/relbench/lib/python3.11/site-packages/xgboost/training.py:181\u001b[0m, in \u001b[0;36mtrain\u001b[0;34m(params, dtrain, num_boost_round, evals, obj, feval, maximize, early_stopping_rounds, evals_result, verbose_eval, xgb_model, callbacks, custom_metric)\u001b[0m\n\u001b[1;32m    179\u001b[0m \u001b[38;5;28;01mif\u001b[39;00m cb_container\u001b[38;5;241m.\u001b[39mbefore_iteration(bst, i, dtrain, evals):\n\u001b[1;32m    180\u001b[0m     \u001b[38;5;28;01mbreak\u001b[39;00m\n\u001b[0;32m--> 181\u001b[0m \u001b[43mbst\u001b[49m\u001b[38;5;241;43m.\u001b[39;49m\u001b[43mupdate\u001b[49m\u001b[43m(\u001b[49m\u001b[43mdtrain\u001b[49m\u001b[43m,\u001b[49m\u001b[43m \u001b[49m\u001b[43mi\u001b[49m\u001b[43m,\u001b[49m\u001b[43m \u001b[49m\u001b[43mobj\u001b[49m\u001b[43m)\u001b[49m\n\u001b[1;32m    182\u001b[0m \u001b[38;5;28;01mif\u001b[39;00m cb_container\u001b[38;5;241m.\u001b[39mafter_iteration(bst, i, dtrain, evals):\n\u001b[1;32m    183\u001b[0m     \u001b[38;5;28;01mbreak\u001b[39;00m\n",
      "File \u001b[0;32m~/opt/anaconda3/envs/relbench/lib/python3.11/site-packages/xgboost/core.py:2051\u001b[0m, in \u001b[0;36mBooster.update\u001b[0;34m(self, dtrain, iteration, fobj)\u001b[0m\n\u001b[1;32m   2047\u001b[0m \u001b[38;5;28mself\u001b[39m\u001b[38;5;241m.\u001b[39m_assign_dmatrix_features(dtrain)\n\u001b[1;32m   2049\u001b[0m \u001b[38;5;28;01mif\u001b[39;00m fobj \u001b[38;5;129;01mis\u001b[39;00m \u001b[38;5;28;01mNone\u001b[39;00m:\n\u001b[1;32m   2050\u001b[0m     _check_call(\n\u001b[0;32m-> 2051\u001b[0m         \u001b[43m_LIB\u001b[49m\u001b[38;5;241;43m.\u001b[39;49m\u001b[43mXGBoosterUpdateOneIter\u001b[49m\u001b[43m(\u001b[49m\n\u001b[1;32m   2052\u001b[0m \u001b[43m            \u001b[49m\u001b[38;5;28;43mself\u001b[39;49m\u001b[38;5;241;43m.\u001b[39;49m\u001b[43mhandle\u001b[49m\u001b[43m,\u001b[49m\u001b[43m \u001b[49m\u001b[43mctypes\u001b[49m\u001b[38;5;241;43m.\u001b[39;49m\u001b[43mc_int\u001b[49m\u001b[43m(\u001b[49m\u001b[43miteration\u001b[49m\u001b[43m)\u001b[49m\u001b[43m,\u001b[49m\u001b[43m \u001b[49m\u001b[43mdtrain\u001b[49m\u001b[38;5;241;43m.\u001b[39;49m\u001b[43mhandle\u001b[49m\n\u001b[1;32m   2053\u001b[0m \u001b[43m        \u001b[49m\u001b[43m)\u001b[49m\n\u001b[1;32m   2054\u001b[0m     )\n\u001b[1;32m   2055\u001b[0m \u001b[38;5;28;01melse\u001b[39;00m:\n\u001b[1;32m   2056\u001b[0m     pred \u001b[38;5;241m=\u001b[39m \u001b[38;5;28mself\u001b[39m\u001b[38;5;241m.\u001b[39mpredict(dtrain, output_margin\u001b[38;5;241m=\u001b[39m\u001b[38;5;28;01mTrue\u001b[39;00m, training\u001b[38;5;241m=\u001b[39m\u001b[38;5;28;01mTrue\u001b[39;00m)\n",
      "\u001b[0;31mKeyboardInterrupt\u001b[0m: "
     ]
    }
   ],
   "source": [
    "gbdt = LightGBM(TaskType.BINARY_CLASSIFICATION, num_classes=2, metric=tune_metric)\n",
    "gbdt.tune(tf_train=train_dset.tensor_frame, tf_val=val_tf, num_trials=10)"
   ]
  },
  {
   "cell_type": "code",
   "execution_count": null,
   "metadata": {},
   "outputs": [],
   "source": []
  }
 ],
 "metadata": {
  "kernelspec": {
   "display_name": "relbench",
   "language": "python",
   "name": "python3"
  },
  "language_info": {
   "codemirror_mode": {
    "name": "ipython",
    "version": 3
   },
   "file_extension": ".py",
   "mimetype": "text/x-python",
   "name": "python",
   "nbconvert_exporter": "python",
   "pygments_lexer": "ipython3",
   "version": "3.11.8"
  }
 },
 "nbformat": 4,
 "nbformat_minor": 2
}
