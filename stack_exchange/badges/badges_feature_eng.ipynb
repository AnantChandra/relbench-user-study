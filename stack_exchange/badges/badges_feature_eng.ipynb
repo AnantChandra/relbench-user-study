{
 "cells": [
  {
   "cell_type": "markdown",
   "metadata": {},
   "source": [
    "## Feature Ideas\n",
    "\n",
    "This task has a high degree of conceptual overlap with `engage`. For that reason, we will reuse\n",
    "many of the engage features + add a few more badge-specific features.\n",
    "\n",
    "- **Engage feature set** (row per user, timestamp; excluding some unimportant features):\n",
    "    - User-level features:\n",
    "        - `userId`\n",
    "        - `timestamp`\n",
    "        - `months_since_account_creation`\n",
    "        - `num_badges`\n",
    "        - `weeks_since_last_badge`\n",
    "        - `badge_score`: sum of log(1 / badge_incidence) -- captures a total of badges weighted by their rarity. Eg: let's say a user has two badges, one that 5% of users have and another that 1% of users have, then the badge_score is log(20) + log(100)\n",
    "    - Question feats:\n",
    "        - last_question (feats as of the last question asked by user, NULL if not exists):\n",
    "            - `weeks_ago`: how many weeks ago did the user post their last question \n",
    "            - `num_tags`\n",
    "            - `body_length`\n",
    "            - `avg_commenter_badge_score`\n",
    "        - questions_last_yr (aggregate feats over questions asked by user in the last year, NULL otherwise):\n",
    "            - `num_questions_last_6mo`\n",
    "            - `avg_has_accepted_ans`\n",
    "            - `avg_num_tags`\n",
    "            - `avg_body_length`\n",
    "            - `avg_num_postive_votes`\n",
    "            - `avg_num_negative_votes`\n",
    "            - `avg_num_comments`\n",
    "            - `avg_commenter_badge_score`\n",
    "    - Answer feats:\n",
    "        - last_answer (feats as of the last answer posted by user, NULL if not exists)\n",
    "            - `weeks_ago`: how many weeks ago did the user post their last answer \n",
    "            - `body_length`\n",
    "            - `avg_commenter_badge_score`\n",
    "        - answers_last_yr (aggregate feats over answeres posted by user in the last year, NULL otherwise):\n",
    "            - `num_answeres_last_3mo`\n",
    "            - `acceptance_rate`\n",
    "            - `avg_body_length`\n",
    "            - `avg_num_postive_votes`\n",
    "            - `avg_num_negative_votes`\n",
    "            - `avg_num_comments`\n",
    "            - `avg_commenter_badge_score`\n",
    "    - Extra badge features:\n",
    "        - `last_badge_rarity`: rarity as defined in badge score, ie `log(1 / badge_incidence)`\n",
    "        - `max_rarity`\n",
    "        - `rarest_badge_weeks_ago`\n",
    "        - `avg_badge_age`\n",
    "        - `avg_time_bw_badges`\n",
    "        - `avg_badge_rarity`\n",
    "        - `badge_momentum`: An exponential moving average of badge rarity (a recent rare badge > an old rare badge)"
   ]
  },
  {
   "cell_type": "code",
   "execution_count": 1,
   "metadata": {},
   "outputs": [
    {
     "name": "stdout",
     "output_type": "stream",
     "text": [
      "/lfs/hyperion/0/adobles/relbench-user-study/stack_exchange\n"
     ]
    }
   ],
   "source": [
    "cd .."
   ]
  },
  {
   "cell_type": "code",
   "execution_count": 2,
   "metadata": {},
   "outputs": [],
   "source": [
    "import duckdb\n",
    "import numpy as np\n",
    "from relbench.datasets import get_dataset\n",
    "from torch_frame import TaskType, stype\n",
    "from torch_frame.gbdt import LightGBM, XGBoost\n",
    "from torch_frame.data import Dataset\n",
    "from torch_frame.typing import Metric\n",
    "from torch_frame.utils import infer_df_stype\n",
    "\n",
    "import utils\n",
    "\n",
    "conn = duckdb.connect('stackex.db')\n",
    "%load_ext sql\n",
    "%sql conn --alias duckdb\n",
    "%config SqlMagic.displaycon=False"
   ]
  },
  {
   "cell_type": "code",
   "execution_count": 3,
   "metadata": {
    "vscode": {
     "languageId": "sql"
    }
   },
   "outputs": [
    {
     "data": {
      "text/html": [
       "<table>\n",
       "    <thead>\n",
       "        <tr>\n",
       "            <th>avg(WillGetBadge)</th>\n",
       "            <th>count_star()</th>\n",
       "        </tr>\n",
       "    </thead>\n",
       "    <tbody>\n",
       "        <tr>\n",
       "            <td>0.29954158316633267</td>\n",
       "            <td>399200</td>\n",
       "        </tr>\n",
       "    </tbody>\n",
       "</table>"
      ],
      "text/plain": [
       "+---------------------+--------------+\n",
       "|  avg(WillGetBadge)  | count_star() |\n",
       "+---------------------+--------------+\n",
       "| 0.29954158316633267 |    399200    |\n",
       "+---------------------+--------------+"
      ]
     },
     "execution_count": 3,
     "metadata": {},
     "output_type": "execute_result"
    }
   ],
   "source": [
    "%%sql\n",
    "select \n",
    "    avg(WillGetBadge),\n",
    "    count(*)\n",
    "from badges_train"
   ]
  },
  {
   "cell_type": "code",
   "execution_count": 4,
   "metadata": {
    "vscode": {
     "languageId": "sql"
    }
   },
   "outputs": [
    {
     "data": {
      "text/html": [
       "<table>\n",
       "    <thead>\n",
       "        <tr>\n",
       "            <th>UserId</th>\n",
       "            <th>first_badge</th>\n",
       "            <th>last_badge</th>\n",
       "        </tr>\n",
       "    </thead>\n",
       "    <tbody>\n",
       "        <tr>\n",
       "            <td>40870</td>\n",
       "            <td>Autobiographer</td>\n",
       "            <td>Teacher</td>\n",
       "        </tr>\n",
       "        <tr>\n",
       "            <td>7367</td>\n",
       "            <td>Student</td>\n",
       "            <td>Popular Question</td>\n",
       "        </tr>\n",
       "        <tr>\n",
       "            <td>40878</td>\n",
       "            <td>Student</td>\n",
       "            <td>Editor</td>\n",
       "        </tr>\n",
       "        <tr>\n",
       "            <td>16986</td>\n",
       "            <td>Student</td>\n",
       "            <td>Yearling</td>\n",
       "        </tr>\n",
       "        <tr>\n",
       "            <td>40880</td>\n",
       "            <td>Student</td>\n",
       "            <td>Scholar</td>\n",
       "        </tr>\n",
       "        <tr>\n",
       "            <td>40864</td>\n",
       "            <td>Editor</td>\n",
       "            <td>Yearling</td>\n",
       "        </tr>\n",
       "        <tr>\n",
       "            <td>40882</td>\n",
       "            <td>Student</td>\n",
       "            <td>Nice Question</td>\n",
       "        </tr>\n",
       "        <tr>\n",
       "            <td>40883</td>\n",
       "            <td>Informed</td>\n",
       "            <td>Autobiographer</td>\n",
       "        </tr>\n",
       "        <tr>\n",
       "            <td>14657</td>\n",
       "            <td>Scholar</td>\n",
       "            <td>Yearling</td>\n",
       "        </tr>\n",
       "        <tr>\n",
       "            <td>39075</td>\n",
       "            <td>Student</td>\n",
       "            <td>Popular Question</td>\n",
       "        </tr>\n",
       "    </tbody>\n",
       "</table>\n",
       "<span style=\"font-style:italic;text-align:center;\">Truncated to <a href=\"https://jupysql.ploomber.io/en/latest/api/configuration.html#displaylimit\">displaylimit</a> of 10.</span>"
      ],
      "text/plain": [
       "+--------+----------------+------------------+\n",
       "| UserId |  first_badge   |    last_badge    |\n",
       "+--------+----------------+------------------+\n",
       "| 40870  | Autobiographer |     Teacher      |\n",
       "|  7367  |    Student     | Popular Question |\n",
       "| 40878  |    Student     |      Editor      |\n",
       "| 16986  |    Student     |     Yearling     |\n",
       "| 40880  |    Student     |     Scholar      |\n",
       "| 40864  |     Editor     |     Yearling     |\n",
       "| 40882  |    Student     |  Nice Question   |\n",
       "| 40883  |    Informed    |  Autobiographer  |\n",
       "| 14657  |    Scholar     |     Yearling     |\n",
       "| 39075  |    Student     | Popular Question |\n",
       "+--------+----------------+------------------+\n",
       "Truncated to displaylimit of 10."
      ]
     },
     "execution_count": 4,
     "metadata": {},
     "output_type": "execute_result"
    }
   ],
   "source": [
    "%%sql\n",
    "select\n",
    "    badges.UserId,\n",
    "    first(badges.Name order by badges.Date asc) as first_badge,\n",
    "    last(badges.Name order by badges.Date asc) as last_badge\n",
    "from badges\n",
    "group by badges.UserId\n",
    "limit 10"
   ]
  },
  {
   "cell_type": "markdown",
   "metadata": {},
   "source": [
    "## Tuning"
   ]
  },
  {
   "cell_type": "code",
   "execution_count": 25,
   "metadata": {},
   "outputs": [
    {
     "name": "stdout",
     "output_type": "stream",
     "text": [
      "Creating train table\n",
      "train table created\n",
      "Creating val table\n",
      "val table created\n",
      "Creating test table\n",
      "test table created\n"
     ]
    }
   ],
   "source": [
    "with open('badges/feats.sql', 'r') as f:\n",
    "    # run once with train_labels and once with val_labels\n",
    "    template = f.read()\n",
    "\n",
    "# create train, val and test features\n",
    "# takes 1 - 5 mins\n",
    "for s in ['train', 'val', 'test']:\n",
    "    print(f'Creating {s} table')\n",
    "    query = utils.render_jinja_sql(template, dict(set=s))\n",
    "    conn.sql(query)\n",
    "    print(f'{s} table created')"
   ]
  },
  {
   "cell_type": "code",
   "execution_count": 26,
   "metadata": {},
   "outputs": [],
   "source": [
    "train_df = conn.sql('select * from badges_train_feats').df()\n",
    "val_df = conn.sql('select * from badges_val_feats').df()"
   ]
  },
  {
   "cell_type": "code",
   "execution_count": 27,
   "metadata": {},
   "outputs": [
    {
     "data": {
      "text/plain": [
       "{'user_id': <stype.numerical: 'numerical'>,\n",
       " 'timestamp': <stype.timestamp: 'timestamp'>,\n",
       " 'WillGetBadge': <stype.categorical: 'categorical'>,\n",
       " 'months_since_account_creation': <stype.categorical: 'categorical'>,\n",
       " 'num_badges': <stype.numerical: 'numerical'>,\n",
       " 'badge_score': <stype.numerical: 'numerical'>,\n",
       " 'max_rarity': <stype.numerical: 'numerical'>,\n",
       " 'avg_rarity': <stype.numerical: 'numerical'>,\n",
       " 'rarest_badge_age_weeks': <stype.categorical: 'categorical'>,\n",
       " 'last_badge_rarity': <stype.numerical: 'numerical'>,\n",
       " 'last_badge_weeks_ago': <stype.categorical: 'categorical'>,\n",
       " 'avg_badge_age_weeks': <stype.numerical: 'numerical'>,\n",
       " 'avg_weeks_bw_badges': <stype.numerical: 'numerical'>,\n",
       " 'badge_momentum': <stype.numerical: 'numerical'>,\n",
       " 'weeks_since_last_comment': <stype.categorical: 'categorical'>,\n",
       " 'num_comments': <stype.numerical: 'numerical'>,\n",
       " 'num_posts_commented': <stype.numerical: 'numerical'>,\n",
       " 'avg_comment_length': <stype.numerical: 'numerical'>,\n",
       " 'last_q_weeks_ago': <stype.categorical: 'categorical'>,\n",
       " 'last_q_num_tags': <stype.categorical: 'categorical'>,\n",
       " 'last_q_body_length': <stype.numerical: 'numerical'>,\n",
       " 'last_q_num_positive_votes': <stype.numerical: 'numerical'>,\n",
       " 'last_q_num_negative_votes': <stype.numerical: 'numerical'>,\n",
       " 'last_q_num_comments': <stype.numerical: 'numerical'>,\n",
       " 'last_q_avg_commenter_badge_score': <stype.numerical: 'numerical'>,\n",
       " 'num_questions_last_yr': <stype.numerical: 'numerical'>,\n",
       " 'avg_days_since_last_post_q': <stype.numerical: 'numerical'>,\n",
       " 'avg_num_tags': <stype.numerical: 'numerical'>,\n",
       " 'avg_body_length_q': <stype.numerical: 'numerical'>,\n",
       " 'avg_num_positive_votes_q': <stype.numerical: 'numerical'>,\n",
       " 'avg_num_negative_votes_q': <stype.numerical: 'numerical'>,\n",
       " 'avg_num_comments_q': <stype.numerical: 'numerical'>,\n",
       " 'avg_commenter_badge_score_q': <stype.numerical: 'numerical'>,\n",
       " 'last_a_weeks_ago': <stype.numerical: 'numerical'>,\n",
       " 'last_a_body_length': <stype.numerical: 'numerical'>,\n",
       " 'last_a_num_positive_votes': <stype.numerical: 'numerical'>,\n",
       " 'last_a_num_negative_votes': <stype.numerical: 'numerical'>,\n",
       " 'last_a_num_comments': <stype.numerical: 'numerical'>,\n",
       " 'last_a_avg_commenter_badge_score': <stype.numerical: 'numerical'>,\n",
       " 'num_answers_last_yr': <stype.numerical: 'numerical'>,\n",
       " 'avg_days_since_last_post_a': <stype.numerical: 'numerical'>,\n",
       " 'avg_body_length_a': <stype.numerical: 'numerical'>,\n",
       " 'avg_num_positive_votes_a': <stype.numerical: 'numerical'>,\n",
       " 'avg_num_negative_votes_a': <stype.numerical: 'numerical'>,\n",
       " 'avg_num_comments_a': <stype.numerical: 'numerical'>,\n",
       " 'avg_commenter_badge_score_a': <stype.numerical: 'numerical'>}"
      ]
     },
     "execution_count": 27,
     "metadata": {},
     "output_type": "execute_result"
    }
   ],
   "source": [
    "col_to_stype = infer_df_stype(train_df)\n",
    "col_to_stype"
   ]
  },
  {
   "cell_type": "code",
   "execution_count": 28,
   "metadata": {},
   "outputs": [],
   "source": [
    "DROP_COLS = [\n",
    "    # drop identifier cols\n",
    "    'user_id',\n",
    "    'timestamp',\n",
    "]\n",
    "for c in DROP_COLS:\n",
    "    del col_to_stype[c]\n",
    "# Correct certain columns\n",
    "col_to_stype['months_since_account_creation'] = stype.numerical\n",
    "col_to_stype['rarest_badge_age_weeks'] = stype.numerical\n",
    "col_to_stype['last_badge_weeks_ago'] = stype.numerical\n",
    "col_to_stype['weeks_since_last_comment'] = stype.numerical\n",
    "col_to_stype['last_q_weeks_ago'] = stype.numerical\n",
    "col_to_stype['last_q_num_tags'] = stype.numerical"
   ]
  },
  {
   "cell_type": "code",
   "execution_count": 29,
   "metadata": {},
   "outputs": [
    {
     "name": "stdout",
     "output_type": "stream",
     "text": [
      "43 399200\n"
     ]
    }
   ],
   "source": [
    "train_dset = Dataset(\n",
    "    train_df.drop(DROP_COLS, axis=1),\n",
    "    col_to_stype=col_to_stype,\n",
    "    target_col='WillGetBadge'\n",
    ").materialize()\n",
    "val_tf = train_dset.convert_to_tensor_frame(val_df.drop(DROP_COLS, axis=1))\n",
    "tune_metric = Metric.ROCAUC\n",
    "print(train_dset.tensor_frame.num_cols, train_dset.tensor_frame.num_rows)"
   ]
  },
  {
   "cell_type": "code",
   "execution_count": 30,
   "metadata": {},
   "outputs": [
    {
     "name": "stderr",
     "output_type": "stream",
     "text": [
      "/lfs/hyperion/0/adobles/miniconda3/envs/relbench/lib/python3.11/site-packages/tqdm/auto.py:21: TqdmWarning: IProgress not found. Please update jupyter and ipywidgets. See https://ipywidgets.readthedocs.io/en/stable/user_install.html\n",
      "  from .autonotebook import tqdm as notebook_tqdm\n",
      "[I 2024-04-22 21:58:25,188] A new study created in memory with name: no-name-e211034d-eee6-42ce-8403-8fbdc5e8ad5a\n"
     ]
    },
    {
     "ename": "",
     "evalue": "",
     "output_type": "error",
     "traceback": [
      "\u001b[1;31mThe Kernel crashed while executing code in the current cell or a previous cell. \n",
      "\u001b[1;31mPlease review the code in the cell(s) to identify a possible cause of the failure. \n",
      "\u001b[1;31mClick <a href='https://aka.ms/vscodeJupyterKernelCrash'>here</a> for more info. \n",
      "\u001b[1;31mView Jupyter <a href='command:jupyter.viewOutput'>log</a> for further details."
     ]
    }
   ],
   "source": [
    "gbdt = XGBoost(TaskType.BINARY_CLASSIFICATION, num_classes=2, metric=tune_metric)\n",
    "gbdt.tune(tf_train=train_dset.tensor_frame, tf_val=val_tf, num_trials=10, device='cuda')"
   ]
  },
  {
   "cell_type": "code",
   "execution_count": null,
   "metadata": {},
   "outputs": [],
   "source": [
    "gbdt.save('data/badges.xgb')"
   ]
  },
  {
   "cell_type": "markdown",
   "metadata": {},
   "source": [
    "## Val Eval"
   ]
  },
  {
   "cell_type": "code",
   "execution_count": null,
   "metadata": {},
   "outputs": [],
   "source": [
    "import plotly.graph_objects as go\n",
    "from sklearn.metrics import roc_curve, average_precision_score, accuracy_score, PrecisionRecallDisplay"
   ]
  },
  {
   "cell_type": "markdown",
   "metadata": {},
   "source": []
  }
 ],
 "metadata": {
  "kernelspec": {
   "display_name": "relbench",
   "language": "python",
   "name": "python3"
  },
  "language_info": {
   "codemirror_mode": {
    "name": "ipython",
    "version": 3
   },
   "file_extension": ".py",
   "mimetype": "text/x-python",
   "name": "python",
   "nbconvert_exporter": "python",
   "pygments_lexer": "ipython3",
   "version": "3.11.8"
  }
 },
 "nbformat": 4,
 "nbformat_minor": 2
}
