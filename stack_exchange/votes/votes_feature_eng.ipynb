{
 "cells": [
  {
   "cell_type": "markdown",
   "metadata": {},
   "source": [
    "## Feature Ideas\n",
    "\n",
    "- Basics\n",
    "    - Body Length\n",
    "    - Title Length\n",
    "    - Num tags\n",
    "    - Post Age in weeks\n",
    "    - Post ordinal (ie what number of post this is for the user 1st, 2nd, 3rd, etc.)\n",
    "    - Post type (Q or A)\n",
    "    - Current Num Votes?\n",
    "    - Deleted/undeleted weeks ago\n",
    "    - Locked/unlocked weeks ago\n",
    "    - Closed/reopened weeks ago\n",
    "    - Bumped weeks ago\n",
    "    - Tweeted weeks ago\n",
    "\n",
    "- Owner Features:\n",
    "    - Owner age in months\n",
    "    - Owner average question popularity (first month)\n",
    "    - Owner average answer popularity (first month)\n",
    "    - Owner average question comments (first month)\n",
    "    - Owner average answer comments (first month)\n",
    "\n"
   ]
  },
  {
   "cell_type": "code",
   "execution_count": 1,
   "metadata": {},
   "outputs": [
    {
     "name": "stdout",
     "output_type": "stream",
     "text": [
      "/Users/adobles/projects/snap/relbench-user-study/stack_exchange\n"
     ]
    }
   ],
   "source": [
    "cd .."
   ]
  },
  {
   "cell_type": "code",
   "execution_count": 29,
   "metadata": {},
   "outputs": [
    {
     "name": "stdout",
     "output_type": "stream",
     "text": [
      "The sql extension is already loaded. To reload it, use:\n",
      "  %reload_ext sql\n"
     ]
    }
   ],
   "source": [
    "import duckdb\n",
    "import numpy as np\n",
    "from relbench.datasets import get_dataset\n",
    "from torch_frame import TaskType, stype\n",
    "from torch_frame.gbdt import LightGBM, XGBoost\n",
    "from torch_frame.data import Dataset\n",
    "from torch_frame.typing import Metric\n",
    "from torch_frame.utils import infer_df_stype\n",
    "\n",
    "import utils\n",
    "\n",
    "conn = duckdb.connect('stackex.db')\n",
    "%load_ext sql\n",
    "%sql conn --alias duckdb\n",
    "%config SqlMagic.displaycon=False"
   ]
  },
  {
   "cell_type": "markdown",
   "metadata": {},
   "source": [
    "### Ideation Scrap Work\n",
    "\n",
    "Quick queries ran during ideation"
   ]
  },
  {
   "cell_type": "code",
   "execution_count": 3,
   "metadata": {
    "vscode": {
     "languageId": "sql"
    }
   },
   "outputs": [
    {
     "data": {
      "text/html": [
       "<table>\n",
       "    <thead>\n",
       "        <tr>\n",
       "            <th>PostTypeId</th>\n",
       "            <th>votes_per_post</th>\n",
       "            <th>min_vote_week</th>\n",
       "            <th>avg_vote_week</th>\n",
       "            <th>median_vote_week</th>\n",
       "            <th>eightyp_vote_week</th>\n",
       "            <th>ninetyp_vote_week</th>\n",
       "            <th>max_vote_week</th>\n",
       "            <th>std_vote_week</th>\n",
       "        </tr>\n",
       "    </thead>\n",
       "    <tbody>\n",
       "        <tr>\n",
       "            <td>1</td>\n",
       "            <td>2.9312040811212188</td>\n",
       "            <td>0</td>\n",
       "            <td>46.67060215499024</td>\n",
       "            <td>0.0</td>\n",
       "            <td>73</td>\n",
       "            <td>200</td>\n",
       "            <td>560</td>\n",
       "            <td>98.01482457638075</td>\n",
       "        </tr>\n",
       "        <tr>\n",
       "            <td>2</td>\n",
       "            <td>3.0177840247587295</td>\n",
       "            <td>0</td>\n",
       "            <td>42.26979740639054</td>\n",
       "            <td>0.0</td>\n",
       "            <td>55</td>\n",
       "            <td>183</td>\n",
       "            <td>545</td>\n",
       "            <td>93.31642380678679</td>\n",
       "        </tr>\n",
       "    </tbody>\n",
       "</table>"
      ],
      "text/plain": [
       "+------------+--------------------+---------------+-------------------+------------------+-------------------+-------------------+---------------+-------------------+\n",
       "| PostTypeId |   votes_per_post   | min_vote_week |   avg_vote_week   | median_vote_week | eightyp_vote_week | ninetyp_vote_week | max_vote_week |   std_vote_week   |\n",
       "+------------+--------------------+---------------+-------------------+------------------+-------------------+-------------------+---------------+-------------------+\n",
       "|     1      | 2.9312040811212188 |       0       | 46.67060215499024 |       0.0        |         73        |        200        |      560      | 98.01482457638075 |\n",
       "|     2      | 3.0177840247587295 |       0       | 42.26979740639054 |       0.0        |         55        |        183        |      545      | 93.31642380678679 |\n",
       "+------------+--------------------+---------------+-------------------+------------------+-------------------+-------------------+---------------+-------------------+"
      ]
     },
     "execution_count": 3,
     "metadata": {},
     "output_type": "execute_result"
    }
   ],
   "source": [
    "%%sql\n",
    "select\n",
    "    posts.PostTypeId,\n",
    "    count(*) / count(distinct posts.Id) as votes_per_post,\n",
    "    min(date_diff('week', posts.CreationDate, votes.CreationDate)) as min_vote_week,\n",
    "    avg(date_diff('week', posts.CreationDate, votes.CreationDate)) as avg_vote_week,\n",
    "    median(date_diff('week', posts.CreationDate, votes.CreationDate)) as median_vote_week,\n",
    "    quantile_disc(date_diff('week', posts.CreationDate, votes.CreationDate), 0.8) as eightyp_vote_week,\n",
    "    quantile_disc(date_diff('week', posts.CreationDate, votes.CreationDate), 0.9) as ninetyp_vote_week,\n",
    "    max(date_diff('week', posts.CreationDate, votes.CreationDate)) as max_vote_week,\n",
    "    stddev(date_diff('week', posts.CreationDate, votes.CreationDate)) as std_vote_week\n",
    "from posts\n",
    "left join votes\n",
    "    on posts.Id = votes.PostId\n",
    "where votes.VoteTypeId = 2  -- upvotes\n",
    "group by all"
   ]
  },
  {
   "cell_type": "code",
   "execution_count": 9,
   "metadata": {
    "vscode": {
     "languageId": "sql"
    }
   },
   "outputs": [
    {
     "data": {
      "text/html": [
       "<table>\n",
       "    <thead>\n",
       "        <tr>\n",
       "            <th>total_users</th>\n",
       "            <th>never_posted</th>\n",
       "            <th>pct_never_posted</th>\n",
       "            <th>never_commented</th>\n",
       "            <th>pct_never_commented</th>\n",
       "            <th>never_nothing</th>\n",
       "            <th>pct_never_nothing</th>\n",
       "        </tr>\n",
       "    </thead>\n",
       "    <tbody>\n",
       "        <tr>\n",
       "            <td>439116</td>\n",
       "            <td>140546</td>\n",
       "            <td>0.32006576849852886</td>\n",
       "            <td>236811</td>\n",
       "            <td>0.5392903014237695</td>\n",
       "            <td>135354</td>\n",
       "            <td>0.3082420134998497</td>\n",
       "        </tr>\n",
       "    </tbody>\n",
       "</table>"
      ],
      "text/plain": [
       "+-------------+--------------+---------------------+-----------------+---------------------+---------------+--------------------+\n",
       "| total_users | never_posted |   pct_never_posted  | never_commented | pct_never_commented | never_nothing | pct_never_nothing  |\n",
       "+-------------+--------------+---------------------+-----------------+---------------------+---------------+--------------------+\n",
       "|    439116   |    140546    | 0.32006576849852886 |      236811     |  0.5392903014237695 |     135354    | 0.3082420134998497 |\n",
       "+-------------+--------------+---------------------+-----------------+---------------------+---------------+--------------------+"
      ]
     },
     "execution_count": 9,
     "metadata": {},
     "output_type": "execute_result"
    }
   ],
   "source": [
    "%%sql\n",
    "-- num users who have never posted\n",
    "select\n",
    "    count(*) as total_users,\n",
    "    sum((p.OwnerUserId is null)::int) as never_posted,\n",
    "    never_posted / count(*) as pct_never_posted,\n",
    "    sum((c.UserId is null)::int) as never_commented,\n",
    "    never_commented / count(*) as pct_never_commented,\n",
    "    sum((coalesce(p.OwnerUserId, c.UserId) is null)::int) never_nothing,\n",
    "    never_nothing / count(*) as pct_never_nothing\n",
    "from users\n",
    "left join (select distinct OwnerUserId from posts) as p\n",
    "    on users.Id = p.OwnerUserId\n",
    "left join (select distinct UserId from comments) as c\n",
    "    on users.Id = c.UserId"
   ]
  },
  {
   "cell_type": "code",
   "execution_count": 4,
   "metadata": {
    "vscode": {
     "languageId": "sql"
    }
   },
   "outputs": [
    {
     "data": {
      "text/html": [
       "<table>\n",
       "    <thead>\n",
       "        <tr>\n",
       "            <th>Comment</th>\n",
       "            <th>Id</th>\n",
       "            <th>RevisionGUID</th>\n",
       "            <th>Text</th>\n",
       "            <th>ContentLicense</th>\n",
       "            <th>CreationDate</th>\n",
       "            <th>PostHistoryTypeId</th>\n",
       "            <th>UserId</th>\n",
       "            <th>UserDisplayName</th>\n",
       "            <th>PostId</th>\n",
       "        </tr>\n",
       "    </thead>\n",
       "    <tbody>\n",
       "        <tr>\n",
       "            <td>7</td>\n",
       "            <td>467</td>\n",
       "            <td>60e4f837-3546-4f10-bab0-4f46d7a1d087</td>\n",
       "            <td>{\"Voters\":[{\"Id\":109,\"DisplayName\":\"Akhil Mathew\"},{\"Id\":76,\"DisplayName\":\"Katie Banks\"},{\"Id\":126,\"DisplayName\":\"Harry Gindi\"},{\"Id\":149,\"DisplayName\":\"Prasoon Saurav\"},{\"Id\":16,\"DisplayName\":\"BBischof\"}]}</td>\n",
       "            <td>None</td>\n",
       "            <td>2010-07-21 04:40:47.737000</td>\n",
       "            <td>10.0</td>\n",
       "            <td>0</td>\n",
       "            <td>None</td>\n",
       "            <td>10</td>\n",
       "        </tr>\n",
       "        <tr>\n",
       "            <td>4</td>\n",
       "            <td>563</td>\n",
       "            <td>3285f0d4-9731-42d2-bf4f-55eb85ae44be</td>\n",
       "            <td>{\"Voters\":[{\"Id\":143,\"DisplayName\":\"Peter Smit\"},{\"Id\":126,\"DisplayName\":\"Harry Gindi\"},{\"Id\":121,\"DisplayName\":\"Tom Stephens\"},{\"Id\":123,\"DisplayName\":\"Casebash\"},{\"Id\":76,\"DisplayName\":\"Katie Banks\"}]}</td>\n",
       "            <td>None</td>\n",
       "            <td>2010-07-21 08:07:49.977000</td>\n",
       "            <td>10.0</td>\n",
       "            <td>0</td>\n",
       "            <td>None</td>\n",
       "            <td>240</td>\n",
       "        </tr>\n",
       "        <tr>\n",
       "            <td>3</td>\n",
       "            <td>598</td>\n",
       "            <td>bba44296-d243-4422-910b-f84ead0c20d3</td>\n",
       "            <td>{\"Voters\":[{\"Id\":126,\"DisplayName\":\"Harry Gindi\"},{\"Id\":9,\"DisplayName\":\"Eric\"},{\"Id\":109,\"DisplayName\":\"Akhil Mathew\"},{\"Id\":25,\"DisplayName\":\"François G. Dorais\"},{\"Id\":100,\"DisplayName\":\"Charles Stewart\"}]}</td>\n",
       "            <td>None</td>\n",
       "            <td>2010-07-21 10:57:17.403000</td>\n",
       "            <td>10.0</td>\n",
       "            <td>0</td>\n",
       "            <td>None</td>\n",
       "            <td>130</td>\n",
       "        </tr>\n",
       "        <tr>\n",
       "            <td>2</td>\n",
       "            <td>728</td>\n",
       "            <td>32c952c0-ead6-4c48-9a17-6aff6101e8fc</td>\n",
       "            <td>{\"Voters\":[{\"Id\":45,\"DisplayName\":\"Ben Alpert\"},{\"Id\":31,\"DisplayName\":\"Simon Nickerson\"},{\"Id\":126,\"DisplayName\":\"Harry Gindi\"},{\"Id\":38,\"DisplayName\":\"John Gietzen\"},{\"Id\":6,\"DisplayName\":\"Jason Punyon\"}]}</td>\n",
       "            <td>None</td>\n",
       "            <td>2010-07-21 17:00:25.043000</td>\n",
       "            <td>10.0</td>\n",
       "            <td>0</td>\n",
       "            <td>None</td>\n",
       "            <td>303</td>\n",
       "        </tr>\n",
       "        <tr>\n",
       "            <td>7</td>\n",
       "            <td>1039</td>\n",
       "            <td>5c20e369-9442-4026-86c7-9dce7649ba4b</td>\n",
       "            <td>{\"Voters\":[{\"Id\":136,\"DisplayName\":\"BlueRaja - Danny Pflughoeft\"},{\"Id\":143,\"DisplayName\":\"Peter Smit\"},{\"Id\":109,\"DisplayName\":\"Akhil Mathew\"},{\"Id\":72,\"DisplayName\":\"Isaac\"},{\"Id\":73,\"DisplayName\":\"Kaestur Hakarl\"}]}</td>\n",
       "            <td>None</td>\n",
       "            <td>2010-07-22 17:24:12.963000</td>\n",
       "            <td>10.0</td>\n",
       "            <td>0</td>\n",
       "            <td>None</td>\n",
       "            <td>429</td>\n",
       "        </tr>\n",
       "        <tr>\n",
       "            <td>7</td>\n",
       "            <td>1526</td>\n",
       "            <td>3641391f-73a1-4aa7-b21a-a22f48c3ee3e</td>\n",
       "            <td>{\"Voters\":[{\"Id\":126,\"DisplayName\":\"97832123\"},{\"Id\":109,\"DisplayName\":\"Akhil Mathew\"},{\"Id\":123,\"DisplayName\":\"Casebash\"},{\"Id\":16,\"DisplayName\":\"BBischof\"},{\"Id\":143,\"DisplayName\":\"Peter Smit\"}]}</td>\n",
       "            <td>None</td>\n",
       "            <td>2010-07-26 06:25:07.010000</td>\n",
       "            <td>10.0</td>\n",
       "            <td>0</td>\n",
       "            <td>None</td>\n",
       "            <td>405</td>\n",
       "        </tr>\n",
       "        <tr>\n",
       "            <td>None</td>\n",
       "            <td>1005</td>\n",
       "            <td>c2a5f241-1fa5-418d-8c30-835ed9216116</td>\n",
       "            <td>{\"Voters\":[{\"Id\":30,\"DisplayName\":\"anosov_diffeomorphism\"}]}</td>\n",
       "            <td>None</td>\n",
       "            <td>2010-07-22 13:47:42.123000</td>\n",
       "            <td>12.0</td>\n",
       "            <td>28</td>\n",
       "            <td>None</td>\n",
       "            <td>421</td>\n",
       "        </tr>\n",
       "        <tr>\n",
       "            <td>None</td>\n",
       "            <td>1993</td>\n",
       "            <td>0f8a2c6a-8f24-4646-aa58-a2e0befff357</td>\n",
       "            <td>{\"Voters\":[{\"Id\":232,\"DisplayName\":\"Qiaochu Yuan\"}]}</td>\n",
       "            <td>None</td>\n",
       "            <td>2010-07-28 04:29:45.920000</td>\n",
       "            <td>12.0</td>\n",
       "            <td>203</td>\n",
       "            <td>None</td>\n",
       "            <td>799</td>\n",
       "        </tr>\n",
       "        <tr>\n",
       "            <td>None</td>\n",
       "            <td>1042</td>\n",
       "            <td>975587b6-9f32-4570-8a67-b6bd8d936fcd</td>\n",
       "            <td>{\"Voters\":[{\"Id\":30,\"DisplayName\":\"anosov_diffeomorphism\"}]}</td>\n",
       "            <td>None</td>\n",
       "            <td>2010-07-22 17:25:13.633000</td>\n",
       "            <td>13.0</td>\n",
       "            <td>28</td>\n",
       "            <td>None</td>\n",
       "            <td>421</td>\n",
       "        </tr>\n",
       "        <tr>\n",
       "            <td>None</td>\n",
       "            <td>1997</td>\n",
       "            <td>82c369a7-98cb-4c79-9abe-df7774271115</td>\n",
       "            <td>{\"Voters\":[{\"Id\":232,\"DisplayName\":\"Qiaochu Yuan\"}]}</td>\n",
       "            <td>None</td>\n",
       "            <td>2010-07-28 04:42:26.500000</td>\n",
       "            <td>13.0</td>\n",
       "            <td>203</td>\n",
       "            <td>None</td>\n",
       "            <td>799</td>\n",
       "        </tr>\n",
       "    </tbody>\n",
       "</table>\n",
       "<span style=\"font-style:italic;text-align:center;\">Truncated to <a href=\"https://jupysql.ploomber.io/en/latest/api/configuration.html#displaylimit\">displaylimit</a> of 10.</span>"
      ],
      "text/plain": [
       "+---------+------+--------------------------------------+----------------------------------------------------------------------------------------------------------------------------------------------------------------------------------------------------------------------------+----------------+----------------------------+-------------------+--------+-----------------+--------+\n",
       "| Comment |  Id  |             RevisionGUID             |                                                                                                            Text                                                                                                            | ContentLicense |        CreationDate        | PostHistoryTypeId | UserId | UserDisplayName | PostId |\n",
       "+---------+------+--------------------------------------+----------------------------------------------------------------------------------------------------------------------------------------------------------------------------------------------------------------------------+----------------+----------------------------+-------------------+--------+-----------------+--------+\n",
       "|    7    | 467  | 60e4f837-3546-4f10-bab0-4f46d7a1d087 |       {\"Voters\":[{\"Id\":109,\"DisplayName\":\"Akhil Mathew\"},{\"Id\":76,\"DisplayName\":\"Katie Banks\"},{\"Id\":126,\"DisplayName\":\"Harry Gindi\"},{\"Id\":149,\"DisplayName\":\"Prasoon Saurav\"},{\"Id\":16,\"DisplayName\":\"BBischof\"}]}       |      None      | 2010-07-21 04:40:47.737000 |        10.0       |   0    |       None      |   10   |\n",
       "|    4    | 563  | 3285f0d4-9731-42d2-bf4f-55eb85ae44be |        {\"Voters\":[{\"Id\":143,\"DisplayName\":\"Peter Smit\"},{\"Id\":126,\"DisplayName\":\"Harry Gindi\"},{\"Id\":121,\"DisplayName\":\"Tom Stephens\"},{\"Id\":123,\"DisplayName\":\"Casebash\"},{\"Id\":76,\"DisplayName\":\"Katie Banks\"}]}         |      None      | 2010-07-21 08:07:49.977000 |        10.0       |   0    |       None      |  240   |\n",
       "|    3    | 598  | bba44296-d243-4422-910b-f84ead0c20d3 |     {\"Voters\":[{\"Id\":126,\"DisplayName\":\"Harry Gindi\"},{\"Id\":9,\"DisplayName\":\"Eric\"},{\"Id\":109,\"DisplayName\":\"Akhil Mathew\"},{\"Id\":25,\"DisplayName\":\"François G. Dorais\"},{\"Id\":100,\"DisplayName\":\"Charles Stewart\"}]}      |      None      | 2010-07-21 10:57:17.403000 |        10.0       |   0    |       None      |  130   |\n",
       "|    2    | 728  | 32c952c0-ead6-4c48-9a17-6aff6101e8fc |      {\"Voters\":[{\"Id\":45,\"DisplayName\":\"Ben Alpert\"},{\"Id\":31,\"DisplayName\":\"Simon Nickerson\"},{\"Id\":126,\"DisplayName\":\"Harry Gindi\"},{\"Id\":38,\"DisplayName\":\"John Gietzen\"},{\"Id\":6,\"DisplayName\":\"Jason Punyon\"}]}       |      None      | 2010-07-21 17:00:25.043000 |        10.0       |   0    |       None      |  303   |\n",
       "|    7    | 1039 | 5c20e369-9442-4026-86c7-9dce7649ba4b | {\"Voters\":[{\"Id\":136,\"DisplayName\":\"BlueRaja - Danny Pflughoeft\"},{\"Id\":143,\"DisplayName\":\"Peter Smit\"},{\"Id\":109,\"DisplayName\":\"Akhil Mathew\"},{\"Id\":72,\"DisplayName\":\"Isaac\"},{\"Id\":73,\"DisplayName\":\"Kaestur Hakarl\"}]} |      None      | 2010-07-22 17:24:12.963000 |        10.0       |   0    |       None      |  429   |\n",
       "|    7    | 1526 | 3641391f-73a1-4aa7-b21a-a22f48c3ee3e |           {\"Voters\":[{\"Id\":126,\"DisplayName\":\"97832123\"},{\"Id\":109,\"DisplayName\":\"Akhil Mathew\"},{\"Id\":123,\"DisplayName\":\"Casebash\"},{\"Id\":16,\"DisplayName\":\"BBischof\"},{\"Id\":143,\"DisplayName\":\"Peter Smit\"}]}            |      None      | 2010-07-26 06:25:07.010000 |        10.0       |   0    |       None      |  405   |\n",
       "|   None  | 1005 | c2a5f241-1fa5-418d-8c30-835ed9216116 |                                                                                {\"Voters\":[{\"Id\":30,\"DisplayName\":\"anosov_diffeomorphism\"}]}                                                                                |      None      | 2010-07-22 13:47:42.123000 |        12.0       |   28   |       None      |  421   |\n",
       "|   None  | 1993 | 0f8a2c6a-8f24-4646-aa58-a2e0befff357 |                                                                                    {\"Voters\":[{\"Id\":232,\"DisplayName\":\"Qiaochu Yuan\"}]}                                                                                    |      None      | 2010-07-28 04:29:45.920000 |        12.0       |  203   |       None      |  799   |\n",
       "|   None  | 1042 | 975587b6-9f32-4570-8a67-b6bd8d936fcd |                                                                                {\"Voters\":[{\"Id\":30,\"DisplayName\":\"anosov_diffeomorphism\"}]}                                                                                |      None      | 2010-07-22 17:25:13.633000 |        13.0       |   28   |       None      |  421   |\n",
       "|   None  | 1997 | 82c369a7-98cb-4c79-9abe-df7774271115 |                                                                                    {\"Voters\":[{\"Id\":232,\"DisplayName\":\"Qiaochu Yuan\"}]}                                                                                    |      None      | 2010-07-28 04:42:26.500000 |        13.0       |  203   |       None      |  799   |\n",
       "+---------+------+--------------------------------------+----------------------------------------------------------------------------------------------------------------------------------------------------------------------------------------------------------------------------+----------------+----------------------------+-------------------+--------+-----------------+--------+\n",
       "Truncated to displaylimit of 10."
      ]
     },
     "execution_count": 4,
     "metadata": {},
     "output_type": "execute_result"
    }
   ],
   "source": [
    "%%sql\n",
    "select * from post_history\n",
    "where PostHistoryTypeId in (10, 12, 13, 14)\n",
    "limit 10"
   ]
  },
  {
   "cell_type": "markdown",
   "metadata": {},
   "source": [
    "## Tuning"
   ]
  },
  {
   "cell_type": "code",
   "execution_count": 10,
   "metadata": {},
   "outputs": [
    {
     "name": "stdout",
     "output_type": "stream",
     "text": [
      "Creating train table\n",
      "train table created\n",
      "Creating val table\n",
      "val table created\n",
      "Creating test table\n",
      "test table created\n"
     ]
    }
   ],
   "source": [
    "with open('votes/feats.sql', 'r') as f:\n",
    "    # run once with train_labels and once with val_labels\n",
    "    template = f.read()\n",
    "\n",
    "# create train, val and test features\n",
    "for s in ['train', 'val', 'test']:\n",
    "    print(f'Creating {s} table')\n",
    "    query = utils.render_jinja_sql(template, dict(set=s))\n",
    "    conn.sql(query)\n",
    "    print(f'{s} table created')"
   ]
  },
  {
   "cell_type": "code",
   "execution_count": 14,
   "metadata": {},
   "outputs": [],
   "source": [
    "train_df = conn.sql('select * from votes_train_feats').df()\n",
    "val_df = conn.sql('select * from votes_val_feats').df()"
   ]
  },
  {
   "cell_type": "code",
   "execution_count": 15,
   "metadata": {
    "vscode": {
     "languageId": "sql"
    }
   },
   "outputs": [],
   "source": [
    "col_to_stype = infer_df_stype(train_df)"
   ]
  },
  {
   "cell_type": "code",
   "execution_count": 16,
   "metadata": {
    "vscode": {
     "languageId": "sql"
    }
   },
   "outputs": [
    {
     "data": {
      "text/plain": [
       "{'post_id': <stype.numerical: 'numerical'>,\n",
       " 'timestamp': <stype.timestamp: 'timestamp'>,\n",
       " 'popularity': <stype.numerical: 'numerical'>,\n",
       " 'post_type': <stype.categorical: 'categorical'>,\n",
       " 'post_age_weeks': <stype.numerical: 'numerical'>,\n",
       " 'title_length': <stype.categorical: 'categorical'>,\n",
       " 'body_length': <stype.numerical: 'numerical'>,\n",
       " 'num_tags': <stype.categorical: 'categorical'>,\n",
       " 'user_age_months': <stype.numerical: 'numerical'>,\n",
       " 'post_ordinal': <stype.numerical: 'numerical'>,\n",
       " 'num_votes': <stype.numerical: 'numerical'>,\n",
       " 'closed_weeks_ago': <stype.numerical: 'numerical'>,\n",
       " 'reopened_weeks_ago': <stype.numerical: 'numerical'>,\n",
       " 'deleted_weeks_ago': <stype.numerical: 'numerical'>,\n",
       " 'undeleted_weeks_ago': <stype.numerical: 'numerical'>,\n",
       " 'locked_weeks_ago': <stype.numerical: 'numerical'>,\n",
       " 'unlocked_weeks_ago': <stype.numerical: 'numerical'>,\n",
       " 'tweeted_weeks_ago': <stype.categorical: 'categorical'>,\n",
       " 'bumped_weeks_ago': <stype.categorical: 'categorical'>,\n",
       " 'avg_owner_question_upvotes_first_month': <stype.numerical: 'numerical'>,\n",
       " 'avg_owner_question_comments_first_month': <stype.numerical: 'numerical'>,\n",
       " 'avg_owner_answer_upvotes_first_month': <stype.numerical: 'numerical'>,\n",
       " 'avg_owner_answer_comments_first_month': <stype.numerical: 'numerical'>}"
      ]
     },
     "execution_count": 16,
     "metadata": {},
     "output_type": "execute_result"
    }
   ],
   "source": [
    "col_to_stype"
   ]
  },
  {
   "cell_type": "code",
   "execution_count": 17,
   "metadata": {
    "vscode": {
     "languageId": "ruby"
    }
   },
   "outputs": [],
   "source": [
    "DROP_COLS = [\n",
    "    # drop identifier cols\n",
    "    'post_id',\n",
    "    'timestamp',\n",
    "]\n",
    "for c in DROP_COLS:\n",
    "    del col_to_stype[c]\n",
    "# Correct certain columns\n",
    "col_to_stype['title_length'] = stype.numerical\n",
    "col_to_stype['num_tags'] = stype.numerical\n",
    "col_to_stype['tweeted_weeks_ago'] = stype.numerical\n",
    "col_to_stype['bumped_weeks_ago'] = stype.numerical"
   ]
  },
  {
   "cell_type": "code",
   "execution_count": 22,
   "metadata": {},
   "outputs": [
    {
     "name": "stdout",
     "output_type": "stream",
     "text": [
      "20 1080861\n"
     ]
    }
   ],
   "source": [
    "train_dset = Dataset(\n",
    "    train_df.drop(DROP_COLS, axis=1),\n",
    "    col_to_stype=col_to_stype,\n",
    "    target_col='popularity'\n",
    ").materialize()\n",
    "val_tf = train_dset.convert_to_tensor_frame(val_df.drop(DROP_COLS, axis=1))\n",
    "tune_metric = Metric.MAE\n",
    "print(train_dset.tensor_frame.num_cols, train_dset.tensor_frame.num_rows)"
   ]
  },
  {
   "cell_type": "code",
   "execution_count": 23,
   "metadata": {},
   "outputs": [
    {
     "name": "stderr",
     "output_type": "stream",
     "text": [
      "[I 2024-04-21 11:48:23,262] A new study created in memory with name: no-name-2bac5781-0061-45c5-806b-5a3af417f479\n",
      "[I 2024-04-21 11:48:33,918] Trial 0 finished with value: 0.1943366825580597 and parameters: {'booster': 'gbtree', 'use_lambda': True, 'lambda': 2.951755777686795e-05, 'use_alpha': False, 'max_depth': 6, 'min_child_weight': 1.887846375851908, 'subsample': 0.8086406089187514, 'colsample_bytree': 0.7771115708090264, 'colsample_bylevel': 0.6015313643469292, 'use_gamma': False, 'learning_rate': 0.11432228692007305}. Best is trial 0 with value: 0.1943366825580597.\n",
      "/Users/adobles/opt/anaconda3/envs/relbench/lib/python3.11/site-packages/xgboost/core.py:160: UserWarning: [11:48:33] WARNING: /Users/runner/work/xgboost/xgboost/src/learner.cc:742: \n",
      "Parameters: { \"use_alpha\", \"use_gamma\", \"use_lambda\" } are not used.\n",
      "\n",
      "  warnings.warn(smsg, UserWarning)\n"
     ]
    }
   ],
   "source": [
    "gbdt = XGBoost(TaskType.REGRESSION, metric=tune_metric)\n",
    "gbdt.tune(tf_train=train_dset.tensor_frame, tf_val=val_tf, num_trials=1)"
   ]
  },
  {
   "cell_type": "markdown",
   "metadata": {},
   "source": [
    "## Val Eval"
   ]
  },
  {
   "cell_type": "code",
   "execution_count": 27,
   "metadata": {},
   "outputs": [],
   "source": [
    "import plotly.graph_objects as go\n",
    "from sklearn.metrics import mean_absolute_error, median_absolute_error, accuracy_score"
   ]
  },
  {
   "cell_type": "code",
   "execution_count": 25,
   "metadata": {},
   "outputs": [
    {
     "name": "stderr",
     "output_type": "stream",
     "text": [
      "/Users/adobles/opt/anaconda3/envs/relbench/lib/python3.11/site-packages/numpy/lib/function_base.py:2897: RuntimeWarning: invalid value encountered in divide\n",
      "  c /= stddev[:, None]\n",
      "/Users/adobles/opt/anaconda3/envs/relbench/lib/python3.11/site-packages/numpy/lib/function_base.py:2898: RuntimeWarning: invalid value encountered in divide\n",
      "  c /= stddev[None, :]\n",
      "/Users/adobles/opt/anaconda3/envs/relbench/lib/python3.11/site-packages/threadpoolctl.py:1223: RuntimeWarning: \n",
      "Found Intel OpenMP ('libiomp') and LLVM OpenMP ('libomp') loaded at\n",
      "the same time. Both libraries are known to be incompatible and this\n",
      "can cause random crashes or deadlocks on Linux when loaded in the\n",
      "same Python program.\n",
      "Using threadpoolctl may cause crashes or deadlocks. For more\n",
      "information and possible workarounds, please see\n",
      "    https://github.com/joblib/threadpoolctl/blob/master/multiple_openmp.md\n",
      "\n",
      "  warnings.warn(msg, RuntimeWarning)\n"
     ]
    },
    {
     "data": {
      "text/html": [
       "<style type=\"text/css\">\n",
       "</style>\n",
       "<table id=\"T_982ee\">\n",
       "  <thead>\n",
       "    <tr>\n",
       "      <th class=\"blank level0\" >&nbsp;</th>\n",
       "      <th id=\"T_982ee_level0_col0\" class=\"col_heading level0 col0\" >Label Corr.</th>\n",
       "      <th id=\"T_982ee_level0_col1\" class=\"col_heading level0 col1\" >Label MI</th>\n",
       "      <th id=\"T_982ee_level0_col2\" class=\"col_heading level0 col2\" >NaN %</th>\n",
       "    </tr>\n",
       "  </thead>\n",
       "  <tbody>\n",
       "    <tr>\n",
       "      <th id=\"T_982ee_level0_row0\" class=\"row_heading level0 row0\" >num_votes</th>\n",
       "      <td id=\"T_982ee_row0_col0\" class=\"data row0 col0\" >0.617</td>\n",
       "      <td id=\"T_982ee_row0_col1\" class=\"data row0 col1\" >0.057</td>\n",
       "      <td id=\"T_982ee_row0_col2\" class=\"data row0 col2\" >0.0%</td>\n",
       "    </tr>\n",
       "    <tr>\n",
       "      <th id=\"T_982ee_level0_row1\" class=\"row_heading level0 row1\" >avg_owner_question_upvotes_first_month</th>\n",
       "      <td id=\"T_982ee_row1_col0\" class=\"data row1 col0\" >0.146</td>\n",
       "      <td id=\"T_982ee_row1_col1\" class=\"data row1 col1\" >0.017</td>\n",
       "      <td id=\"T_982ee_row1_col2\" class=\"data row1 col2\" >0.3%</td>\n",
       "    </tr>\n",
       "    <tr>\n",
       "      <th id=\"T_982ee_level0_row2\" class=\"row_heading level0 row2\" >user_age_months</th>\n",
       "      <td id=\"T_982ee_row2_col0\" class=\"data row2 col0\" >0.080</td>\n",
       "      <td id=\"T_982ee_row2_col1\" class=\"data row2 col1\" >0.009</td>\n",
       "      <td id=\"T_982ee_row2_col2\" class=\"data row2 col2\" >0.0%</td>\n",
       "    </tr>\n",
       "    <tr>\n",
       "      <th id=\"T_982ee_level0_row3\" class=\"row_heading level0 row3\" >locked_weeks_ago</th>\n",
       "      <td id=\"T_982ee_row3_col0\" class=\"data row3 col0\" >0.079</td>\n",
       "      <td id=\"T_982ee_row3_col1\" class=\"data row3 col1\" >0.032</td>\n",
       "      <td id=\"T_982ee_row3_col2\" class=\"data row3 col2\" >99.9%</td>\n",
       "    </tr>\n",
       "    <tr>\n",
       "      <th id=\"T_982ee_level0_row4\" class=\"row_heading level0 row4\" >post_age_weeks</th>\n",
       "      <td id=\"T_982ee_row4_col0\" class=\"data row4 col0\" >0.078</td>\n",
       "      <td id=\"T_982ee_row4_col1\" class=\"data row4 col1\" >0.006</td>\n",
       "      <td id=\"T_982ee_row4_col2\" class=\"data row4 col2\" >0.0%</td>\n",
       "    </tr>\n",
       "    <tr>\n",
       "      <th id=\"T_982ee_level0_row5\" class=\"row_heading level0 row5\" >undeleted_weeks_ago</th>\n",
       "      <td id=\"T_982ee_row5_col0\" class=\"data row5 col0\" >0.069</td>\n",
       "      <td id=\"T_982ee_row5_col1\" class=\"data row5 col1\" >0.016</td>\n",
       "      <td id=\"T_982ee_row5_col2\" class=\"data row5 col2\" >99.5%</td>\n",
       "    </tr>\n",
       "    <tr>\n",
       "      <th id=\"T_982ee_level0_row6\" class=\"row_heading level0 row6\" >tweeted_weeks_ago</th>\n",
       "      <td id=\"T_982ee_row6_col0\" class=\"data row6 col0\" >0.064</td>\n",
       "      <td id=\"T_982ee_row6_col1\" class=\"data row6 col1\" >0.008</td>\n",
       "      <td id=\"T_982ee_row6_col2\" class=\"data row6 col2\" >97.9%</td>\n",
       "    </tr>\n",
       "    <tr>\n",
       "      <th id=\"T_982ee_level0_row7\" class=\"row_heading level0 row7\" >num_tags</th>\n",
       "      <td id=\"T_982ee_row7_col0\" class=\"data row7 col0\" >0.062</td>\n",
       "      <td id=\"T_982ee_row7_col1\" class=\"data row7 col1\" >0.039</td>\n",
       "      <td id=\"T_982ee_row7_col2\" class=\"data row7 col2\" >0.0%</td>\n",
       "    </tr>\n",
       "    <tr>\n",
       "      <th id=\"T_982ee_level0_row8\" class=\"row_heading level0 row8\" >deleted_weeks_ago</th>\n",
       "      <td id=\"T_982ee_row8_col0\" class=\"data row8 col0\" >0.056</td>\n",
       "      <td id=\"T_982ee_row8_col1\" class=\"data row8 col1\" >0.016</td>\n",
       "      <td id=\"T_982ee_row8_col2\" class=\"data row8 col2\" >99.4%</td>\n",
       "    </tr>\n",
       "    <tr>\n",
       "      <th id=\"T_982ee_level0_row9\" class=\"row_heading level0 row9\" >avg_owner_answer_upvotes_first_month</th>\n",
       "      <td id=\"T_982ee_row9_col0\" class=\"data row9 col0\" >0.047</td>\n",
       "      <td id=\"T_982ee_row9_col1\" class=\"data row9 col1\" >0.037</td>\n",
       "      <td id=\"T_982ee_row9_col2\" class=\"data row9 col2\" >46.3%</td>\n",
       "    </tr>\n",
       "    <tr>\n",
       "      <th id=\"T_982ee_level0_row10\" class=\"row_heading level0 row10\" >unlocked_weeks_ago</th>\n",
       "      <td id=\"T_982ee_row10_col0\" class=\"data row10 col0\" >0.041</td>\n",
       "      <td id=\"T_982ee_row10_col1\" class=\"data row10 col1\" >0.032</td>\n",
       "      <td id=\"T_982ee_row10_col2\" class=\"data row10 col2\" >100.0%</td>\n",
       "    </tr>\n",
       "    <tr>\n",
       "      <th id=\"T_982ee_level0_row11\" class=\"row_heading level0 row11\" >body_length</th>\n",
       "      <td id=\"T_982ee_row11_col0\" class=\"data row11 col0\" >0.040</td>\n",
       "      <td id=\"T_982ee_row11_col1\" class=\"data row11 col1\" >0.003</td>\n",
       "      <td id=\"T_982ee_row11_col2\" class=\"data row11 col2\" >0.0%</td>\n",
       "    </tr>\n",
       "    <tr>\n",
       "      <th id=\"T_982ee_level0_row12\" class=\"row_heading level0 row12\" >closed_weeks_ago</th>\n",
       "      <td id=\"T_982ee_row12_col0\" class=\"data row12 col0\" >0.035</td>\n",
       "      <td id=\"T_982ee_row12_col1\" class=\"data row12 col1\" >0.004</td>\n",
       "      <td id=\"T_982ee_row12_col2\" class=\"data row12 col2\" >94.0%</td>\n",
       "    </tr>\n",
       "    <tr>\n",
       "      <th id=\"T_982ee_level0_row13\" class=\"row_heading level0 row13\" >post_ordinal</th>\n",
       "      <td id=\"T_982ee_row13_col0\" class=\"data row13 col0\" >0.024</td>\n",
       "      <td id=\"T_982ee_row13_col1\" class=\"data row13 col1\" >0.001</td>\n",
       "      <td id=\"T_982ee_row13_col2\" class=\"data row13 col2\" >0.0%</td>\n",
       "    </tr>\n",
       "    <tr>\n",
       "      <th id=\"T_982ee_level0_row14\" class=\"row_heading level0 row14\" >avg_owner_question_comments_first_month</th>\n",
       "      <td id=\"T_982ee_row14_col0\" class=\"data row14 col0\" >0.022</td>\n",
       "      <td id=\"T_982ee_row14_col1\" class=\"data row14 col1\" >0.007</td>\n",
       "      <td id=\"T_982ee_row14_col2\" class=\"data row14 col2\" >0.3%</td>\n",
       "    </tr>\n",
       "    <tr>\n",
       "      <th id=\"T_982ee_level0_row15\" class=\"row_heading level0 row15\" >avg_owner_answer_comments_first_month</th>\n",
       "      <td id=\"T_982ee_row15_col0\" class=\"data row15 col0\" >0.019</td>\n",
       "      <td id=\"T_982ee_row15_col1\" class=\"data row15 col1\" >0.035</td>\n",
       "      <td id=\"T_982ee_row15_col2\" class=\"data row15 col2\" >46.3%</td>\n",
       "    </tr>\n",
       "    <tr>\n",
       "      <th id=\"T_982ee_level0_row16\" class=\"row_heading level0 row16\" >reopened_weeks_ago</th>\n",
       "      <td id=\"T_982ee_row16_col0\" class=\"data row16 col0\" >0.019</td>\n",
       "      <td id=\"T_982ee_row16_col1\" class=\"data row16 col1\" >0.016</td>\n",
       "      <td id=\"T_982ee_row16_col2\" class=\"data row16 col2\" >99.5%</td>\n",
       "    </tr>\n",
       "    <tr>\n",
       "      <th id=\"T_982ee_level0_row17\" class=\"row_heading level0 row17\" >title_length</th>\n",
       "      <td id=\"T_982ee_row17_col0\" class=\"data row17 col0\" >-0.003</td>\n",
       "      <td id=\"T_982ee_row17_col1\" class=\"data row17 col1\" >0.003</td>\n",
       "      <td id=\"T_982ee_row17_col2\" class=\"data row17 col2\" >0.0%</td>\n",
       "    </tr>\n",
       "    <tr>\n",
       "      <th id=\"T_982ee_level0_row18\" class=\"row_heading level0 row18\" >bumped_weeks_ago</th>\n",
       "      <td id=\"T_982ee_row18_col0\" class=\"data row18 col0\" >-0.010</td>\n",
       "      <td id=\"T_982ee_row18_col1\" class=\"data row18 col1\" >0.032</td>\n",
       "      <td id=\"T_982ee_row18_col2\" class=\"data row18 col2\" >99.7%</td>\n",
       "    </tr>\n",
       "    <tr>\n",
       "      <th id=\"T_982ee_level0_row19\" class=\"row_heading level0 row19\" >post_type</th>\n",
       "      <td id=\"T_982ee_row19_col0\" class=\"data row19 col0\" >nan</td>\n",
       "      <td id=\"T_982ee_row19_col1\" class=\"data row19 col1\" >0.176</td>\n",
       "      <td id=\"T_982ee_row19_col2\" class=\"data row19 col2\" >0.0%</td>\n",
       "    </tr>\n",
       "  </tbody>\n",
       "</table>\n"
      ],
      "text/plain": [
       "<pandas.io.formats.style.Styler at 0x182cfffd0>"
      ]
     },
     "execution_count": 25,
     "metadata": {},
     "output_type": "execute_result"
    }
   ],
   "source": [
    "(\n",
    "    utils\n",
    "    .feature_summary_df(val_df.drop(DROP_COLS, axis=1), 'popularity')\n",
    "    .style\n",
    "    .format('{:.3f}', subset=['Label Corr.', 'Label MI'])\n",
    "    .format('{:.1%}', subset=['NaN %'])\n",
    ")"
   ]
  },
  {
   "cell_type": "code",
   "execution_count": 26,
   "metadata": {},
   "outputs": [],
   "source": [
    "pred = gbdt.predict(tf_test=val_tf)"
   ]
  },
  {
   "cell_type": "code",
   "execution_count": 51,
   "metadata": {},
   "outputs": [
    {
     "name": "stdout",
     "output_type": "stream",
     "text": [
      "ALL VAL\n",
      "Trivial MAE: 0.201\n",
      "Trivial Accuracy: 88.9%\n",
      "MAE: 0.192\n",
      "Accuracy: 88.2%\n",
      "Binary Accuracy: 89.4%\n",
      "\n",
      "NONZERO VAL\n",
      "Trivial MAE: 1.814\n",
      "MAE: 1.586\n"
     ]
    }
   ],
   "source": [
    "# Entire val set\n",
    "y_ = val_tf.y.numpy()\n",
    "pred_ = np.rint(pred.numpy())  # round to nearest int\n",
    "mae = mean_absolute_error(y_, pred_)\n",
    "tmae = mean_absolute_error(y_, np.zeros_like(y_))\n",
    "acc = accuracy_score(y_, pred_)\n",
    "binacc = accuracy_score((y_ > 0).astype(int), (pred_ > 0).astype(int))\n",
    "tacc = accuracy_score(y_, np.zeros_like(y_))\n",
    "\n",
    "print('ALL VAL')\n",
    "print(f'Trivial MAE: {tmae:.3f}')\n",
    "print(f\"Trivial Accuracy: {tacc:.1%}\")\n",
    "print(f\"MAE: {mae:.3f}\")\n",
    "print(f\"Accuracy: {acc:.1%}\")\n",
    "print(f\"Binary Accuracy: {binacc:.1%}\")\n",
    "print()\n",
    "\n",
    "# nonzero entries\n",
    "nzy = y_[y_ != 0]\n",
    "nzp = pred_[y_ != 0]\n",
    "mae = mean_absolute_error(nzy, nzp)\n",
    "tmae = mean_absolute_error(nzy, np.zeros_like(nzy))\n",
    "\n",
    "print('NONZERO VAL')\n",
    "print(f'Trivial MAE: {tmae:.3f}')\n",
    "print(f\"MAE: {mae:.3f}\")"
   ]
  },
  {
   "cell_type": "code",
   "execution_count": 48,
   "metadata": {},
   "outputs": [
    {
     "data": {
      "image/svg+xml": [
       "<svg class=\"main-svg\" xmlns=\"http://www.w3.org/2000/svg\" xmlns:xlink=\"http://www.w3.org/1999/xlink\" width=\"700\" height=\"500\" style=\"\" viewBox=\"0 0 700 500\"><rect x=\"0\" y=\"0\" width=\"700\" height=\"500\" style=\"fill: rgb(255, 255, 255); fill-opacity: 1;\"/><defs id=\"defs-03dc84\"><g class=\"clips\"><clipPath id=\"clip03dc84xyplot\" class=\"plotclip\"><rect width=\"540\" height=\"320\"/></clipPath><clipPath class=\"axesclip\" id=\"clip03dc84x\"><rect x=\"80\" y=\"0\" width=\"540\" height=\"500\"/></clipPath><clipPath class=\"axesclip\" id=\"clip03dc84y\"><rect x=\"0\" y=\"100\" width=\"700\" height=\"320\"/></clipPath><clipPath class=\"axesclip\" id=\"clip03dc84xy\"><rect x=\"80\" y=\"100\" width=\"540\" height=\"320\"/></clipPath></g><g class=\"gradients\"/><g class=\"patterns\"/></defs><g class=\"bglayer\"><rect class=\"bg\" x=\"80\" y=\"100\" width=\"540\" height=\"320\" style=\"fill: rgb(229, 236, 246); fill-opacity: 1; stroke-width: 0;\"/></g><g class=\"layer-below\"><g class=\"imagelayer\"/><g class=\"shapelayer\"/></g><g class=\"cartesianlayer\"><g class=\"subplot xy\"><g class=\"layer-subplot\"><g class=\"shapelayer\"/><g class=\"imagelayer\"/></g><g class=\"minor-gridlayer\"><g class=\"x\"/><g class=\"y\"/></g><g class=\"gridlayer\"><g class=\"x\"/><g class=\"y\"><path class=\"ygrid crisp\" transform=\"translate(0,404.77)\" d=\"M80,0h540\" style=\"stroke: rgb(255, 255, 255); stroke-opacity: 1; stroke-width: 1px;\"/><path class=\"ygrid crisp\" transform=\"translate(0,356.2)\" d=\"M80,0h540\" style=\"stroke: rgb(255, 255, 255); stroke-opacity: 1; stroke-width: 1px;\"/><path class=\"ygrid crisp\" transform=\"translate(0,307.63)\" d=\"M80,0h540\" style=\"stroke: rgb(255, 255, 255); stroke-opacity: 1; stroke-width: 1px;\"/><path class=\"ygrid crisp\" transform=\"translate(0,259.06)\" d=\"M80,0h540\" style=\"stroke: rgb(255, 255, 255); stroke-opacity: 1; stroke-width: 1px;\"/><path class=\"ygrid crisp\" transform=\"translate(0,210.5)\" d=\"M80,0h540\" style=\"stroke: rgb(255, 255, 255); stroke-opacity: 1; stroke-width: 1px;\"/><path class=\"ygrid crisp\" transform=\"translate(0,161.93)\" d=\"M80,0h540\" style=\"stroke: rgb(255, 255, 255); stroke-opacity: 1; stroke-width: 1px;\"/><path class=\"ygrid crisp\" transform=\"translate(0,113.36)\" d=\"M80,0h540\" style=\"stroke: rgb(255, 255, 255); stroke-opacity: 1; stroke-width: 1px;\"/></g></g><g class=\"zerolinelayer\"/><path class=\"xlines-below\"/><path class=\"ylines-below\"/><g class=\"overlines-below\"/><g class=\"xaxislayer-below\"/><g class=\"yaxislayer-below\"/><g class=\"overaxes-below\"/><g class=\"plot\" transform=\"translate(80,100)\" clip-path=\"url(#clip03dc84xyplot)\"><g class=\"barlayer mlayer\"><g class=\"trace bars\" shape-rendering=\"crispEdges\" style=\"opacity: 1;\"><g class=\"points\"><g class=\"point\"><path d=\"M-683.1,3360V304H-677.7V3360Z\" style=\"vector-effect: none; opacity: 1; stroke-width: 0px; fill: rgb(99, 110, 250); fill-opacity: 1;\"/></g><g class=\"point\"><path d=\"M0,0Z\" style=\"vector-effect: none; opacity: 1; stroke-width: 0px; fill: rgb(99, 110, 250); fill-opacity: 1;\"/></g><g class=\"point\"><path d=\"M0,0Z\" style=\"vector-effect: none; opacity: 1; stroke-width: 0px; fill: rgb(99, 110, 250); fill-opacity: 1;\"/></g><g class=\"point\"><path d=\"M0,0Z\" style=\"vector-effect: none; opacity: 1; stroke-width: 0px; fill: rgb(99, 110, 250); fill-opacity: 1;\"/></g><g class=\"point\"><path d=\"M0,0Z\" style=\"vector-effect: none; opacity: 1; stroke-width: 0px; fill: rgb(99, 110, 250); fill-opacity: 1;\"/></g><g class=\"point\"><path d=\"M0,0Z\" style=\"vector-effect: none; opacity: 1; stroke-width: 0px; fill: rgb(99, 110, 250); fill-opacity: 1;\"/></g><g class=\"point\"><path d=\"M0,0Z\" style=\"vector-effect: none; opacity: 1; stroke-width: 0px; fill: rgb(99, 110, 250); fill-opacity: 1;\"/></g><g class=\"point\"><path d=\"M-645.3,3360V304H-639.9V3360Z\" style=\"vector-effect: none; opacity: 1; stroke-width: 0px; fill: rgb(99, 110, 250); fill-opacity: 1;\"/></g><g class=\"point\"><path d=\"M0,0Z\" style=\"vector-effect: none; opacity: 1; stroke-width: 0px; fill: rgb(99, 110, 250); fill-opacity: 1;\"/></g><g class=\"point\"><path d=\"M0,0Z\" style=\"vector-effect: none; opacity: 1; stroke-width: 0px; fill: rgb(99, 110, 250); fill-opacity: 1;\"/></g><g class=\"point\"><path d=\"M0,0Z\" style=\"vector-effect: none; opacity: 1; stroke-width: 0px; fill: rgb(99, 110, 250); fill-opacity: 1;\"/></g><g class=\"point\"><path d=\"M0,0Z\" style=\"vector-effect: none; opacity: 1; stroke-width: 0px; fill: rgb(99, 110, 250); fill-opacity: 1;\"/></g><g class=\"point\"><path d=\"M0,0Z\" style=\"vector-effect: none; opacity: 1; stroke-width: 0px; fill: rgb(99, 110, 250); fill-opacity: 1;\"/></g><g class=\"point\"><path d=\"M0,0Z\" style=\"vector-effect: none; opacity: 1; stroke-width: 0px; fill: rgb(99, 110, 250); fill-opacity: 1;\"/></g><g class=\"point\"><path d=\"M0,0Z\" style=\"vector-effect: none; opacity: 1; stroke-width: 0px; fill: rgb(99, 110, 250); fill-opacity: 1;\"/></g><g class=\"point\"><path d=\"M0,0Z\" style=\"vector-effect: none; opacity: 1; stroke-width: 0px; fill: rgb(99, 110, 250); fill-opacity: 1;\"/></g><g class=\"point\"><path d=\"M0,0Z\" style=\"vector-effect: none; opacity: 1; stroke-width: 0px; fill: rgb(99, 110, 250); fill-opacity: 1;\"/></g><g class=\"point\"><path d=\"M0,0Z\" style=\"vector-effect: none; opacity: 1; stroke-width: 0px; fill: rgb(99, 110, 250); fill-opacity: 1;\"/></g><g class=\"point\"><path d=\"M0,0Z\" style=\"vector-effect: none; opacity: 1; stroke-width: 0px; fill: rgb(99, 110, 250); fill-opacity: 1;\"/></g><g class=\"point\"><path d=\"M0,0Z\" style=\"vector-effect: none; opacity: 1; stroke-width: 0px; fill: rgb(99, 110, 250); fill-opacity: 1;\"/></g><g class=\"point\"><path d=\"M0,0Z\" style=\"vector-effect: none; opacity: 1; stroke-width: 0px; fill: rgb(99, 110, 250); fill-opacity: 1;\"/></g><g class=\"point\"><path d=\"M0,0Z\" style=\"vector-effect: none; opacity: 1; stroke-width: 0px; fill: rgb(99, 110, 250); fill-opacity: 1;\"/></g><g class=\"point\"><path d=\"M0,0Z\" style=\"vector-effect: none; opacity: 1; stroke-width: 0px; fill: rgb(99, 110, 250); fill-opacity: 1;\"/></g><g class=\"point\"><path d=\"M0,0Z\" style=\"vector-effect: none; opacity: 1; stroke-width: 0px; fill: rgb(99, 110, 250); fill-opacity: 1;\"/></g><g class=\"point\"><path d=\"M-553.5,3360V304H-548.1V3360Z\" style=\"vector-effect: none; opacity: 1; stroke-width: 0px; fill: rgb(99, 110, 250); fill-opacity: 1;\"/></g><g class=\"point\"><path d=\"M0,0Z\" style=\"vector-effect: none; opacity: 1; stroke-width: 0px; fill: rgb(99, 110, 250); fill-opacity: 1;\"/></g><g class=\"point\"><path d=\"M0,0Z\" style=\"vector-effect: none; opacity: 1; stroke-width: 0px; fill: rgb(99, 110, 250); fill-opacity: 1;\"/></g><g class=\"point\"><path d=\"M0,0Z\" style=\"vector-effect: none; opacity: 1; stroke-width: 0px; fill: rgb(99, 110, 250); fill-opacity: 1;\"/></g><g class=\"point\"><path d=\"M0,0Z\" style=\"vector-effect: none; opacity: 1; stroke-width: 0px; fill: rgb(99, 110, 250); fill-opacity: 1;\"/></g><g class=\"point\"><path d=\"M0,0Z\" style=\"vector-effect: none; opacity: 1; stroke-width: 0px; fill: rgb(99, 110, 250); fill-opacity: 1;\"/></g><g class=\"point\"><path d=\"M0,0Z\" style=\"vector-effect: none; opacity: 1; stroke-width: 0px; fill: rgb(99, 110, 250); fill-opacity: 1;\"/></g><g class=\"point\"><path d=\"M0,0Z\" style=\"vector-effect: none; opacity: 1; stroke-width: 0px; fill: rgb(99, 110, 250); fill-opacity: 1;\"/></g><g class=\"point\"><path d=\"M0,0Z\" style=\"vector-effect: none; opacity: 1; stroke-width: 0px; fill: rgb(99, 110, 250); fill-opacity: 1;\"/></g><g class=\"point\"><path d=\"M0,0Z\" style=\"vector-effect: none; opacity: 1; stroke-width: 0px; fill: rgb(99, 110, 250); fill-opacity: 1;\"/></g><g class=\"point\"><path d=\"M0,0Z\" style=\"vector-effect: none; opacity: 1; stroke-width: 0px; fill: rgb(99, 110, 250); fill-opacity: 1;\"/></g><g class=\"point\"><path d=\"M0,0Z\" style=\"vector-effect: none; opacity: 1; stroke-width: 0px; fill: rgb(99, 110, 250); fill-opacity: 1;\"/></g><g class=\"point\"><path d=\"M0,0Z\" style=\"vector-effect: none; opacity: 1; stroke-width: 0px; fill: rgb(99, 110, 250); fill-opacity: 1;\"/></g><g class=\"point\"><path d=\"M0,0Z\" style=\"vector-effect: none; opacity: 1; stroke-width: 0px; fill: rgb(99, 110, 250); fill-opacity: 1;\"/></g><g class=\"point\"><path d=\"M0,0Z\" style=\"vector-effect: none; opacity: 1; stroke-width: 0px; fill: rgb(99, 110, 250); fill-opacity: 1;\"/></g><g class=\"point\"><path d=\"M0,0Z\" style=\"vector-effect: none; opacity: 1; stroke-width: 0px; fill: rgb(99, 110, 250); fill-opacity: 1;\"/></g><g class=\"point\"><path d=\"M0,0Z\" style=\"vector-effect: none; opacity: 1; stroke-width: 0px; fill: rgb(99, 110, 250); fill-opacity: 1;\"/></g><g class=\"point\"><path d=\"M0,0Z\" style=\"vector-effect: none; opacity: 1; stroke-width: 0px; fill: rgb(99, 110, 250); fill-opacity: 1;\"/></g><g class=\"point\"><path d=\"M0,0Z\" style=\"vector-effect: none; opacity: 1; stroke-width: 0px; fill: rgb(99, 110, 250); fill-opacity: 1;\"/></g><g class=\"point\"><path d=\"M0,0Z\" style=\"vector-effect: none; opacity: 1; stroke-width: 0px; fill: rgb(99, 110, 250); fill-opacity: 1;\"/></g><g class=\"point\"><path d=\"M0,0Z\" style=\"vector-effect: none; opacity: 1; stroke-width: 0px; fill: rgb(99, 110, 250); fill-opacity: 1;\"/></g><g class=\"point\"><path d=\"M0,0Z\" style=\"vector-effect: none; opacity: 1; stroke-width: 0px; fill: rgb(99, 110, 250); fill-opacity: 1;\"/></g><g class=\"point\"><path d=\"M0,0Z\" style=\"vector-effect: none; opacity: 1; stroke-width: 0px; fill: rgb(99, 110, 250); fill-opacity: 1;\"/></g><g class=\"point\"><path d=\"M0,0Z\" style=\"vector-effect: none; opacity: 1; stroke-width: 0px; fill: rgb(99, 110, 250); fill-opacity: 1;\"/></g><g class=\"point\"><path d=\"M0,0Z\" style=\"vector-effect: none; opacity: 1; stroke-width: 0px; fill: rgb(99, 110, 250); fill-opacity: 1;\"/></g><g class=\"point\"><path d=\"M0,0Z\" style=\"vector-effect: none; opacity: 1; stroke-width: 0px; fill: rgb(99, 110, 250); fill-opacity: 1;\"/></g><g class=\"point\"><path d=\"M0,0Z\" style=\"vector-effect: none; opacity: 1; stroke-width: 0px; fill: rgb(99, 110, 250); fill-opacity: 1;\"/></g><g class=\"point\"><path d=\"M0,0Z\" style=\"vector-effect: none; opacity: 1; stroke-width: 0px; fill: rgb(99, 110, 250); fill-opacity: 1;\"/></g><g class=\"point\"><path d=\"M0,0Z\" style=\"vector-effect: none; opacity: 1; stroke-width: 0px; fill: rgb(99, 110, 250); fill-opacity: 1;\"/></g><g class=\"point\"><path d=\"M0,0Z\" style=\"vector-effect: none; opacity: 1; stroke-width: 0px; fill: rgb(99, 110, 250); fill-opacity: 1;\"/></g><g class=\"point\"><path d=\"M0,0Z\" style=\"vector-effect: none; opacity: 1; stroke-width: 0px; fill: rgb(99, 110, 250); fill-opacity: 1;\"/></g><g class=\"point\"><path d=\"M0,0Z\" style=\"vector-effect: none; opacity: 1; stroke-width: 0px; fill: rgb(99, 110, 250); fill-opacity: 1;\"/></g><g class=\"point\"><path d=\"M0,0Z\" style=\"vector-effect: none; opacity: 1; stroke-width: 0px; fill: rgb(99, 110, 250); fill-opacity: 1;\"/></g><g class=\"point\"><path d=\"M0,0Z\" style=\"vector-effect: none; opacity: 1; stroke-width: 0px; fill: rgb(99, 110, 250); fill-opacity: 1;\"/></g><g class=\"point\"><path d=\"M0,0Z\" style=\"vector-effect: none; opacity: 1; stroke-width: 0px; fill: rgb(99, 110, 250); fill-opacity: 1;\"/></g><g class=\"point\"><path d=\"M0,0Z\" style=\"vector-effect: none; opacity: 1; stroke-width: 0px; fill: rgb(99, 110, 250); fill-opacity: 1;\"/></g><g class=\"point\"><path d=\"M0,0Z\" style=\"vector-effect: none; opacity: 1; stroke-width: 0px; fill: rgb(99, 110, 250); fill-opacity: 1;\"/></g><g class=\"point\"><path d=\"M0,0Z\" style=\"vector-effect: none; opacity: 1; stroke-width: 0px; fill: rgb(99, 110, 250); fill-opacity: 1;\"/></g><g class=\"point\"><path d=\"M0,0Z\" style=\"vector-effect: none; opacity: 1; stroke-width: 0px; fill: rgb(99, 110, 250); fill-opacity: 1;\"/></g><g class=\"point\"><path d=\"M0,0Z\" style=\"vector-effect: none; opacity: 1; stroke-width: 0px; fill: rgb(99, 110, 250); fill-opacity: 1;\"/></g><g class=\"point\"><path d=\"M0,0Z\" style=\"vector-effect: none; opacity: 1; stroke-width: 0px; fill: rgb(99, 110, 250); fill-opacity: 1;\"/></g><g class=\"point\"><path d=\"M0,0Z\" style=\"vector-effect: none; opacity: 1; stroke-width: 0px; fill: rgb(99, 110, 250); fill-opacity: 1;\"/></g><g class=\"point\"><path d=\"M0,0Z\" style=\"vector-effect: none; opacity: 1; stroke-width: 0px; fill: rgb(99, 110, 250); fill-opacity: 1;\"/></g><g class=\"point\"><path d=\"M0,0Z\" style=\"vector-effect: none; opacity: 1; stroke-width: 0px; fill: rgb(99, 110, 250); fill-opacity: 1;\"/></g><g class=\"point\"><path d=\"M0,0Z\" style=\"vector-effect: none; opacity: 1; stroke-width: 0px; fill: rgb(99, 110, 250); fill-opacity: 1;\"/></g><g class=\"point\"><path d=\"M0,0Z\" style=\"vector-effect: none; opacity: 1; stroke-width: 0px; fill: rgb(99, 110, 250); fill-opacity: 1;\"/></g><g class=\"point\"><path d=\"M0,0Z\" style=\"vector-effect: none; opacity: 1; stroke-width: 0px; fill: rgb(99, 110, 250); fill-opacity: 1;\"/></g><g class=\"point\"><path d=\"M0,0Z\" style=\"vector-effect: none; opacity: 1; stroke-width: 0px; fill: rgb(99, 110, 250); fill-opacity: 1;\"/></g><g class=\"point\"><path d=\"M0,0Z\" style=\"vector-effect: none; opacity: 1; stroke-width: 0px; fill: rgb(99, 110, 250); fill-opacity: 1;\"/></g><g class=\"point\"><path d=\"M0,0Z\" style=\"vector-effect: none; opacity: 1; stroke-width: 0px; fill: rgb(99, 110, 250); fill-opacity: 1;\"/></g><g class=\"point\"><path d=\"M0,0Z\" style=\"vector-effect: none; opacity: 1; stroke-width: 0px; fill: rgb(99, 110, 250); fill-opacity: 1;\"/></g><g class=\"point\"><path d=\"M-278.1,3360V304H-272.7V3360Z\" style=\"vector-effect: none; opacity: 1; stroke-width: 0px; fill: rgb(99, 110, 250); fill-opacity: 1;\"/></g><g class=\"point\"><path d=\"M0,0Z\" style=\"vector-effect: none; opacity: 1; stroke-width: 0px; fill: rgb(99, 110, 250); fill-opacity: 1;\"/></g><g class=\"point\"><path d=\"M0,0Z\" style=\"vector-effect: none; opacity: 1; stroke-width: 0px; fill: rgb(99, 110, 250); fill-opacity: 1;\"/></g><g class=\"point\"><path d=\"M0,0Z\" style=\"vector-effect: none; opacity: 1; stroke-width: 0px; fill: rgb(99, 110, 250); fill-opacity: 1;\"/></g><g class=\"point\"><path d=\"M0,0Z\" style=\"vector-effect: none; opacity: 1; stroke-width: 0px; fill: rgb(99, 110, 250); fill-opacity: 1;\"/></g><g class=\"point\"><path d=\"M0,0Z\" style=\"vector-effect: none; opacity: 1; stroke-width: 0px; fill: rgb(99, 110, 250); fill-opacity: 1;\"/></g><g class=\"point\"><path d=\"M0,0Z\" style=\"vector-effect: none; opacity: 1; stroke-width: 0px; fill: rgb(99, 110, 250); fill-opacity: 1;\"/></g><g class=\"point\"><path d=\"M0,0Z\" style=\"vector-effect: none; opacity: 1; stroke-width: 0px; fill: rgb(99, 110, 250); fill-opacity: 1;\"/></g><g class=\"point\"><path d=\"M0,0Z\" style=\"vector-effect: none; opacity: 1; stroke-width: 0px; fill: rgb(99, 110, 250); fill-opacity: 1;\"/></g><g class=\"point\"><path d=\"M0,0Z\" style=\"vector-effect: none; opacity: 1; stroke-width: 0px; fill: rgb(99, 110, 250); fill-opacity: 1;\"/></g><g class=\"point\"><path d=\"M-224.1,3360V304H-218.7V3360Z\" style=\"vector-effect: none; opacity: 1; stroke-width: 0px; fill: rgb(99, 110, 250); fill-opacity: 1;\"/></g><g class=\"point\"><path d=\"M-218.7,3360V304H-213.3V3360Z\" style=\"vector-effect: none; opacity: 1; stroke-width: 0px; fill: rgb(99, 110, 250); fill-opacity: 1;\"/></g><g class=\"point\"><path d=\"M0,0Z\" style=\"vector-effect: none; opacity: 1; stroke-width: 0px; fill: rgb(99, 110, 250); fill-opacity: 1;\"/></g><g class=\"point\"><path d=\"M0,0Z\" style=\"vector-effect: none; opacity: 1; stroke-width: 0px; fill: rgb(99, 110, 250); fill-opacity: 1;\"/></g><g class=\"point\"><path d=\"M-202.5,3360V304H-197.1V3360Z\" style=\"vector-effect: none; opacity: 1; stroke-width: 0px; fill: rgb(99, 110, 250); fill-opacity: 1;\"/></g><g class=\"point\"><path d=\"M0,0Z\" style=\"vector-effect: none; opacity: 1; stroke-width: 0px; fill: rgb(99, 110, 250); fill-opacity: 1;\"/></g><g class=\"point\"><path d=\"M0,0Z\" style=\"vector-effect: none; opacity: 1; stroke-width: 0px; fill: rgb(99, 110, 250); fill-opacity: 1;\"/></g><g class=\"point\"><path d=\"M0,0Z\" style=\"vector-effect: none; opacity: 1; stroke-width: 0px; fill: rgb(99, 110, 250); fill-opacity: 1;\"/></g><g class=\"point\"><path d=\"M0,0Z\" style=\"vector-effect: none; opacity: 1; stroke-width: 0px; fill: rgb(99, 110, 250); fill-opacity: 1;\"/></g><g class=\"point\"><path d=\"M0,0Z\" style=\"vector-effect: none; opacity: 1; stroke-width: 0px; fill: rgb(99, 110, 250); fill-opacity: 1;\"/></g><g class=\"point\"><path d=\"M0,0Z\" style=\"vector-effect: none; opacity: 1; stroke-width: 0px; fill: rgb(99, 110, 250); fill-opacity: 1;\"/></g><g class=\"point\"><path d=\"M0,0Z\" style=\"vector-effect: none; opacity: 1; stroke-width: 0px; fill: rgb(99, 110, 250); fill-opacity: 1;\"/></g><g class=\"point\"><path d=\"M0,0Z\" style=\"vector-effect: none; opacity: 1; stroke-width: 0px; fill: rgb(99, 110, 250); fill-opacity: 1;\"/></g><g class=\"point\"><path d=\"M0,0Z\" style=\"vector-effect: none; opacity: 1; stroke-width: 0px; fill: rgb(99, 110, 250); fill-opacity: 1;\"/></g><g class=\"point\"><path d=\"M0,0Z\" style=\"vector-effect: none; opacity: 1; stroke-width: 0px; fill: rgb(99, 110, 250); fill-opacity: 1;\"/></g><g class=\"point\"><path d=\"M0,0Z\" style=\"vector-effect: none; opacity: 1; stroke-width: 0px; fill: rgb(99, 110, 250); fill-opacity: 1;\"/></g><g class=\"point\"><path d=\"M0,0Z\" style=\"vector-effect: none; opacity: 1; stroke-width: 0px; fill: rgb(99, 110, 250); fill-opacity: 1;\"/></g><g class=\"point\"><path d=\"M0,0Z\" style=\"vector-effect: none; opacity: 1; stroke-width: 0px; fill: rgb(99, 110, 250); fill-opacity: 1;\"/></g><g class=\"point\"><path d=\"M0,0Z\" style=\"vector-effect: none; opacity: 1; stroke-width: 0px; fill: rgb(99, 110, 250); fill-opacity: 1;\"/></g><g class=\"point\"><path d=\"M0,0Z\" style=\"vector-effect: none; opacity: 1; stroke-width: 0px; fill: rgb(99, 110, 250); fill-opacity: 1;\"/></g><g class=\"point\"><path d=\"M0,0Z\" style=\"vector-effect: none; opacity: 1; stroke-width: 0px; fill: rgb(99, 110, 250); fill-opacity: 1;\"/></g><g class=\"point\"><path d=\"M0,0Z\" style=\"vector-effect: none; opacity: 1; stroke-width: 0px; fill: rgb(99, 110, 250); fill-opacity: 1;\"/></g><g class=\"point\"><path d=\"M0,0Z\" style=\"vector-effect: none; opacity: 1; stroke-width: 0px; fill: rgb(99, 110, 250); fill-opacity: 1;\"/></g><g class=\"point\"><path d=\"M0,0Z\" style=\"vector-effect: none; opacity: 1; stroke-width: 0px; fill: rgb(99, 110, 250); fill-opacity: 1;\"/></g><g class=\"point\"><path d=\"M0,0Z\" style=\"vector-effect: none; opacity: 1; stroke-width: 0px; fill: rgb(99, 110, 250); fill-opacity: 1;\"/></g><g class=\"point\"><path d=\"M0,0Z\" style=\"vector-effect: none; opacity: 1; stroke-width: 0px; fill: rgb(99, 110, 250); fill-opacity: 1;\"/></g><g class=\"point\"><path d=\"M-83.7,3360V304H-78.3V3360Z\" style=\"vector-effect: none; opacity: 1; stroke-width: 0px; fill: rgb(99, 110, 250); fill-opacity: 1;\"/></g><g class=\"point\"><path d=\"M0,0Z\" style=\"vector-effect: none; opacity: 1; stroke-width: 0px; fill: rgb(99, 110, 250); fill-opacity: 1;\"/></g><g class=\"point\"><path d=\"M0,0Z\" style=\"vector-effect: none; opacity: 1; stroke-width: 0px; fill: rgb(99, 110, 250); fill-opacity: 1;\"/></g><g class=\"point\"><path d=\"M0,0Z\" style=\"vector-effect: none; opacity: 1; stroke-width: 0px; fill: rgb(99, 110, 250); fill-opacity: 1;\"/></g><g class=\"point\"><path d=\"M0,0Z\" style=\"vector-effect: none; opacity: 1; stroke-width: 0px; fill: rgb(99, 110, 250); fill-opacity: 1;\"/></g><g class=\"point\"><path d=\"M0,0Z\" style=\"vector-effect: none; opacity: 1; stroke-width: 0px; fill: rgb(99, 110, 250); fill-opacity: 1;\"/></g><g class=\"point\"><path d=\"M0,0Z\" style=\"vector-effect: none; opacity: 1; stroke-width: 0px; fill: rgb(99, 110, 250); fill-opacity: 1;\"/></g><g class=\"point\"><path d=\"M0,0Z\" style=\"vector-effect: none; opacity: 1; stroke-width: 0px; fill: rgb(99, 110, 250); fill-opacity: 1;\"/></g><g class=\"point\"><path d=\"M0,0Z\" style=\"vector-effect: none; opacity: 1; stroke-width: 0px; fill: rgb(99, 110, 250); fill-opacity: 1;\"/></g><g class=\"point\"><path d=\"M-35.1,3360V304H-29.7V3360Z\" style=\"vector-effect: none; opacity: 1; stroke-width: 0px; fill: rgb(99, 110, 250); fill-opacity: 1;\"/></g><g class=\"point\"><path d=\"M-29.7,3360V304H-24.3V3360Z\" style=\"vector-effect: none; opacity: 1; stroke-width: 0px; fill: rgb(99, 110, 250); fill-opacity: 1;\"/></g><g class=\"point\"><path d=\"M0,0Z\" style=\"vector-effect: none; opacity: 1; stroke-width: 0px; fill: rgb(99, 110, 250); fill-opacity: 1;\"/></g><g class=\"point\"><path d=\"M0,0Z\" style=\"vector-effect: none; opacity: 1; stroke-width: 0px; fill: rgb(99, 110, 250); fill-opacity: 1;\"/></g><g class=\"point\"><path d=\"M0,0Z\" style=\"vector-effect: none; opacity: 1; stroke-width: 0px; fill: rgb(99, 110, 250); fill-opacity: 1;\"/></g><g class=\"point\"><path d=\"M0,0Z\" style=\"vector-effect: none; opacity: 1; stroke-width: 0px; fill: rgb(99, 110, 250); fill-opacity: 1;\"/></g><g class=\"point\"><path d=\"M0,0Z\" style=\"vector-effect: none; opacity: 1; stroke-width: 0px; fill: rgb(99, 110, 250); fill-opacity: 1;\"/></g><g class=\"point\"><path d=\"M0,0Z\" style=\"vector-effect: none; opacity: 1; stroke-width: 0px; fill: rgb(99, 110, 250); fill-opacity: 1;\"/></g><g class=\"point\"><path d=\"M8.1,3360V304H13.5V3360Z\" style=\"vector-effect: none; opacity: 1; stroke-width: 0px; fill: rgb(99, 110, 250); fill-opacity: 1;\"/></g><g class=\"point\"><path d=\"M13.5,3360V304H18.9V3360Z\" style=\"vector-effect: none; opacity: 1; stroke-width: 0px; fill: rgb(99, 110, 250); fill-opacity: 1;\"/></g><g class=\"point\"><path d=\"M18.9,3360V280.83H24.3V3360Z\" style=\"vector-effect: none; opacity: 1; stroke-width: 0px; fill: rgb(99, 110, 250); fill-opacity: 1;\"/></g><g class=\"point\"><path d=\"M0,0Z\" style=\"vector-effect: none; opacity: 1; stroke-width: 0px; fill: rgb(99, 110, 250); fill-opacity: 1;\"/></g><g class=\"point\"><path d=\"M0,0Z\" style=\"vector-effect: none; opacity: 1; stroke-width: 0px; fill: rgb(99, 110, 250); fill-opacity: 1;\"/></g><g class=\"point\"><path d=\"M0,0Z\" style=\"vector-effect: none; opacity: 1; stroke-width: 0px; fill: rgb(99, 110, 250); fill-opacity: 1;\"/></g><g class=\"point\"><path d=\"M40.5,3360V304H45.9V3360Z\" style=\"vector-effect: none; opacity: 1; stroke-width: 0px; fill: rgb(99, 110, 250); fill-opacity: 1;\"/></g><g class=\"point\"><path d=\"M45.9,3360V304H51.3V3360Z\" style=\"vector-effect: none; opacity: 1; stroke-width: 0px; fill: rgb(99, 110, 250); fill-opacity: 1;\"/></g><g class=\"point\"><path d=\"M51.3,3360V289.38H56.7V3360Z\" style=\"vector-effect: none; opacity: 1; stroke-width: 0px; fill: rgb(99, 110, 250); fill-opacity: 1;\"/></g><g class=\"point\"><path d=\"M56.7,3360V289.38H62.1V3360Z\" style=\"vector-effect: none; opacity: 1; stroke-width: 0px; fill: rgb(99, 110, 250); fill-opacity: 1;\"/></g><g class=\"point\"><path d=\"M62.1,3360V304H67.5V3360Z\" style=\"vector-effect: none; opacity: 1; stroke-width: 0px; fill: rgb(99, 110, 250); fill-opacity: 1;\"/></g><g class=\"point\"><path d=\"M0,0Z\" style=\"vector-effect: none; opacity: 1; stroke-width: 0px; fill: rgb(99, 110, 250); fill-opacity: 1;\"/></g><g class=\"point\"><path d=\"M72.9,3360V280.83H78.3V3360Z\" style=\"vector-effect: none; opacity: 1; stroke-width: 0px; fill: rgb(99, 110, 250); fill-opacity: 1;\"/></g><g class=\"point\"><path d=\"M78.3,3360V304H83.7V3360Z\" style=\"vector-effect: none; opacity: 1; stroke-width: 0px; fill: rgb(99, 110, 250); fill-opacity: 1;\"/></g><g class=\"point\"><path d=\"M83.7,3360V289.38H89.1V3360Z\" style=\"vector-effect: none; opacity: 1; stroke-width: 0px; fill: rgb(99, 110, 250); fill-opacity: 1;\"/></g><g class=\"point\"><path d=\"M89.1,3360V280.83H94.5V3360Z\" style=\"vector-effect: none; opacity: 1; stroke-width: 0px; fill: rgb(99, 110, 250); fill-opacity: 1;\"/></g><g class=\"point\"><path d=\"M94.5,3360V260.14H99.9V3360Z\" style=\"vector-effect: none; opacity: 1; stroke-width: 0px; fill: rgb(99, 110, 250); fill-opacity: 1;\"/></g><g class=\"point\"><path d=\"M99.9,3360V266.21H105.3V3360Z\" style=\"vector-effect: none; opacity: 1; stroke-width: 0px; fill: rgb(99, 110, 250); fill-opacity: 1;\"/></g><g class=\"point\"><path d=\"M105.3,3360V280.83H110.7V3360Z\" style=\"vector-effect: none; opacity: 1; stroke-width: 0px; fill: rgb(99, 110, 250); fill-opacity: 1;\"/></g><g class=\"point\"><path d=\"M110.7,3360V270.05H116.1V3360Z\" style=\"vector-effect: none; opacity: 1; stroke-width: 0px; fill: rgb(99, 110, 250); fill-opacity: 1;\"/></g><g class=\"point\"><path d=\"M116.1,3360V304H121.5V3360Z\" style=\"vector-effect: none; opacity: 1; stroke-width: 0px; fill: rgb(99, 110, 250); fill-opacity: 1;\"/></g><g class=\"point\"><path d=\"M121.5,3360V280.83H126.9V3360Z\" style=\"vector-effect: none; opacity: 1; stroke-width: 0px; fill: rgb(99, 110, 250); fill-opacity: 1;\"/></g><g class=\"point\"><path d=\"M126.9,3360V280.83H132.3V3360Z\" style=\"vector-effect: none; opacity: 1; stroke-width: 0px; fill: rgb(99, 110, 250); fill-opacity: 1;\"/></g><g class=\"point\"><path d=\"M132.3,3360V266.21H137.7V3360Z\" style=\"vector-effect: none; opacity: 1; stroke-width: 0px; fill: rgb(99, 110, 250); fill-opacity: 1;\"/></g><g class=\"point\"><path d=\"M137.7,3360V260.14H143.1V3360Z\" style=\"vector-effect: none; opacity: 1; stroke-width: 0px; fill: rgb(99, 110, 250); fill-opacity: 1;\"/></g><g class=\"point\"><path d=\"M143.1,3360V253.42H148.5V3360Z\" style=\"vector-effect: none; opacity: 1; stroke-width: 0px; fill: rgb(99, 110, 250); fill-opacity: 1;\"/></g><g class=\"point\"><path d=\"M148.5,3360V249.9H153.9V3360Z\" style=\"vector-effect: none; opacity: 1; stroke-width: 0px; fill: rgb(99, 110, 250); fill-opacity: 1;\"/></g><g class=\"point\"><path d=\"M153.9,3360V257.65H159.3V3360Z\" style=\"vector-effect: none; opacity: 1; stroke-width: 0px; fill: rgb(99, 110, 250); fill-opacity: 1;\"/></g><g class=\"point\"><path d=\"M159.3,3360V251.59H164.7V3360Z\" style=\"vector-effect: none; opacity: 1; stroke-width: 0px; fill: rgb(99, 110, 250); fill-opacity: 1;\"/></g><g class=\"point\"><path d=\"M164.7,3360V243.03H170.1V3360Z\" style=\"vector-effect: none; opacity: 1; stroke-width: 0px; fill: rgb(99, 110, 250); fill-opacity: 1;\"/></g><g class=\"point\"><path d=\"M170.1,3360V241.89H175.5V3360Z\" style=\"vector-effect: none; opacity: 1; stroke-width: 0px; fill: rgb(99, 110, 250); fill-opacity: 1;\"/></g><g class=\"point\"><path d=\"M175.5,3360V245.52H180.9V3360Z\" style=\"vector-effect: none; opacity: 1; stroke-width: 0px; fill: rgb(99, 110, 250); fill-opacity: 1;\"/></g><g class=\"point\"><path d=\"M180.9,3360V236.96H186.3V3360Z\" style=\"vector-effect: none; opacity: 1; stroke-width: 0px; fill: rgb(99, 110, 250); fill-opacity: 1;\"/></g><g class=\"point\"><path d=\"M186.3,3360V230.25H191.7V3360Z\" style=\"vector-effect: none; opacity: 1; stroke-width: 0px; fill: rgb(99, 110, 250); fill-opacity: 1;\"/></g><g class=\"point\"><path d=\"M191.7,3360V225.67H197.1V3360Z\" style=\"vector-effect: none; opacity: 1; stroke-width: 0px; fill: rgb(99, 110, 250); fill-opacity: 1;\"/></g><g class=\"point\"><path d=\"M197.1,3360V220.25H202.5V3360Z\" style=\"vector-effect: none; opacity: 1; stroke-width: 0px; fill: rgb(99, 110, 250); fill-opacity: 1;\"/></g><g class=\"point\"><path d=\"M202.5,3360V213.79H207.9V3360Z\" style=\"vector-effect: none; opacity: 1; stroke-width: 0px; fill: rgb(99, 110, 250); fill-opacity: 1;\"/></g><g class=\"point\"><path d=\"M207.9,3360V207.94H213.3V3360Z\" style=\"vector-effect: none; opacity: 1; stroke-width: 0px; fill: rgb(99, 110, 250); fill-opacity: 1;\"/></g><g class=\"point\"><path d=\"M213.3,3360V196.82H218.7V3360Z\" style=\"vector-effect: none; opacity: 1; stroke-width: 0px; fill: rgb(99, 110, 250); fill-opacity: 1;\"/></g><g class=\"point\"><path d=\"M218.7,3360V193.43H224.1V3360Z\" style=\"vector-effect: none; opacity: 1; stroke-width: 0px; fill: rgb(99, 110, 250); fill-opacity: 1;\"/></g><g class=\"point\"><path d=\"M224.1,3360V183.76H229.5V3360Z\" style=\"vector-effect: none; opacity: 1; stroke-width: 0px; fill: rgb(99, 110, 250); fill-opacity: 1;\"/></g><g class=\"point\"><path d=\"M229.5,3360V175.61H234.9V3360Z\" style=\"vector-effect: none; opacity: 1; stroke-width: 0px; fill: rgb(99, 110, 250); fill-opacity: 1;\"/></g><g class=\"point\"><path d=\"M234.9,3360V166.96H240.3V3360Z\" style=\"vector-effect: none; opacity: 1; stroke-width: 0px; fill: rgb(99, 110, 250); fill-opacity: 1;\"/></g><g class=\"point\"><path d=\"M240.3,3360V153.76H245.7V3360Z\" style=\"vector-effect: none; opacity: 1; stroke-width: 0px; fill: rgb(99, 110, 250); fill-opacity: 1;\"/></g><g class=\"point\"><path d=\"M245.7,3360V140.78H251.1V3360Z\" style=\"vector-effect: none; opacity: 1; stroke-width: 0px; fill: rgb(99, 110, 250); fill-opacity: 1;\"/></g><g class=\"point\"><path d=\"M251.1,3360V123.79H256.5V3360Z\" style=\"vector-effect: none; opacity: 1; stroke-width: 0px; fill: rgb(99, 110, 250); fill-opacity: 1;\"/></g><g class=\"point\"><path d=\"M256.5,3360V100.76H261.9V3360Z\" style=\"vector-effect: none; opacity: 1; stroke-width: 0px; fill: rgb(99, 110, 250); fill-opacity: 1;\"/></g><g class=\"point\"><path d=\"M261.9,3360V68.11H267.3V3360Z\" style=\"vector-effect: none; opacity: 1; stroke-width: 0px; fill: rgb(99, 110, 250); fill-opacity: 1;\"/></g><g class=\"point\"><path d=\"M267.3,3360V16H272.7V3360Z\" style=\"vector-effect: none; opacity: 1; stroke-width: 0px; fill: rgb(99, 110, 250); fill-opacity: 1;\"/></g><g class=\"point\"><path d=\"M272.7,3360V108.89H278.1V3360Z\" style=\"vector-effect: none; opacity: 1; stroke-width: 0px; fill: rgb(99, 110, 250); fill-opacity: 1;\"/></g><g class=\"point\"><path d=\"M278.1,3360V139.2H283.5V3360Z\" style=\"vector-effect: none; opacity: 1; stroke-width: 0px; fill: rgb(99, 110, 250); fill-opacity: 1;\"/></g><g class=\"point\"><path d=\"M283.5,3360V159.33H288.9V3360Z\" style=\"vector-effect: none; opacity: 1; stroke-width: 0px; fill: rgb(99, 110, 250); fill-opacity: 1;\"/></g><g class=\"point\"><path d=\"M288.9,3360V173.82H294.3V3360Z\" style=\"vector-effect: none; opacity: 1; stroke-width: 0px; fill: rgb(99, 110, 250); fill-opacity: 1;\"/></g><g class=\"point\"><path d=\"M294.3,3360V185.22H299.7V3360Z\" style=\"vector-effect: none; opacity: 1; stroke-width: 0px; fill: rgb(99, 110, 250); fill-opacity: 1;\"/></g><g class=\"point\"><path d=\"M299.7,3360V195.67H305.1V3360Z\" style=\"vector-effect: none; opacity: 1; stroke-width: 0px; fill: rgb(99, 110, 250); fill-opacity: 1;\"/></g><g class=\"point\"><path d=\"M305.1,3360V204.28H310.5V3360Z\" style=\"vector-effect: none; opacity: 1; stroke-width: 0px; fill: rgb(99, 110, 250); fill-opacity: 1;\"/></g><g class=\"point\"><path d=\"M310.5,3360V205.63H315.9V3360Z\" style=\"vector-effect: none; opacity: 1; stroke-width: 0px; fill: rgb(99, 110, 250); fill-opacity: 1;\"/></g><g class=\"point\"><path d=\"M315.9,3360V212.65H321.3V3360Z\" style=\"vector-effect: none; opacity: 1; stroke-width: 0px; fill: rgb(99, 110, 250); fill-opacity: 1;\"/></g><g class=\"point\"><path d=\"M321.3,3360V219.86H326.7V3360Z\" style=\"vector-effect: none; opacity: 1; stroke-width: 0px; fill: rgb(99, 110, 250); fill-opacity: 1;\"/></g><g class=\"point\"><path d=\"M326.7,3360V228.41H332.1V3360Z\" style=\"vector-effect: none; opacity: 1; stroke-width: 0px; fill: rgb(99, 110, 250); fill-opacity: 1;\"/></g><g class=\"point\"><path d=\"M332.1,3360V230.25H337.5V3360Z\" style=\"vector-effect: none; opacity: 1; stroke-width: 0px; fill: rgb(99, 110, 250); fill-opacity: 1;\"/></g><g class=\"point\"><path d=\"M337.5,3360V243.03H342.9V3360Z\" style=\"vector-effect: none; opacity: 1; stroke-width: 0px; fill: rgb(99, 110, 250); fill-opacity: 1;\"/></g><g class=\"point\"><path d=\"M342.9,3360V241.89H348.3V3360Z\" style=\"vector-effect: none; opacity: 1; stroke-width: 0px; fill: rgb(99, 110, 250); fill-opacity: 1;\"/></g><g class=\"point\"><path d=\"M348.3,3360V243.03H353.7V3360Z\" style=\"vector-effect: none; opacity: 1; stroke-width: 0px; fill: rgb(99, 110, 250); fill-opacity: 1;\"/></g><g class=\"point\"><path d=\"M353.7,3360V245.52H359.1V3360Z\" style=\"vector-effect: none; opacity: 1; stroke-width: 0px; fill: rgb(99, 110, 250); fill-opacity: 1;\"/></g><g class=\"point\"><path d=\"M359.1,3360V255.43H364.5V3360Z\" style=\"vector-effect: none; opacity: 1; stroke-width: 0px; fill: rgb(99, 110, 250); fill-opacity: 1;\"/></g><g class=\"point\"><path d=\"M364.5,3360V251.59H369.9V3360Z\" style=\"vector-effect: none; opacity: 1; stroke-width: 0px; fill: rgb(99, 110, 250); fill-opacity: 1;\"/></g><g class=\"point\"><path d=\"M369.9,3360V260.14H375.3V3360Z\" style=\"vector-effect: none; opacity: 1; stroke-width: 0px; fill: rgb(99, 110, 250); fill-opacity: 1;\"/></g><g class=\"point\"><path d=\"M375.3,3360V253.42H380.7V3360Z\" style=\"vector-effect: none; opacity: 1; stroke-width: 0px; fill: rgb(99, 110, 250); fill-opacity: 1;\"/></g><g class=\"point\"><path d=\"M380.7,3360V262.95H386.1V3360Z\" style=\"vector-effect: none; opacity: 1; stroke-width: 0px; fill: rgb(99, 110, 250); fill-opacity: 1;\"/></g><g class=\"point\"><path d=\"M386.1,3360V255.43H391.5V3360Z\" style=\"vector-effect: none; opacity: 1; stroke-width: 0px; fill: rgb(99, 110, 250); fill-opacity: 1;\"/></g><g class=\"point\"><path d=\"M391.5,3360V270.05H396.9V3360Z\" style=\"vector-effect: none; opacity: 1; stroke-width: 0px; fill: rgb(99, 110, 250); fill-opacity: 1;\"/></g><g class=\"point\"><path d=\"M396.9,3360V270.05H402.3V3360Z\" style=\"vector-effect: none; opacity: 1; stroke-width: 0px; fill: rgb(99, 110, 250); fill-opacity: 1;\"/></g><g class=\"point\"><path d=\"M402.3,3360V274.76H407.7V3360Z\" style=\"vector-effect: none; opacity: 1; stroke-width: 0px; fill: rgb(99, 110, 250); fill-opacity: 1;\"/></g><g class=\"point\"><path d=\"M407.7,3360V274.76H413.1V3360Z\" style=\"vector-effect: none; opacity: 1; stroke-width: 0px; fill: rgb(99, 110, 250); fill-opacity: 1;\"/></g><g class=\"point\"><path d=\"M413.1,3360V280.83H418.5V3360Z\" style=\"vector-effect: none; opacity: 1; stroke-width: 0px; fill: rgb(99, 110, 250); fill-opacity: 1;\"/></g><g class=\"point\"><path d=\"M418.5,3360V274.76H423.9V3360Z\" style=\"vector-effect: none; opacity: 1; stroke-width: 0px; fill: rgb(99, 110, 250); fill-opacity: 1;\"/></g><g class=\"point\"><path d=\"M423.9,3360V280.83H429.3V3360Z\" style=\"vector-effect: none; opacity: 1; stroke-width: 0px; fill: rgb(99, 110, 250); fill-opacity: 1;\"/></g><g class=\"point\"><path d=\"M429.3,3360V270.05H434.7V3360Z\" style=\"vector-effect: none; opacity: 1; stroke-width: 0px; fill: rgb(99, 110, 250); fill-opacity: 1;\"/></g><g class=\"point\"><path d=\"M434.7,3360V274.76H440.1V3360Z\" style=\"vector-effect: none; opacity: 1; stroke-width: 0px; fill: rgb(99, 110, 250); fill-opacity: 1;\"/></g><g class=\"point\"><path d=\"M440.1,3360V274.76H445.5V3360Z\" style=\"vector-effect: none; opacity: 1; stroke-width: 0px; fill: rgb(99, 110, 250); fill-opacity: 1;\"/></g><g class=\"point\"><path d=\"M0,0Z\" style=\"vector-effect: none; opacity: 1; stroke-width: 0px; fill: rgb(99, 110, 250); fill-opacity: 1;\"/></g><g class=\"point\"><path d=\"M450.9,3360V289.38H456.3V3360Z\" style=\"vector-effect: none; opacity: 1; stroke-width: 0px; fill: rgb(99, 110, 250); fill-opacity: 1;\"/></g><g class=\"point\"><path d=\"M456.3,3360V289.38H461.7V3360Z\" style=\"vector-effect: none; opacity: 1; stroke-width: 0px; fill: rgb(99, 110, 250); fill-opacity: 1;\"/></g><g class=\"point\"><path d=\"M461.7,3360V289.38H467.1V3360Z\" style=\"vector-effect: none; opacity: 1; stroke-width: 0px; fill: rgb(99, 110, 250); fill-opacity: 1;\"/></g><g class=\"point\"><path d=\"M467.1,3360V304H472.5V3360Z\" style=\"vector-effect: none; opacity: 1; stroke-width: 0px; fill: rgb(99, 110, 250); fill-opacity: 1;\"/></g><g class=\"point\"><path d=\"M472.5,3360V304H477.9V3360Z\" style=\"vector-effect: none; opacity: 1; stroke-width: 0px; fill: rgb(99, 110, 250); fill-opacity: 1;\"/></g><g class=\"point\"><path d=\"M477.9,3360V304H483.3V3360Z\" style=\"vector-effect: none; opacity: 1; stroke-width: 0px; fill: rgb(99, 110, 250); fill-opacity: 1;\"/></g><g class=\"point\"><path d=\"M0,0Z\" style=\"vector-effect: none; opacity: 1; stroke-width: 0px; fill: rgb(99, 110, 250); fill-opacity: 1;\"/></g><g class=\"point\"><path d=\"M488.7,3360V289.38H494.1V3360Z\" style=\"vector-effect: none; opacity: 1; stroke-width: 0px; fill: rgb(99, 110, 250); fill-opacity: 1;\"/></g><g class=\"point\"><path d=\"M0,0Z\" style=\"vector-effect: none; opacity: 1; stroke-width: 0px; fill: rgb(99, 110, 250); fill-opacity: 1;\"/></g><g class=\"point\"><path d=\"M499.5,3360V289.38H504.9V3360Z\" style=\"vector-effect: none; opacity: 1; stroke-width: 0px; fill: rgb(99, 110, 250); fill-opacity: 1;\"/></g><g class=\"point\"><path d=\"M0,0Z\" style=\"vector-effect: none; opacity: 1; stroke-width: 0px; fill: rgb(99, 110, 250); fill-opacity: 1;\"/></g><g class=\"point\"><path d=\"M0,0Z\" style=\"vector-effect: none; opacity: 1; stroke-width: 0px; fill: rgb(99, 110, 250); fill-opacity: 1;\"/></g><g class=\"point\"><path d=\"M0,0Z\" style=\"vector-effect: none; opacity: 1; stroke-width: 0px; fill: rgb(99, 110, 250); fill-opacity: 1;\"/></g><g class=\"point\"><path d=\"M0,0Z\" style=\"vector-effect: none; opacity: 1; stroke-width: 0px; fill: rgb(99, 110, 250); fill-opacity: 1;\"/></g><g class=\"point\"><path d=\"M526.5,3360V304H531.9V3360Z\" style=\"vector-effect: none; opacity: 1; stroke-width: 0px; fill: rgb(99, 110, 250); fill-opacity: 1;\"/></g><g class=\"point\"><path d=\"M531.9,3360V304H537.3V3360Z\" style=\"vector-effect: none; opacity: 1; stroke-width: 0px; fill: rgb(99, 110, 250); fill-opacity: 1;\"/></g><g class=\"point\"><path d=\"M537.3,3360V304H542.7V3360Z\" style=\"vector-effect: none; opacity: 1; stroke-width: 0px; fill: rgb(99, 110, 250); fill-opacity: 1;\"/></g><g class=\"point\"><path d=\"M542.7,3360V304H548.1V3360Z\" style=\"vector-effect: none; opacity: 1; stroke-width: 0px; fill: rgb(99, 110, 250); fill-opacity: 1;\"/></g><g class=\"point\"><path d=\"M0,0Z\" style=\"vector-effect: none; opacity: 1; stroke-width: 0px; fill: rgb(99, 110, 250); fill-opacity: 1;\"/></g><g class=\"point\"><path d=\"M553.5,3360V304H558.9V3360Z\" style=\"vector-effect: none; opacity: 1; stroke-width: 0px; fill: rgb(99, 110, 250); fill-opacity: 1;\"/></g><g class=\"point\"><path d=\"M0,0Z\" style=\"vector-effect: none; opacity: 1; stroke-width: 0px; fill: rgb(99, 110, 250); fill-opacity: 1;\"/></g><g class=\"point\"><path d=\"M564.3,3360V304H569.7V3360Z\" style=\"vector-effect: none; opacity: 1; stroke-width: 0px; fill: rgb(99, 110, 250); fill-opacity: 1;\"/></g><g class=\"point\"><path d=\"M0,0Z\" style=\"vector-effect: none; opacity: 1; stroke-width: 0px; fill: rgb(99, 110, 250); fill-opacity: 1;\"/></g><g class=\"point\"><path d=\"M0,0Z\" style=\"vector-effect: none; opacity: 1; stroke-width: 0px; fill: rgb(99, 110, 250); fill-opacity: 1;\"/></g><g class=\"point\"><path d=\"M0,0Z\" style=\"vector-effect: none; opacity: 1; stroke-width: 0px; fill: rgb(99, 110, 250); fill-opacity: 1;\"/></g><g class=\"point\"><path d=\"M0,0Z\" style=\"vector-effect: none; opacity: 1; stroke-width: 0px; fill: rgb(99, 110, 250); fill-opacity: 1;\"/></g><g class=\"point\"><path d=\"M591.3,3360V304H596.7V3360Z\" style=\"vector-effect: none; opacity: 1; stroke-width: 0px; fill: rgb(99, 110, 250); fill-opacity: 1;\"/></g><g class=\"point\"><path d=\"M0,0Z\" style=\"vector-effect: none; opacity: 1; stroke-width: 0px; fill: rgb(99, 110, 250); fill-opacity: 1;\"/></g><g class=\"point\"><path d=\"M0,0Z\" style=\"vector-effect: none; opacity: 1; stroke-width: 0px; fill: rgb(99, 110, 250); fill-opacity: 1;\"/></g><g class=\"point\"><path d=\"M607.5,3360V304H612.9V3360Z\" style=\"vector-effect: none; opacity: 1; stroke-width: 0px; fill: rgb(99, 110, 250); fill-opacity: 1;\"/></g></g></g></g></g><g class=\"overplot\"/><path class=\"xlines-above crisp\" d=\"M0,0\" style=\"fill: none;\"/><path class=\"ylines-above crisp\" d=\"M0,0\" style=\"fill: none;\"/><g class=\"overlines-above\"/><g class=\"xaxislayer-above\"><g class=\"xtick\"><text text-anchor=\"middle\" x=\"0\" y=\"433\" transform=\"translate(134,0)\" style=\"font-family: 'Open Sans', verdana, arial, sans-serif; font-size: 12px; fill: rgb(42, 63, 95); fill-opacity: 1; white-space: pre; opacity: 1;\">−40</text></g><g class=\"xtick\"><text text-anchor=\"middle\" x=\"0\" y=\"433\" style=\"font-family: 'Open Sans', verdana, arial, sans-serif; font-size: 12px; fill: rgb(42, 63, 95); fill-opacity: 1; white-space: pre; opacity: 1;\" transform=\"translate(242,0)\">−20</text></g><g class=\"xtick\"><text text-anchor=\"middle\" x=\"0\" y=\"433\" style=\"font-family: 'Open Sans', verdana, arial, sans-serif; font-size: 12px; fill: rgb(42, 63, 95); fill-opacity: 1; white-space: pre; opacity: 1;\" transform=\"translate(350,0)\">0</text></g><g class=\"xtick\"><text text-anchor=\"middle\" x=\"0\" y=\"433\" style=\"font-family: 'Open Sans', verdana, arial, sans-serif; font-size: 12px; fill: rgb(42, 63, 95); fill-opacity: 1; white-space: pre; opacity: 1;\" transform=\"translate(458,0)\">20</text></g><g class=\"xtick\"><text text-anchor=\"middle\" x=\"0\" y=\"433\" style=\"font-family: 'Open Sans', verdana, arial, sans-serif; font-size: 12px; fill: rgb(42, 63, 95); fill-opacity: 1; white-space: pre; opacity: 1;\" transform=\"translate(566,0)\">40</text></g></g><g class=\"yaxislayer-above\"><g class=\"ytick\"><text text-anchor=\"end\" x=\"79\" y=\"4.199999999999999\" transform=\"translate(0,404.77)\" style=\"font-family: 'Open Sans', verdana, arial, sans-serif; font-size: 12px; fill: rgb(42, 63, 95); fill-opacity: 1; white-space: pre; opacity: 1;\">1μ</text></g><g class=\"ytick\"><text text-anchor=\"end\" x=\"79\" y=\"4.199999999999999\" style=\"font-family: 'Open Sans', verdana, arial, sans-serif; font-size: 12px; fill: rgb(42, 63, 95); fill-opacity: 1; white-space: pre; opacity: 1;\" transform=\"translate(0,356.2)\">10μ</text></g><g class=\"ytick\"><text text-anchor=\"end\" x=\"79\" y=\"4.199999999999999\" style=\"font-family: 'Open Sans', verdana, arial, sans-serif; font-size: 12px; fill: rgb(42, 63, 95); fill-opacity: 1; white-space: pre; opacity: 1;\" transform=\"translate(0,307.63)\">100μ</text></g><g class=\"ytick\"><text text-anchor=\"end\" x=\"79\" y=\"4.199999999999999\" style=\"font-family: 'Open Sans', verdana, arial, sans-serif; font-size: 12px; fill: rgb(42, 63, 95); fill-opacity: 1; white-space: pre; opacity: 1;\" transform=\"translate(0,259.06)\">0.001</text></g><g class=\"ytick\"><text text-anchor=\"end\" x=\"79\" y=\"4.199999999999999\" style=\"font-family: 'Open Sans', verdana, arial, sans-serif; font-size: 12px; fill: rgb(42, 63, 95); fill-opacity: 1; white-space: pre; opacity: 1;\" transform=\"translate(0,210.5)\">0.01</text></g><g class=\"ytick\"><text text-anchor=\"end\" x=\"79\" y=\"4.199999999999999\" style=\"font-family: 'Open Sans', verdana, arial, sans-serif; font-size: 12px; fill: rgb(42, 63, 95); fill-opacity: 1; white-space: pre; opacity: 1;\" transform=\"translate(0,161.93)\">0.1</text></g><g class=\"ytick\"><text text-anchor=\"end\" x=\"79\" y=\"4.199999999999999\" style=\"font-family: 'Open Sans', verdana, arial, sans-serif; font-size: 12px; fill: rgb(42, 63, 95); fill-opacity: 1; white-space: pre; opacity: 1;\" transform=\"translate(0,113.36)\">1</text></g></g><g class=\"overaxes-above\"/></g></g><g class=\"polarlayer\"/><g class=\"smithlayer\"/><g class=\"ternarylayer\"/><g class=\"geolayer\"/><g class=\"funnelarealayer\"/><g class=\"pielayer\"/><g class=\"iciclelayer\"/><g class=\"treemaplayer\"/><g class=\"sunburstlayer\"/><g class=\"glimages\"/><defs id=\"topdefs-03dc84\"><g class=\"clips\"/></defs><g class=\"layer-above\"><g class=\"imagelayer\"/><g class=\"shapelayer\"/></g><g class=\"infolayer\"><g class=\"g-gtitle\"><text class=\"gtitle\" x=\"35\" y=\"50\" text-anchor=\"start\" dy=\"0em\" style=\"font-family: 'Open Sans', verdana, arial, sans-serif; font-size: 17px; fill: rgb(42, 63, 95); opacity: 1; font-weight: normal; white-space: pre;\">Error distribution</text></g><g class=\"g-xtitle\"><text class=\"xtitle\" x=\"350\" y=\"460.3\" text-anchor=\"middle\" style=\"font-family: 'Open Sans', verdana, arial, sans-serif; font-size: 14px; fill: rgb(42, 63, 95); opacity: 1; font-weight: normal; white-space: pre;\">Error (pred - true)</text></g><g class=\"g-ytitle\"><text class=\"ytitle\" transform=\"rotate(-90,19.809375000000003,260)\" x=\"19.809375000000003\" y=\"260\" text-anchor=\"middle\" style=\"font-family: 'Open Sans', verdana, arial, sans-serif; font-size: 14px; fill: rgb(42, 63, 95); opacity: 1; font-weight: normal; white-space: pre;\">Count</text></g></g></svg>"
      ]
     },
     "metadata": {},
     "output_type": "display_data"
    }
   ],
   "source": [
    "# Error dist\n",
    "errors = pred_ - y_\n",
    "fig = go.Figure(\n",
    "    go.Histogram(x=errors, histnorm='probability'),\n",
    "    layout=dict(title='Error distribution', xaxis_title='Error (pred - true)', yaxis_title='Count',\n",
    "                width=700, height=500, yaxis_type='log', xaxis_range=(-50, 50))\n",
    ")\n",
    "fig.show('svg')"
   ]
  },
  {
   "cell_type": "markdown",
   "metadata": {},
   "source": [
    "## Test Eval"
   ]
  },
  {
   "cell_type": "code",
   "execution_count": 55,
   "metadata": {},
   "outputs": [
    {
     "name": "stdout",
     "output_type": "stream",
     "text": [
      "making Database object from raw files...\n",
      "Loading data from: /Users/adobles/Library/Caches/pooch/25a03b9a227fa6fadbd949a4ea4721f2-relbench-stackex-raw/math-stackex-temp\n"
     ]
    },
    {
     "name": "stderr",
     "output_type": "stream",
     "text": [
      "/Users/adobles/projects/snap/relbench/relbench/datasets/math_stackex.py:56: DtypeWarning:\n",
      "\n",
      "Columns (0,1,2,3,5) have mixed types. Specify dtype option on import or set low_memory=False.\n",
      "\n",
      "/Users/adobles/projects/snap/relbench/relbench/datasets/math_stackex.py:62: DtypeWarning:\n",
      "\n",
      "Columns (1) have mixed types. Specify dtype option on import or set low_memory=False.\n",
      "\n"
     ]
    },
    {
     "name": "stdout",
     "output_type": "stream",
     "text": [
      "Data loaded\n",
      "Percentage of rows removed due to invalid dates: 4.21%\n",
      "Percentage of rows removed due to invalid dates: 0.00%\n",
      "Percentage of rows removed due to invalid dates: 0.00%\n",
      "Percentage of rows removed due to invalid dates: 0.00%\n",
      "Percentage of rows removed due to invalid dates: 0.00%\n",
      "Percentage of rows removed due to invalid dates: 0.00%\n",
      "Percentage of rows removed due to invalid dates: 0.00%\n",
      "done in 238.93 seconds.\n",
      "reindexing pkeys and fkeys...\n",
      "done in 50.94 seconds.\n"
     ]
    }
   ],
   "source": [
    "from relbench.datasets import get_dataset\n",
    "\n",
    "task = (\n",
    "    get_dataset('rel-math-stackex', process=True)\n",
    "    .get_task('rel-stackex-votes', process=True)\n",
    ")"
   ]
  },
  {
   "cell_type": "code",
   "execution_count": 56,
   "metadata": {},
   "outputs": [],
   "source": [
    "test_df = conn.sql('select * from votes_test_feats').df()\n",
    "test_tf = train_dset.convert_to_tensor_frame(test_df.drop(DROP_COLS, axis=1))"
   ]
  },
  {
   "cell_type": "code",
   "execution_count": 58,
   "metadata": {},
   "outputs": [],
   "source": [
    "pred = gbdt.predict(tf_test=test_tf)\n",
    "preds = {pid: p for pid, p in zip(test_df.post_id, pred)}\n",
    "pred = np.array([preds[pid] for pid in task.test_table.df.PostId])"
   ]
  },
  {
   "cell_type": "code",
   "execution_count": 59,
   "metadata": {},
   "outputs": [
    {
     "name": "stderr",
     "output_type": "stream",
     "text": [
      "/Users/adobles/opt/anaconda3/envs/relbench/lib/python3.11/site-packages/sklearn/metrics/_regression.py:483: FutureWarning:\n",
      "\n",
      "'squared' is deprecated in version 1.4 and will be removed in 1.6. To calculate the root mean squared error, use the function'root_mean_squared_error'.\n",
      "\n"
     ]
    },
    {
     "data": {
      "text/plain": [
       "{'mae': 0.15886062515964644, 'rmse': 0.7749784990793586}"
      ]
     },
     "execution_count": 59,
     "metadata": {},
     "output_type": "execute_result"
    }
   ],
   "source": [
    "task.evaluate(pred)"
   ]
  },
  {
   "cell_type": "code",
   "execution_count": null,
   "metadata": {},
   "outputs": [],
   "source": []
  }
 ],
 "metadata": {
  "kernelspec": {
   "display_name": "relbench",
   "language": "python",
   "name": "python3"
  },
  "language_info": {
   "codemirror_mode": {
    "name": "ipython",
    "version": 3
   },
   "file_extension": ".py",
   "mimetype": "text/x-python",
   "name": "python",
   "nbconvert_exporter": "python",
   "pygments_lexer": "ipython3",
   "version": "3.11.8"
  }
 },
 "nbformat": 4,
 "nbformat_minor": 2
}
